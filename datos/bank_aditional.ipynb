{
 "cells": [
  {
   "cell_type": "markdown",
   "metadata": {},
   "source": [
    "## A lo largo de este proyecto vamos a cubrir cubrir los siguientes puntos:\n",
    "\n",
    "- EDA preliminar.\n",
    "- Transformación y limpieza de los datos.\n",
    "- Análisis descriptivo de los datos.\n",
    "- Visualización de los datos.\n",
    "- Informe explicativo del análisis.\n"
   ]
  },
  {
   "cell_type": "markdown",
   "metadata": {},
   "source": [
    "# EDA preliminar para saber que limpiar."
   ]
  },
  {
   "cell_type": "code",
   "execution_count": 206,
   "metadata": {},
   "outputs": [],
   "source": [
    "# Lo primero importar la libreria de PANDAS (Biblioteca de Python para el análisis y manipulaciónn de datos)\n",
    "import pandas as pd\n",
    "import numpy as np\n"
   ]
  },
  {
   "cell_type": "code",
   "execution_count": 207,
   "metadata": {},
   "outputs": [
    {
     "data": {
      "text/html": [
       "<div>\n",
       "<style scoped>\n",
       "    .dataframe tbody tr th:only-of-type {\n",
       "        vertical-align: middle;\n",
       "    }\n",
       "\n",
       "    .dataframe tbody tr th {\n",
       "        vertical-align: top;\n",
       "    }\n",
       "\n",
       "    .dataframe thead th {\n",
       "        text-align: right;\n",
       "    }\n",
       "</style>\n",
       "<table border=\"1\" class=\"dataframe\">\n",
       "  <thead>\n",
       "    <tr style=\"text-align: right;\">\n",
       "      <th></th>\n",
       "      <th>age</th>\n",
       "      <th>job</th>\n",
       "      <th>marital</th>\n",
       "      <th>education</th>\n",
       "      <th>default</th>\n",
       "      <th>housing</th>\n",
       "      <th>loan</th>\n",
       "      <th>contact</th>\n",
       "      <th>duration</th>\n",
       "      <th>campaign</th>\n",
       "      <th>pdays</th>\n",
       "      <th>previous</th>\n",
       "      <th>poutcome</th>\n",
       "      <th>emp.var.rate</th>\n",
       "      <th>cons.price.idx</th>\n",
       "      <th>cons.conf.idx</th>\n",
       "      <th>euribor3m</th>\n",
       "      <th>nr.employed</th>\n",
       "      <th>y</th>\n",
       "      <th>date</th>\n",
       "      <th>latitude</th>\n",
       "      <th>longitude</th>\n",
       "      <th>id_</th>\n",
       "    </tr>\n",
       "  </thead>\n",
       "  <tbody>\n",
       "    <tr>\n",
       "      <th>19906</th>\n",
       "      <td>NaN</td>\n",
       "      <td>admin.</td>\n",
       "      <td>MARRIED</td>\n",
       "      <td>high.school</td>\n",
       "      <td>NaN</td>\n",
       "      <td>0.0</td>\n",
       "      <td>0.0</td>\n",
       "      <td>cellular</td>\n",
       "      <td>61</td>\n",
       "      <td>3</td>\n",
       "      <td>999</td>\n",
       "      <td>0</td>\n",
       "      <td>NONEXISTENT</td>\n",
       "      <td>1.4</td>\n",
       "      <td>93,444</td>\n",
       "      <td>-36,1</td>\n",
       "      <td>NaN</td>\n",
       "      <td>5228,1</td>\n",
       "      <td>no</td>\n",
       "      <td>28-mayo-2017</td>\n",
       "      <td>45.801</td>\n",
       "      <td>-113.256</td>\n",
       "      <td>52e89342-f35d-4db8-abeb-d0f8c3dbc4c4</td>\n",
       "    </tr>\n",
       "    <tr>\n",
       "      <th>10493</th>\n",
       "      <td>43.0</td>\n",
       "      <td>technician</td>\n",
       "      <td>SINGLE</td>\n",
       "      <td>professional.course</td>\n",
       "      <td>0.0</td>\n",
       "      <td>0.0</td>\n",
       "      <td>0.0</td>\n",
       "      <td>telephone</td>\n",
       "      <td>315</td>\n",
       "      <td>2</td>\n",
       "      <td>999</td>\n",
       "      <td>0</td>\n",
       "      <td>NONEXISTENT</td>\n",
       "      <td>1.4</td>\n",
       "      <td>94,465</td>\n",
       "      <td>-41,8</td>\n",
       "      <td>4,961</td>\n",
       "      <td>5228,1</td>\n",
       "      <td>no</td>\n",
       "      <td>30-junio-2019</td>\n",
       "      <td>37.681</td>\n",
       "      <td>-103.382</td>\n",
       "      <td>519aef8b-f46e-4f29-96b5-ddb089fe4e70</td>\n",
       "    </tr>\n",
       "    <tr>\n",
       "      <th>1358</th>\n",
       "      <td>41.0</td>\n",
       "      <td>admin.</td>\n",
       "      <td>MARRIED</td>\n",
       "      <td>basic.9y</td>\n",
       "      <td>NaN</td>\n",
       "      <td>1.0</td>\n",
       "      <td>0.0</td>\n",
       "      <td>telephone</td>\n",
       "      <td>161</td>\n",
       "      <td>1</td>\n",
       "      <td>999</td>\n",
       "      <td>0</td>\n",
       "      <td>NONEXISTENT</td>\n",
       "      <td>1.1</td>\n",
       "      <td>93,994</td>\n",
       "      <td>-36,4</td>\n",
       "      <td>4,855</td>\n",
       "      <td>5191</td>\n",
       "      <td>no</td>\n",
       "      <td>5-octubre-2018</td>\n",
       "      <td>31.152</td>\n",
       "      <td>-90.419</td>\n",
       "      <td>54082403-7a0d-4772-8d31-13c560a62b4f</td>\n",
       "    </tr>\n",
       "    <tr>\n",
       "      <th>40573</th>\n",
       "      <td>22.0</td>\n",
       "      <td>student</td>\n",
       "      <td>SINGLE</td>\n",
       "      <td>high.school</td>\n",
       "      <td>0.0</td>\n",
       "      <td>0.0</td>\n",
       "      <td>0.0</td>\n",
       "      <td>cellular</td>\n",
       "      <td>369</td>\n",
       "      <td>3</td>\n",
       "      <td>5</td>\n",
       "      <td>1</td>\n",
       "      <td>SUCCESS</td>\n",
       "      <td>-1.1</td>\n",
       "      <td>94,199</td>\n",
       "      <td>-37,5</td>\n",
       "      <td>0,886</td>\n",
       "      <td>4963,6</td>\n",
       "      <td>yes</td>\n",
       "      <td>9-mayo-2017</td>\n",
       "      <td>27.673</td>\n",
       "      <td>-68.425</td>\n",
       "      <td>e6f9dd33-9f17-4556-b2cc-474d57429fc5</td>\n",
       "    </tr>\n",
       "    <tr>\n",
       "      <th>39159</th>\n",
       "      <td>NaN</td>\n",
       "      <td>admin.</td>\n",
       "      <td>SINGLE</td>\n",
       "      <td>high.school</td>\n",
       "      <td>0.0</td>\n",
       "      <td>0.0</td>\n",
       "      <td>0.0</td>\n",
       "      <td>cellular</td>\n",
       "      <td>153</td>\n",
       "      <td>2</td>\n",
       "      <td>4</td>\n",
       "      <td>2</td>\n",
       "      <td>SUCCESS</td>\n",
       "      <td>-1.8</td>\n",
       "      <td>93,369</td>\n",
       "      <td>-34,8</td>\n",
       "      <td>0,655</td>\n",
       "      <td>5008,7</td>\n",
       "      <td>yes</td>\n",
       "      <td>6-julio-2018</td>\n",
       "      <td>28.094</td>\n",
       "      <td>-75.619</td>\n",
       "      <td>4f3cdfda-267d-47d2-873e-232e058d9f1b</td>\n",
       "    </tr>\n",
       "  </tbody>\n",
       "</table>\n",
       "</div>"
      ],
      "text/plain": [
       "        age         job  marital            education  default  housing  loan  \\\n",
       "19906   NaN      admin.  MARRIED          high.school      NaN      0.0   0.0   \n",
       "10493  43.0  technician   SINGLE  professional.course      0.0      0.0   0.0   \n",
       "1358   41.0      admin.  MARRIED             basic.9y      NaN      1.0   0.0   \n",
       "40573  22.0     student   SINGLE          high.school      0.0      0.0   0.0   \n",
       "39159   NaN      admin.   SINGLE          high.school      0.0      0.0   0.0   \n",
       "\n",
       "         contact  duration  campaign  pdays  previous     poutcome  \\\n",
       "19906   cellular        61         3    999         0  NONEXISTENT   \n",
       "10493  telephone       315         2    999         0  NONEXISTENT   \n",
       "1358   telephone       161         1    999         0  NONEXISTENT   \n",
       "40573   cellular       369         3      5         1      SUCCESS   \n",
       "39159   cellular       153         2      4         2      SUCCESS   \n",
       "\n",
       "       emp.var.rate cons.price.idx cons.conf.idx euribor3m nr.employed    y  \\\n",
       "19906           1.4         93,444         -36,1       NaN      5228,1   no   \n",
       "10493           1.4         94,465         -41,8     4,961      5228,1   no   \n",
       "1358            1.1         93,994         -36,4     4,855        5191   no   \n",
       "40573          -1.1         94,199         -37,5     0,886      4963,6  yes   \n",
       "39159          -1.8         93,369         -34,8     0,655      5008,7  yes   \n",
       "\n",
       "                 date  latitude  longitude  \\\n",
       "19906    28-mayo-2017    45.801   -113.256   \n",
       "10493   30-junio-2019    37.681   -103.382   \n",
       "1358   5-octubre-2018    31.152    -90.419   \n",
       "40573     9-mayo-2017    27.673    -68.425   \n",
       "39159    6-julio-2018    28.094    -75.619   \n",
       "\n",
       "                                        id_  \n",
       "19906  52e89342-f35d-4db8-abeb-d0f8c3dbc4c4  \n",
       "10493  519aef8b-f46e-4f29-96b5-ddb089fe4e70  \n",
       "1358   54082403-7a0d-4772-8d31-13c560a62b4f  \n",
       "40573  e6f9dd33-9f17-4556-b2cc-474d57429fc5  \n",
       "39159  4f3cdfda-267d-47d2-873e-232e058d9f1b  "
      ]
     },
     "execution_count": 207,
     "metadata": {},
     "output_type": "execute_result"
    }
   ],
   "source": [
    "#Leemos el archivo csv y lo convertimos a un DataFrame.\n",
    "df_o = pd.read_csv('archivos/bank_additional.csv',index_col=0)\n",
    "df_o.sample(5)"
   ]
  },
  {
   "cell_type": "code",
   "execution_count": 208,
   "metadata": {},
   "outputs": [
    {
     "data": {
      "text/html": [
       "<div>\n",
       "<style scoped>\n",
       "    .dataframe tbody tr th:only-of-type {\n",
       "        vertical-align: middle;\n",
       "    }\n",
       "\n",
       "    .dataframe tbody tr th {\n",
       "        vertical-align: top;\n",
       "    }\n",
       "\n",
       "    .dataframe thead th {\n",
       "        text-align: right;\n",
       "    }\n",
       "</style>\n",
       "<table border=\"1\" class=\"dataframe\">\n",
       "  <thead>\n",
       "    <tr style=\"text-align: right;\">\n",
       "      <th></th>\n",
       "      <th>age</th>\n",
       "      <th>job</th>\n",
       "      <th>marital</th>\n",
       "      <th>education</th>\n",
       "      <th>default</th>\n",
       "      <th>housing</th>\n",
       "      <th>loan</th>\n",
       "      <th>contact</th>\n",
       "      <th>duration</th>\n",
       "      <th>campaign</th>\n",
       "      <th>pdays</th>\n",
       "      <th>previous</th>\n",
       "      <th>poutcome</th>\n",
       "      <th>emp.var.rate</th>\n",
       "      <th>cons.price.idx</th>\n",
       "      <th>cons.conf.idx</th>\n",
       "      <th>euribor3m</th>\n",
       "      <th>nr.employed</th>\n",
       "      <th>y</th>\n",
       "      <th>date</th>\n",
       "      <th>latitude</th>\n",
       "      <th>longitude</th>\n",
       "      <th>id_</th>\n",
       "    </tr>\n",
       "  </thead>\n",
       "  <tbody>\n",
       "    <tr>\n",
       "      <th>0</th>\n",
       "      <td>NaN</td>\n",
       "      <td>housemaid</td>\n",
       "      <td>MARRIED</td>\n",
       "      <td>basic.4y</td>\n",
       "      <td>0.0</td>\n",
       "      <td>0.0</td>\n",
       "      <td>0.0</td>\n",
       "      <td>telephone</td>\n",
       "      <td>261</td>\n",
       "      <td>1</td>\n",
       "      <td>999</td>\n",
       "      <td>0</td>\n",
       "      <td>NONEXISTENT</td>\n",
       "      <td>1.1</td>\n",
       "      <td>93,994</td>\n",
       "      <td>-36,4</td>\n",
       "      <td>4,857</td>\n",
       "      <td>5191</td>\n",
       "      <td>no</td>\n",
       "      <td>2-agosto-2019</td>\n",
       "      <td>41.495</td>\n",
       "      <td>-71.233</td>\n",
       "      <td>089b39d8-e4d0-461b-87d4-814d71e0e079</td>\n",
       "    </tr>\n",
       "    <tr>\n",
       "      <th>1</th>\n",
       "      <td>57.0</td>\n",
       "      <td>services</td>\n",
       "      <td>MARRIED</td>\n",
       "      <td>high.school</td>\n",
       "      <td>NaN</td>\n",
       "      <td>0.0</td>\n",
       "      <td>0.0</td>\n",
       "      <td>telephone</td>\n",
       "      <td>149</td>\n",
       "      <td>1</td>\n",
       "      <td>999</td>\n",
       "      <td>0</td>\n",
       "      <td>NONEXISTENT</td>\n",
       "      <td>1.1</td>\n",
       "      <td>93,994</td>\n",
       "      <td>-36,4</td>\n",
       "      <td>NaN</td>\n",
       "      <td>5191</td>\n",
       "      <td>no</td>\n",
       "      <td>14-septiembre-2016</td>\n",
       "      <td>34.601</td>\n",
       "      <td>-83.923</td>\n",
       "      <td>e9d37224-cb6f-4942-98d7-46672963d097</td>\n",
       "    </tr>\n",
       "  </tbody>\n",
       "</table>\n",
       "</div>"
      ],
      "text/plain": [
       "    age        job  marital    education  default  housing  loan    contact  \\\n",
       "0   NaN  housemaid  MARRIED     basic.4y      0.0      0.0   0.0  telephone   \n",
       "1  57.0   services  MARRIED  high.school      NaN      0.0   0.0  telephone   \n",
       "\n",
       "   duration  campaign  pdays  previous     poutcome  emp.var.rate  \\\n",
       "0       261         1    999         0  NONEXISTENT           1.1   \n",
       "1       149         1    999         0  NONEXISTENT           1.1   \n",
       "\n",
       "  cons.price.idx cons.conf.idx euribor3m nr.employed   y                date  \\\n",
       "0         93,994         -36,4     4,857        5191  no       2-agosto-2019   \n",
       "1         93,994         -36,4       NaN        5191  no  14-septiembre-2016   \n",
       "\n",
       "   latitude  longitude                                   id_  \n",
       "0    41.495    -71.233  089b39d8-e4d0-461b-87d4-814d71e0e079  \n",
       "1    34.601    -83.923  e9d37224-cb6f-4942-98d7-46672963d097  "
      ]
     },
     "execution_count": 208,
     "metadata": {},
     "output_type": "execute_result"
    }
   ],
   "source": [
    "#Hacemos una copia para evitar cambiar el archivo original y trabajaremos sobre ella.\n",
    "df = df_o.copy()\n",
    "df.head(2)"
   ]
  },
  {
   "cell_type": "code",
   "execution_count": 209,
   "metadata": {},
   "outputs": [
    {
     "data": {
      "text/html": [
       "<div>\n",
       "<style scoped>\n",
       "    .dataframe tbody tr th:only-of-type {\n",
       "        vertical-align: middle;\n",
       "    }\n",
       "\n",
       "    .dataframe tbody tr th {\n",
       "        vertical-align: top;\n",
       "    }\n",
       "\n",
       "    .dataframe thead th {\n",
       "        text-align: right;\n",
       "    }\n",
       "</style>\n",
       "<table border=\"1\" class=\"dataframe\">\n",
       "  <thead>\n",
       "    <tr style=\"text-align: right;\">\n",
       "      <th></th>\n",
       "      <th>age</th>\n",
       "      <th>job</th>\n",
       "      <th>marital</th>\n",
       "      <th>education</th>\n",
       "      <th>default</th>\n",
       "      <th>housing</th>\n",
       "      <th>loan</th>\n",
       "      <th>contact</th>\n",
       "      <th>duration</th>\n",
       "      <th>campaign</th>\n",
       "      <th>pdays</th>\n",
       "      <th>previous</th>\n",
       "      <th>poutcome</th>\n",
       "      <th>emp.var.rate</th>\n",
       "      <th>cons.price.idx</th>\n",
       "      <th>cons.conf.idx</th>\n",
       "      <th>euribor3m</th>\n",
       "      <th>nr.employed</th>\n",
       "      <th>y</th>\n",
       "      <th>date</th>\n",
       "      <th>latitude</th>\n",
       "      <th>longitude</th>\n",
       "      <th>id_</th>\n",
       "    </tr>\n",
       "  </thead>\n",
       "  <tbody>\n",
       "    <tr>\n",
       "      <th>10110</th>\n",
       "      <td>59.0</td>\n",
       "      <td>services</td>\n",
       "      <td>DIVORCED</td>\n",
       "      <td>high.school</td>\n",
       "      <td>0.0</td>\n",
       "      <td>0.0</td>\n",
       "      <td>0.0</td>\n",
       "      <td>telephone</td>\n",
       "      <td>133</td>\n",
       "      <td>1</td>\n",
       "      <td>999</td>\n",
       "      <td>0</td>\n",
       "      <td>NONEXISTENT</td>\n",
       "      <td>1.4</td>\n",
       "      <td>94,465</td>\n",
       "      <td>-41,8</td>\n",
       "      <td>4,958</td>\n",
       "      <td>5228,1</td>\n",
       "      <td>no</td>\n",
       "      <td>22-mayo-2017</td>\n",
       "      <td>41.229</td>\n",
       "      <td>-102.667</td>\n",
       "      <td>7eef18bc-0e88-42d7-88bd-1cd30d8eb9eb</td>\n",
       "    </tr>\n",
       "    <tr>\n",
       "      <th>28268</th>\n",
       "      <td>55.0</td>\n",
       "      <td>admin.</td>\n",
       "      <td>DIVORCED</td>\n",
       "      <td>university.degree</td>\n",
       "      <td>0.0</td>\n",
       "      <td>1.0</td>\n",
       "      <td>0.0</td>\n",
       "      <td>cellular</td>\n",
       "      <td>628</td>\n",
       "      <td>1</td>\n",
       "      <td>999</td>\n",
       "      <td>1</td>\n",
       "      <td>FAILURE</td>\n",
       "      <td>-1.8</td>\n",
       "      <td>93,075</td>\n",
       "      <td>-47,1</td>\n",
       "      <td>1,445</td>\n",
       "      <td>5099,1</td>\n",
       "      <td>no</td>\n",
       "      <td>10-abril-2018</td>\n",
       "      <td>26.470</td>\n",
       "      <td>-87.854</td>\n",
       "      <td>8a7623de-c574-4202-ba2b-1789becbc989</td>\n",
       "    </tr>\n",
       "    <tr>\n",
       "      <th>7382</th>\n",
       "      <td>NaN</td>\n",
       "      <td>admin.</td>\n",
       "      <td>SINGLE</td>\n",
       "      <td>high.school</td>\n",
       "      <td>0.0</td>\n",
       "      <td>0.0</td>\n",
       "      <td>1.0</td>\n",
       "      <td>telephone</td>\n",
       "      <td>96</td>\n",
       "      <td>2</td>\n",
       "      <td>999</td>\n",
       "      <td>0</td>\n",
       "      <td>NONEXISTENT</td>\n",
       "      <td>1.1</td>\n",
       "      <td>93,994</td>\n",
       "      <td>-36,4</td>\n",
       "      <td>4,864</td>\n",
       "      <td>5191</td>\n",
       "      <td>no</td>\n",
       "      <td>8-julio-2016</td>\n",
       "      <td>44.115</td>\n",
       "      <td>-68.878</td>\n",
       "      <td>a7288b78-e78d-4167-8cc4-dee2bfbf4554</td>\n",
       "    </tr>\n",
       "  </tbody>\n",
       "</table>\n",
       "</div>"
      ],
      "text/plain": [
       "        age       job   marital          education  default  housing  loan  \\\n",
       "10110  59.0  services  DIVORCED        high.school      0.0      0.0   0.0   \n",
       "28268  55.0    admin.  DIVORCED  university.degree      0.0      1.0   0.0   \n",
       "7382    NaN    admin.    SINGLE        high.school      0.0      0.0   1.0   \n",
       "\n",
       "         contact  duration  campaign  pdays  previous     poutcome  \\\n",
       "10110  telephone       133         1    999         0  NONEXISTENT   \n",
       "28268   cellular       628         1    999         1      FAILURE   \n",
       "7382   telephone        96         2    999         0  NONEXISTENT   \n",
       "\n",
       "       emp.var.rate cons.price.idx cons.conf.idx euribor3m nr.employed   y  \\\n",
       "10110           1.4         94,465         -41,8     4,958      5228,1  no   \n",
       "28268          -1.8         93,075         -47,1     1,445      5099,1  no   \n",
       "7382            1.1         93,994         -36,4     4,864        5191  no   \n",
       "\n",
       "                date  latitude  longitude  \\\n",
       "10110   22-mayo-2017    41.229   -102.667   \n",
       "28268  10-abril-2018    26.470    -87.854   \n",
       "7382    8-julio-2016    44.115    -68.878   \n",
       "\n",
       "                                        id_  \n",
       "10110  7eef18bc-0e88-42d7-88bd-1cd30d8eb9eb  \n",
       "28268  8a7623de-c574-4202-ba2b-1789becbc989  \n",
       "7382   a7288b78-e78d-4167-8cc4-dee2bfbf4554  "
      ]
     },
     "execution_count": 209,
     "metadata": {},
     "output_type": "execute_result"
    }
   ],
   "source": [
    "#Debido al tamaño del csv al hacer el head anterior vemos que no aparecen todas las columnas.\n",
    "#Para que esto no ocurra utilizamos el siguiente método.\n",
    "\n",
    "pd.set_option ('display.max_columns', None)\n",
    "df.sample(3)\n"
   ]
  },
  {
   "cell_type": "code",
   "execution_count": 210,
   "metadata": {},
   "outputs": [
    {
     "name": "stdout",
     "output_type": "stream",
     "text": [
      "<class 'pandas.core.frame.DataFrame'>\n",
      "Index: 43000 entries, 0 to 27570\n",
      "Data columns (total 23 columns):\n",
      " #   Column          Non-Null Count  Dtype  \n",
      "---  ------          --------------  -----  \n",
      " 0   age             37880 non-null  float64\n",
      " 1   job             42655 non-null  object \n",
      " 2   marital         42915 non-null  object \n",
      " 3   education       41193 non-null  object \n",
      " 4   default         34019 non-null  float64\n",
      " 5   housing         41974 non-null  float64\n",
      " 6   loan            41974 non-null  float64\n",
      " 7   contact         43000 non-null  object \n",
      " 8   duration        43000 non-null  int64  \n",
      " 9   campaign        43000 non-null  int64  \n",
      " 10  pdays           43000 non-null  int64  \n",
      " 11  previous        43000 non-null  int64  \n",
      " 12  poutcome        43000 non-null  object \n",
      " 13  emp.var.rate    43000 non-null  float64\n",
      " 14  cons.price.idx  42529 non-null  object \n",
      " 15  cons.conf.idx   43000 non-null  object \n",
      " 16  euribor3m       33744 non-null  object \n",
      " 17  nr.employed     43000 non-null  object \n",
      " 18  y               43000 non-null  object \n",
      " 19  date            42752 non-null  object \n",
      " 20  latitude        43000 non-null  float64\n",
      " 21  longitude       43000 non-null  float64\n",
      " 22  id_             43000 non-null  object \n",
      "dtypes: float64(7), int64(4), object(12)\n",
      "memory usage: 7.9+ MB\n"
     ]
    }
   ],
   "source": [
    "#Vemos que tipo de columnas tenemos.\n",
    "df.info()"
   ]
  },
  {
   "cell_type": "code",
   "execution_count": 205,
   "metadata": {},
   "outputs": [
    {
     "data": {
      "text/plain": [
       "age               float64\n",
       "job                object\n",
       "marital            object\n",
       "education          object\n",
       "default           float64\n",
       "housing           float64\n",
       "loan              float64\n",
       "contact            object\n",
       "duration            int64\n",
       "campaign            int64\n",
       "pdays               int64\n",
       "previous            int64\n",
       "poutcome           object\n",
       "emp.var.rate      float64\n",
       "cons.price.idx     object\n",
       "cons.conf.idx      object\n",
       "euribor3m          object\n",
       "nr.employed        object\n",
       "y                  object\n",
       "date               object\n",
       "latitude          float64\n",
       "longitude         float64\n",
       "id_                object\n",
       "dtype: object"
      ]
     },
     "execution_count": 205,
     "metadata": {},
     "output_type": "execute_result"
    }
   ],
   "source": [
    "#Otra manera de verlo seria:\n",
    "df.dtypes"
   ]
  },
  {
   "cell_type": "code",
   "execution_count": 211,
   "metadata": {},
   "outputs": [
    {
     "data": {
      "text/plain": [
       "age               5120\n",
       "job                345\n",
       "marital             85\n",
       "education         1807\n",
       "default           8981\n",
       "housing           1026\n",
       "loan              1026\n",
       "contact              0\n",
       "duration             0\n",
       "campaign             0\n",
       "pdays                0\n",
       "previous             0\n",
       "poutcome             0\n",
       "emp.var.rate         0\n",
       "cons.price.idx     471\n",
       "cons.conf.idx        0\n",
       "euribor3m         9256\n",
       "nr.employed          0\n",
       "y                    0\n",
       "date               248\n",
       "latitude             0\n",
       "longitude            0\n",
       "id_                  0\n",
       "dtype: int64"
      ]
     },
     "execution_count": 211,
     "metadata": {},
     "output_type": "execute_result"
    }
   ],
   "source": [
    "df.isnull().sum() #asi se pueden ver si tienen nulos pero no sabemos cuanto representan en la totalidad del DATA FRAME."
   ]
  },
  {
   "cell_type": "code",
   "execution_count": 212,
   "metadata": {},
   "outputs": [
    {
     "data": {
      "text/plain": [
       "age               11.91\n",
       "job                0.80\n",
       "marital            0.20\n",
       "education          4.20\n",
       "default           20.89\n",
       "housing            2.39\n",
       "loan               2.39\n",
       "contact            0.00\n",
       "duration           0.00\n",
       "campaign           0.00\n",
       "pdays              0.00\n",
       "previous           0.00\n",
       "poutcome           0.00\n",
       "emp.var.rate       0.00\n",
       "cons.price.idx     1.10\n",
       "cons.conf.idx      0.00\n",
       "euribor3m         21.53\n",
       "nr.employed        0.00\n",
       "y                  0.00\n",
       "date               0.58\n",
       "latitude           0.00\n",
       "longitude          0.00\n",
       "id_                0.00\n",
       "dtype: float64"
      ]
     },
     "execution_count": 212,
     "metadata": {},
     "output_type": "execute_result"
    }
   ],
   "source": [
    "#Nos interesaria saber más el % de nulos ya que dependiendo de ello trabajariamos de una forma u otra.\n",
    "round (df.isnull().mean()*100,2)"
   ]
  },
  {
   "cell_type": "code",
   "execution_count": 213,
   "metadata": {},
   "outputs": [
    {
     "data": {
      "text/plain": [
       "np.int64(0)"
      ]
     },
     "execution_count": 213,
     "metadata": {},
     "output_type": "execute_result"
    }
   ],
   "source": [
    "#Miremos ahora si tiene duplicados.\n",
    "df.duplicated().sum()\n",
    "\n",
    "#No tiene duplicados (np.inte64 = 0)"
   ]
  },
  {
   "cell_type": "code",
   "execution_count": 214,
   "metadata": {},
   "outputs": [
    {
     "data": {
      "text/html": [
       "<div>\n",
       "<style scoped>\n",
       "    .dataframe tbody tr th:only-of-type {\n",
       "        vertical-align: middle;\n",
       "    }\n",
       "\n",
       "    .dataframe tbody tr th {\n",
       "        vertical-align: top;\n",
       "    }\n",
       "\n",
       "    .dataframe thead th {\n",
       "        text-align: right;\n",
       "    }\n",
       "</style>\n",
       "<table border=\"1\" class=\"dataframe\">\n",
       "  <thead>\n",
       "    <tr style=\"text-align: right;\">\n",
       "      <th></th>\n",
       "      <th>count</th>\n",
       "      <th>mean</th>\n",
       "      <th>std</th>\n",
       "      <th>min</th>\n",
       "      <th>25%</th>\n",
       "      <th>50%</th>\n",
       "      <th>75%</th>\n",
       "      <th>max</th>\n",
       "    </tr>\n",
       "  </thead>\n",
       "  <tbody>\n",
       "    <tr>\n",
       "      <th>age</th>\n",
       "      <td>37880.0</td>\n",
       "      <td>39.977112</td>\n",
       "      <td>10.437957</td>\n",
       "      <td>17.000</td>\n",
       "      <td>32.00000</td>\n",
       "      <td>38.0000</td>\n",
       "      <td>47.00000</td>\n",
       "      <td>98.000</td>\n",
       "    </tr>\n",
       "    <tr>\n",
       "      <th>default</th>\n",
       "      <td>34019.0</td>\n",
       "      <td>0.000088</td>\n",
       "      <td>0.009390</td>\n",
       "      <td>0.000</td>\n",
       "      <td>0.00000</td>\n",
       "      <td>0.0000</td>\n",
       "      <td>0.00000</td>\n",
       "      <td>1.000</td>\n",
       "    </tr>\n",
       "    <tr>\n",
       "      <th>housing</th>\n",
       "      <td>41974.0</td>\n",
       "      <td>0.535998</td>\n",
       "      <td>0.498708</td>\n",
       "      <td>0.000</td>\n",
       "      <td>0.00000</td>\n",
       "      <td>1.0000</td>\n",
       "      <td>1.00000</td>\n",
       "      <td>1.000</td>\n",
       "    </tr>\n",
       "    <tr>\n",
       "      <th>loan</th>\n",
       "      <td>41974.0</td>\n",
       "      <td>0.155620</td>\n",
       "      <td>0.362499</td>\n",
       "      <td>0.000</td>\n",
       "      <td>0.00000</td>\n",
       "      <td>0.0000</td>\n",
       "      <td>0.00000</td>\n",
       "      <td>1.000</td>\n",
       "    </tr>\n",
       "    <tr>\n",
       "      <th>duration</th>\n",
       "      <td>43000.0</td>\n",
       "      <td>257.739279</td>\n",
       "      <td>258.666033</td>\n",
       "      <td>0.000</td>\n",
       "      <td>102.00000</td>\n",
       "      <td>179.0000</td>\n",
       "      <td>319.00000</td>\n",
       "      <td>4918.000</td>\n",
       "    </tr>\n",
       "    <tr>\n",
       "      <th>campaign</th>\n",
       "      <td>43000.0</td>\n",
       "      <td>2.567233</td>\n",
       "      <td>2.772294</td>\n",
       "      <td>1.000</td>\n",
       "      <td>1.00000</td>\n",
       "      <td>2.0000</td>\n",
       "      <td>3.00000</td>\n",
       "      <td>56.000</td>\n",
       "    </tr>\n",
       "    <tr>\n",
       "      <th>pdays</th>\n",
       "      <td>43000.0</td>\n",
       "      <td>962.330953</td>\n",
       "      <td>187.260394</td>\n",
       "      <td>0.000</td>\n",
       "      <td>999.00000</td>\n",
       "      <td>999.0000</td>\n",
       "      <td>999.00000</td>\n",
       "      <td>999.000</td>\n",
       "    </tr>\n",
       "    <tr>\n",
       "      <th>previous</th>\n",
       "      <td>43000.0</td>\n",
       "      <td>0.174023</td>\n",
       "      <td>0.497366</td>\n",
       "      <td>0.000</td>\n",
       "      <td>0.00000</td>\n",
       "      <td>0.0000</td>\n",
       "      <td>0.00000</td>\n",
       "      <td>7.000</td>\n",
       "    </tr>\n",
       "    <tr>\n",
       "      <th>emp.var.rate</th>\n",
       "      <td>43000.0</td>\n",
       "      <td>0.077128</td>\n",
       "      <td>1.573898</td>\n",
       "      <td>-3.400</td>\n",
       "      <td>-1.80000</td>\n",
       "      <td>1.1000</td>\n",
       "      <td>1.40000</td>\n",
       "      <td>1.400</td>\n",
       "    </tr>\n",
       "    <tr>\n",
       "      <th>latitude</th>\n",
       "      <td>43000.0</td>\n",
       "      <td>36.856697</td>\n",
       "      <td>7.225948</td>\n",
       "      <td>24.396</td>\n",
       "      <td>30.61475</td>\n",
       "      <td>36.7610</td>\n",
       "      <td>43.11325</td>\n",
       "      <td>49.384</td>\n",
       "    </tr>\n",
       "    <tr>\n",
       "      <th>longitude</th>\n",
       "      <td>43000.0</td>\n",
       "      <td>-95.939067</td>\n",
       "      <td>16.752282</td>\n",
       "      <td>-124.997</td>\n",
       "      <td>-110.49425</td>\n",
       "      <td>-95.8995</td>\n",
       "      <td>-81.42775</td>\n",
       "      <td>-66.937</td>\n",
       "    </tr>\n",
       "  </tbody>\n",
       "</table>\n",
       "</div>"
      ],
      "text/plain": [
       "                count        mean         std      min        25%       50%  \\\n",
       "age           37880.0   39.977112   10.437957   17.000   32.00000   38.0000   \n",
       "default       34019.0    0.000088    0.009390    0.000    0.00000    0.0000   \n",
       "housing       41974.0    0.535998    0.498708    0.000    0.00000    1.0000   \n",
       "loan          41974.0    0.155620    0.362499    0.000    0.00000    0.0000   \n",
       "duration      43000.0  257.739279  258.666033    0.000  102.00000  179.0000   \n",
       "campaign      43000.0    2.567233    2.772294    1.000    1.00000    2.0000   \n",
       "pdays         43000.0  962.330953  187.260394    0.000  999.00000  999.0000   \n",
       "previous      43000.0    0.174023    0.497366    0.000    0.00000    0.0000   \n",
       "emp.var.rate  43000.0    0.077128    1.573898   -3.400   -1.80000    1.1000   \n",
       "latitude      43000.0   36.856697    7.225948   24.396   30.61475   36.7610   \n",
       "longitude     43000.0  -95.939067   16.752282 -124.997 -110.49425  -95.8995   \n",
       "\n",
       "                    75%       max  \n",
       "age            47.00000    98.000  \n",
       "default         0.00000     1.000  \n",
       "housing         1.00000     1.000  \n",
       "loan            0.00000     1.000  \n",
       "duration      319.00000  4918.000  \n",
       "campaign        3.00000    56.000  \n",
       "pdays         999.00000   999.000  \n",
       "previous        0.00000     7.000  \n",
       "emp.var.rate    1.40000     1.400  \n",
       "latitude       43.11325    49.384  \n",
       "longitude     -81.42775   -66.937  "
      ]
     },
     "execution_count": 214,
     "metadata": {},
     "output_type": "execute_result"
    }
   ],
   "source": [
    "df.describe().T"
   ]
  },
  {
   "cell_type": "code",
   "execution_count": 215,
   "metadata": {},
   "outputs": [
    {
     "data": {
      "text/plain": [
       "education\n",
       "university.degree      12722\n",
       "high.school             9925\n",
       "basic.9y                6309\n",
       "professional.course     5477\n",
       "basic.4y                4356\n",
       "basic.6y                2386\n",
       "illiterate                18\n",
       "Name: count, dtype: int64"
      ]
     },
     "execution_count": 215,
     "metadata": {},
     "output_type": "execute_result"
    }
   ],
   "source": [
    "df.value_counts('education')"
   ]
  },
  {
   "cell_type": "code",
   "execution_count": 216,
   "metadata": {},
   "outputs": [
    {
     "name": "stdout",
     "output_type": "stream",
     "text": [
      "JOB\n",
      "job\n",
      "admin.           10873\n",
      "blue-collar       9654\n",
      "technician        7026\n",
      "services          4162\n",
      "management        3050\n",
      "retired           1790\n",
      "entrepreneur      1522\n",
      "self-employed     1489\n",
      "housemaid         1123\n",
      "unemployed        1063\n",
      "student            903\n",
      "Name: count, dtype: int64\n",
      "---------------------\n",
      "MARITAL\n",
      "marital\n",
      "MARRIED     25999\n",
      "SINGLE      12105\n",
      "DIVORCED     4811\n",
      "Name: count, dtype: int64\n",
      "---------------------\n",
      "EDUCATION\n",
      "education\n",
      "university.degree      12722\n",
      "high.school             9925\n",
      "basic.9y                6309\n",
      "professional.course     5477\n",
      "basic.4y                4356\n",
      "basic.6y                2386\n",
      "illiterate                18\n",
      "Name: count, dtype: int64\n",
      "---------------------\n",
      "CONTACT\n",
      "contact\n",
      "cellular     27396\n",
      "telephone    15604\n",
      "Name: count, dtype: int64\n",
      "---------------------\n",
      "POUTCOME\n",
      "poutcome\n",
      "NONEXISTENT    37103\n",
      "FAILURE         4461\n",
      "SUCCESS         1436\n",
      "Name: count, dtype: int64\n",
      "---------------------\n",
      "CONS.PRICE.IDX\n",
      "cons.price.idx\n",
      "93,994    7938\n",
      "93,918    6937\n",
      "92,893    5985\n",
      "93,444    5349\n",
      "94,465    4522\n",
      "93,2      3731\n",
      "93,075    2552\n",
      "92,201     803\n",
      "92,963     742\n",
      "92,431     471\n",
      "92,649     375\n",
      "94,215     320\n",
      "94,199     316\n",
      "92,843     298\n",
      "92,379     274\n",
      "93,369     271\n",
      "94,027     242\n",
      "94,055     236\n",
      "93,876     224\n",
      "94,601     212\n",
      "92,469     184\n",
      "92,713     179\n",
      "93,749     179\n",
      "94,767     130\n",
      "93,798      48\n",
      "92,756      11\n",
      "Name: count, dtype: int64\n",
      "---------------------\n",
      "CONS.CONF.IDX\n",
      "cons.conf.idx\n",
      "-36,4    8020\n",
      "-42,7    7004\n",
      "-46,2    6057\n",
      "-36,1    5408\n",
      "-41,8    4568\n",
      "-42      3782\n",
      "-47,1    2581\n",
      "-31,4     815\n",
      "-40,8     748\n",
      "-26,9     477\n",
      "-30,1     379\n",
      "-40,3     328\n",
      "-37,5     318\n",
      "-50       299\n",
      "-29,8     277\n",
      "-34,8     275\n",
      "-38,3     245\n",
      "-39,8     239\n",
      "-40       225\n",
      "-49,5     214\n",
      "-33,6     185\n",
      "-34,6     183\n",
      "-33       181\n",
      "-50,8     133\n",
      "-40,4      48\n",
      "-45,9      11\n",
      "Name: count, dtype: int64\n",
      "---------------------\n",
      "EURIBOR3M\n",
      "euribor3m\n",
      "4,857    2287\n",
      "4,962    2124\n",
      "4,963    2019\n",
      "4,961    1594\n",
      "4,964     964\n",
      "         ... \n",
      "5,045       1\n",
      "4,921       1\n",
      "0,895       1\n",
      "0,956       1\n",
      "0,953       1\n",
      "Name: count, Length: 309, dtype: int64\n",
      "---------------------\n",
      "NR.EMPLOYED\n",
      "nr.employed\n",
      "5228,1    16980\n",
      "5099,1     8937\n",
      "5191       8020\n",
      "5195,8     3830\n",
      "5076,2     1748\n",
      "5017,5     1133\n",
      "4991,6      812\n",
      "5008,7      683\n",
      "4963,6      665\n",
      "5023,5      181\n",
      "5176,3       11\n",
      "Name: count, dtype: int64\n",
      "---------------------\n",
      "Y\n",
      "y\n",
      "no     38156\n",
      "yes     4844\n",
      "Name: count, dtype: int64\n",
      "---------------------\n",
      "DATE\n",
      "date\n",
      "28-febrero-2018      95\n",
      "28-febrero-2016      94\n",
      "28-febrero-2015      92\n",
      "28-febrero-2017      89\n",
      "28-febrero-2019      85\n",
      "                     ..\n",
      "17-diciembre-2018    11\n",
      "21-diciembre-2019    10\n",
      "14-abril-2015        10\n",
      "4-abril-2017         10\n",
      "20-noviembre-2015    10\n",
      "Name: count, Length: 1825, dtype: int64\n",
      "---------------------\n",
      "ID_\n",
      "id_\n",
      "993bbbd6-4dbc-4a40-a408-f91f8462bee6    1\n",
      "089b39d8-e4d0-461b-87d4-814d71e0e079    1\n",
      "e9d37224-cb6f-4942-98d7-46672963d097    1\n",
      "3f9f49b5-e410-4948-bf6e-f9244f04918b    1\n",
      "9991fafb-4447-451a-8be2-b0df6098d13e    1\n",
      "                                       ..\n",
      "66a752e2-b2f1-440c-9a8f-cc3b10d74dd0    1\n",
      "ca5c0d7a-8bbd-42b3-8351-1074c5be011a    1\n",
      "8d700df5-0c33-4517-8cf8-92e1c92c9c12    1\n",
      "ea6b7d04-9271-4c0a-a01f-07795d164aba    1\n",
      "87b79988-2be5-419d-88f4-56655852c565    1\n",
      "Name: count, Length: 43000, dtype: int64\n",
      "---------------------\n"
     ]
    }
   ],
   "source": [
    "for col in df.select_dtypes(include ='O').columns:\n",
    "    print (col.upper())\n",
    "    print (df[col].value_counts())\n",
    "    print ('---------------------')\n",
    "\n",
    "#así podemos ver los valores únicos de cada columna"
   ]
  },
  {
   "cell_type": "markdown",
   "metadata": {},
   "source": [
    "## Conclusiones del EDA preliminar: Cosas a limpiar de DataFrame"
   ]
  },
  {
   "cell_type": "markdown",
   "metadata": {},
   "source": [
    "- Años en float, ponerlo en int\n",
    "- Mayusculas y minusculas\n",
    "- Tenemos nulos\n",
    "- Tenemos puntos y comas\n",
    "- Latitud y longitud no aparece en el enunciado que nos han pasado.\n",
    "- El Id es ilegible.\n",
    "- Fechas raras.\n",
    "\n",
    "##### Columnas:\n",
    "- **Age** ->  La edad del cliente. Pasarlo a int. Tiene un 11,91% nulos. OK\n",
    "- **job** -> La ocupación o profesión del cliente. tiene un 0,80% de nulos. OK\n",
    "- **Marital** ->  El estado civil del cliente.Pasarlo a minusculas.Tiene un 0,20% nulos. OK\n",
    "- **education** ->  El nivel educativo del cliente. Cambiar el punto por un guion bajo. Tiene un 4,20% nulos. OK\n",
    "- **Default** -> Indica si el cliente tiene algún historial de incumplimiento de pagos (1: Sí, 0: No)incumplimiento de pagos si o no. (0 o 1). Pasarlo de float a object con si o no.Tiene un 0,20,89% nulos. OK\n",
    "- **housing** -> Indica si el cliente tiene un préstamo hipotecario (1: Sí, 0: No).\n",
    "pasarlo a si o no. Tiene un 2,39% nulos. OK\n",
    "- **loan** -> Indica si el cliente tiene algún otro tipo de préstamo (1: Sí, 0: No). pasarlo a si o no. Tiene un 2,39% nulos.OK\n",
    "- **contact** ->  El método de contacto utilizado para comunicarse con el cliente. Está todo ok por lo tanto no cambiar nada. OK\n",
    "- **duration** -> La duración en segundos de la última interacción con el cliente. OK\n",
    "- **campaign** -> El número de contactos realizados durante esta campaña para este cliente. OK\n",
    "- **pdays** -> Número de días que han pasado desde la última vez que se contactó con el cliente durante esta campaña. OK\n",
    "- **previous** -> Número de veces que se ha contactado con el cliente antes de esta campaña. OK\n",
    "- **poutcome** -> Resultado de la campaña de marketing anterior. Tiene un 4,20% de nulos. OK\n",
    "- **emp.var.rate** -> La tasa de variación del empleo. Pasarlo a si o no. OK\n",
    "- **cons.price.idx** ->  El índice de precios al consumidor.Tiene un 1,10% nulos OK\n",
    "- **cons.confi.idx** -> El índice de confianza del consumidor. Todos los valores son negativos.¿es normal? OK\n",
    "- **euribor3m** -> La tasa de interés de referencia a tres meses. Tiene un 21,53% nulos. OK\n",
    "- **nr.employed** -> El número de empleados. Pasar de float a int???\n",
    "- **y** -> Indica si el cliente ha suscrito un producto o servicio (Sí/No). pasar de object a bool o texto(si,no).OK\n",
    "- **date** -> La fecha en la que se realizó la interacción con el cliente. pasar de object a fecha. Tiene un 0,58% nulos. OK\n",
    "- **latitude y longitud** -> no aparecen definidas en el enunciado del ejercicio por lo que deberiamos eliminarlas. OK\n",
    "- **id**-> Un identificador único para cada registro en el dataset. Pasar object a ...."
   ]
  },
  {
   "cell_type": "markdown",
   "metadata": {},
   "source": [
    "# Transformación y la limpieza de los datos."
   ]
  },
  {
   "cell_type": "markdown",
   "metadata": {},
   "source": [
    "#### Eliminación de columnas."
   ]
  },
  {
   "cell_type": "code",
   "execution_count": null,
   "metadata": {},
   "outputs": [],
   "source": [
    "#Eliminación de columnas que no tienen sentido porque no aparecen en el enunciado.\n",
    "df = df.drop (['latitude','longitude'],axis=1)"
   ]
  },
  {
   "cell_type": "code",
   "execution_count": 220,
   "metadata": {},
   "outputs": [
    {
     "data": {
      "text/plain": [
       "Index(['age', 'job', 'marital', 'education', 'default', 'housing', 'loan',\n",
       "       'contact', 'duration', 'campaign', 'pdays', 'previous', 'poutcome',\n",
       "       'emp.var.rate', 'cons.price.idx', 'cons.conf.idx', 'euribor3m',\n",
       "       'nr.employed', 'y', 'date', 'id_'],\n",
       "      dtype='object')"
      ]
     },
     "execution_count": 220,
     "metadata": {},
     "output_type": "execute_result"
    }
   ],
   "source": [
    "df.columns"
   ]
  },
  {
   "cell_type": "markdown",
   "metadata": {},
   "source": [
    "#### Homogeneizar datos de la tabla."
   ]
  },
  {
   "cell_type": "code",
   "execution_count": 221,
   "metadata": {},
   "outputs": [
    {
     "data": {
      "text/plain": [
       "age               float64\n",
       "job                object\n",
       "marital            object\n",
       "education          object\n",
       "default           float64\n",
       "housing           float64\n",
       "loan              float64\n",
       "contact            object\n",
       "duration            int64\n",
       "campaign            int64\n",
       "pdays               int64\n",
       "previous            int64\n",
       "poutcome           object\n",
       "emp.var.rate      float64\n",
       "cons.price.idx     object\n",
       "cons.conf.idx      object\n",
       "euribor3m          object\n",
       "nr.employed        object\n",
       "y                  object\n",
       "date               object\n",
       "id_                object\n",
       "dtype: object"
      ]
     },
     "execution_count": 221,
     "metadata": {},
     "output_type": "execute_result"
    }
   ],
   "source": [
    "df['education']=df['education'].str.replace ('.','_')\n",
    "df.dtypes"
   ]
  },
  {
   "cell_type": "code",
   "execution_count": 222,
   "metadata": {},
   "outputs": [
    {
     "data": {
      "text/html": [
       "<div>\n",
       "<style scoped>\n",
       "    .dataframe tbody tr th:only-of-type {\n",
       "        vertical-align: middle;\n",
       "    }\n",
       "\n",
       "    .dataframe tbody tr th {\n",
       "        vertical-align: top;\n",
       "    }\n",
       "\n",
       "    .dataframe thead th {\n",
       "        text-align: right;\n",
       "    }\n",
       "</style>\n",
       "<table border=\"1\" class=\"dataframe\">\n",
       "  <thead>\n",
       "    <tr style=\"text-align: right;\">\n",
       "      <th></th>\n",
       "      <th>age</th>\n",
       "      <th>job</th>\n",
       "      <th>marital</th>\n",
       "      <th>education</th>\n",
       "      <th>default</th>\n",
       "      <th>housing</th>\n",
       "      <th>loan</th>\n",
       "      <th>contact</th>\n",
       "      <th>duration</th>\n",
       "      <th>campaign</th>\n",
       "      <th>pdays</th>\n",
       "      <th>previous</th>\n",
       "      <th>poutcome</th>\n",
       "      <th>emp.var.rate</th>\n",
       "      <th>cons.price.idx</th>\n",
       "      <th>cons.conf.idx</th>\n",
       "      <th>euribor3m</th>\n",
       "      <th>nr.employed</th>\n",
       "      <th>y</th>\n",
       "      <th>date</th>\n",
       "      <th>id_</th>\n",
       "    </tr>\n",
       "  </thead>\n",
       "  <tbody>\n",
       "    <tr>\n",
       "      <th>7408</th>\n",
       "      <td>58.0</td>\n",
       "      <td>housemaid</td>\n",
       "      <td>MARRIED</td>\n",
       "      <td>basic_4y</td>\n",
       "      <td>NaN</td>\n",
       "      <td>1.0</td>\n",
       "      <td>0.0</td>\n",
       "      <td>telephone</td>\n",
       "      <td>652</td>\n",
       "      <td>2</td>\n",
       "      <td>999</td>\n",
       "      <td>0</td>\n",
       "      <td>NONEXISTENT</td>\n",
       "      <td>1.1</td>\n",
       "      <td>93,994</td>\n",
       "      <td>-36,4</td>\n",
       "      <td>4,864</td>\n",
       "      <td>5191</td>\n",
       "      <td>no</td>\n",
       "      <td>21-abril-2017</td>\n",
       "      <td>50d39fe8-f398-4642-8c1b-f7bceba36e6c</td>\n",
       "    </tr>\n",
       "  </tbody>\n",
       "</table>\n",
       "</div>"
      ],
      "text/plain": [
       "       age        job  marital education  default  housing  loan    contact  \\\n",
       "7408  58.0  housemaid  MARRIED  basic_4y      NaN      1.0   0.0  telephone   \n",
       "\n",
       "      duration  campaign  pdays  previous     poutcome  emp.var.rate  \\\n",
       "7408       652         2    999         0  NONEXISTENT           1.1   \n",
       "\n",
       "     cons.price.idx cons.conf.idx euribor3m nr.employed   y           date  \\\n",
       "7408         93,994         -36,4     4,864        5191  no  21-abril-2017   \n",
       "\n",
       "                                       id_  \n",
       "7408  50d39fe8-f398-4642-8c1b-f7bceba36e6c  "
      ]
     },
     "execution_count": 222,
     "metadata": {},
     "output_type": "execute_result"
    }
   ],
   "source": [
    "df.sample()"
   ]
  },
  {
   "cell_type": "code",
   "execution_count": null,
   "metadata": {},
   "outputs": [
    {
     "data": {
      "text/html": [
       "<div>\n",
       "<style scoped>\n",
       "    .dataframe tbody tr th:only-of-type {\n",
       "        vertical-align: middle;\n",
       "    }\n",
       "\n",
       "    .dataframe tbody tr th {\n",
       "        vertical-align: top;\n",
       "    }\n",
       "\n",
       "    .dataframe thead th {\n",
       "        text-align: right;\n",
       "    }\n",
       "</style>\n",
       "<table border=\"1\" class=\"dataframe\">\n",
       "  <thead>\n",
       "    <tr style=\"text-align: right;\">\n",
       "      <th></th>\n",
       "      <th>age</th>\n",
       "      <th>job</th>\n",
       "      <th>marital</th>\n",
       "      <th>education</th>\n",
       "      <th>default</th>\n",
       "      <th>housing</th>\n",
       "      <th>loan</th>\n",
       "      <th>contact</th>\n",
       "      <th>duration</th>\n",
       "      <th>campaign</th>\n",
       "      <th>pdays</th>\n",
       "      <th>previous</th>\n",
       "      <th>poutcome</th>\n",
       "      <th>emp.var.rate</th>\n",
       "      <th>cons.price.idx</th>\n",
       "      <th>cons.conf.idx</th>\n",
       "      <th>euribor3m</th>\n",
       "      <th>nr.employed</th>\n",
       "      <th>y</th>\n",
       "      <th>date</th>\n",
       "      <th>id_</th>\n",
       "    </tr>\n",
       "  </thead>\n",
       "  <tbody>\n",
       "    <tr>\n",
       "      <th>21133</th>\n",
       "      <td>35</td>\n",
       "      <td>technician</td>\n",
       "      <td>married</td>\n",
       "      <td>professional_course</td>\n",
       "      <td>0.0</td>\n",
       "      <td>1.0</td>\n",
       "      <td>1.0</td>\n",
       "      <td>cellular</td>\n",
       "      <td>882</td>\n",
       "      <td>4</td>\n",
       "      <td>999</td>\n",
       "      <td>0</td>\n",
       "      <td>nonexistent</td>\n",
       "      <td>1.4</td>\n",
       "      <td>93.444</td>\n",
       "      <td>-36.1</td>\n",
       "      <td>4.963</td>\n",
       "      <td>5228</td>\n",
       "      <td>yes</td>\n",
       "      <td>2016-09-19</td>\n",
       "      <td>54f256ba-fc48-4b40-af29-7aaaaa1aabbc</td>\n",
       "    </tr>\n",
       "  </tbody>\n",
       "</table>\n",
       "</div>"
      ],
      "text/plain": [
       "       age         job  marital            education  default  housing  loan  \\\n",
       "21133   35  technician  married  professional_course      0.0      1.0   1.0   \n",
       "\n",
       "        contact  duration  campaign  pdays  previous     poutcome  \\\n",
       "21133  cellular       882         4    999         0  nonexistent   \n",
       "\n",
       "       emp.var.rate  cons.price.idx  cons.conf.idx  euribor3m  nr.employed  \\\n",
       "21133           1.4          93.444          -36.1      4.963         5228   \n",
       "\n",
       "         y       date                                   id_  \n",
       "21133  yes 2016-09-19  54f256ba-fc48-4b40-af29-7aaaaa1aabbc  "
      ]
     },
     "execution_count": 254,
     "metadata": {},
     "output_type": "execute_result"
    }
   ],
   "source": [
    "#Cambiamos el campo a tipo int pq no tiene sentido un float para edades. En este caso debido a que tiene NaN ponemos Int64 pq \n",
    "#sino no funcionaria con int64.\n",
    "df['age'] = df['age'].round().astype('Int64')\n",
    "df.sample()"
   ]
  },
  {
   "cell_type": "code",
   "execution_count": 229,
   "metadata": {},
   "outputs": [
    {
     "data": {
      "text/plain": [
       "age                 Int64\n",
       "job                object\n",
       "marital            object\n",
       "education          object\n",
       "default           float64\n",
       "housing           float64\n",
       "loan              float64\n",
       "contact            object\n",
       "duration            int64\n",
       "campaign            int64\n",
       "pdays               int64\n",
       "previous            int64\n",
       "poutcome           object\n",
       "emp.var.rate      float64\n",
       "cons.price.idx     object\n",
       "cons.conf.idx      object\n",
       "euribor3m          object\n",
       "nr.employed        object\n",
       "y                  object\n",
       "date               object\n",
       "id_                object\n",
       "dtype: object"
      ]
     },
     "execution_count": 229,
     "metadata": {},
     "output_type": "execute_result"
    }
   ],
   "source": [
    "df.dtypes"
   ]
  },
  {
   "cell_type": "code",
   "execution_count": 232,
   "metadata": {},
   "outputs": [
    {
     "data": {
      "text/plain": [
       "Index(['age', 'job', 'marital', 'education', 'default', 'housing', 'loan',\n",
       "       'contact', 'duration', 'campaign', 'pdays', 'previous', 'poutcome',\n",
       "       'emp.var.rate', 'cons.price.idx', 'cons.conf.idx', 'euribor3m',\n",
       "       'nr.employed', 'y', 'date', 'id_'],\n",
       "      dtype='object')"
      ]
     },
     "execution_count": 232,
     "metadata": {},
     "output_type": "execute_result"
    }
   ],
   "source": [
    "df.columns"
   ]
  },
  {
   "cell_type": "code",
   "execution_count": 233,
   "metadata": {},
   "outputs": [],
   "source": [
    "#Revisamos todas las columnas y en este caso las pasamos de mayúsculas a minúsculas.\n",
    "\n",
    "for col in df.select_dtypes(include='O').columns:\n",
    "    df[col]=df[col].str.lower()"
   ]
  },
  {
   "cell_type": "code",
   "execution_count": 234,
   "metadata": {},
   "outputs": [
    {
     "data": {
      "text/html": [
       "<div>\n",
       "<style scoped>\n",
       "    .dataframe tbody tr th:only-of-type {\n",
       "        vertical-align: middle;\n",
       "    }\n",
       "\n",
       "    .dataframe tbody tr th {\n",
       "        vertical-align: top;\n",
       "    }\n",
       "\n",
       "    .dataframe thead th {\n",
       "        text-align: right;\n",
       "    }\n",
       "</style>\n",
       "<table border=\"1\" class=\"dataframe\">\n",
       "  <thead>\n",
       "    <tr style=\"text-align: right;\">\n",
       "      <th></th>\n",
       "      <th>age</th>\n",
       "      <th>job</th>\n",
       "      <th>marital</th>\n",
       "      <th>education</th>\n",
       "      <th>default</th>\n",
       "      <th>housing</th>\n",
       "      <th>loan</th>\n",
       "      <th>contact</th>\n",
       "      <th>duration</th>\n",
       "      <th>campaign</th>\n",
       "      <th>pdays</th>\n",
       "      <th>previous</th>\n",
       "      <th>poutcome</th>\n",
       "      <th>emp.var.rate</th>\n",
       "      <th>cons.price.idx</th>\n",
       "      <th>cons.conf.idx</th>\n",
       "      <th>euribor3m</th>\n",
       "      <th>nr.employed</th>\n",
       "      <th>y</th>\n",
       "      <th>date</th>\n",
       "      <th>id_</th>\n",
       "    </tr>\n",
       "  </thead>\n",
       "  <tbody>\n",
       "    <tr>\n",
       "      <th>0</th>\n",
       "      <td>&lt;NA&gt;</td>\n",
       "      <td>housemaid</td>\n",
       "      <td>married</td>\n",
       "      <td>basic_4y</td>\n",
       "      <td>0.0</td>\n",
       "      <td>0.0</td>\n",
       "      <td>0.0</td>\n",
       "      <td>telephone</td>\n",
       "      <td>261</td>\n",
       "      <td>1</td>\n",
       "      <td>999</td>\n",
       "      <td>0</td>\n",
       "      <td>nonexistent</td>\n",
       "      <td>1.1</td>\n",
       "      <td>93,994</td>\n",
       "      <td>-36,4</td>\n",
       "      <td>4,857</td>\n",
       "      <td>5191</td>\n",
       "      <td>no</td>\n",
       "      <td>2-agosto-2019</td>\n",
       "      <td>089b39d8-e4d0-461b-87d4-814d71e0e079</td>\n",
       "    </tr>\n",
       "    <tr>\n",
       "      <th>1</th>\n",
       "      <td>57</td>\n",
       "      <td>services</td>\n",
       "      <td>married</td>\n",
       "      <td>high_school</td>\n",
       "      <td>NaN</td>\n",
       "      <td>0.0</td>\n",
       "      <td>0.0</td>\n",
       "      <td>telephone</td>\n",
       "      <td>149</td>\n",
       "      <td>1</td>\n",
       "      <td>999</td>\n",
       "      <td>0</td>\n",
       "      <td>nonexistent</td>\n",
       "      <td>1.1</td>\n",
       "      <td>93,994</td>\n",
       "      <td>-36,4</td>\n",
       "      <td>NaN</td>\n",
       "      <td>5191</td>\n",
       "      <td>no</td>\n",
       "      <td>14-septiembre-2016</td>\n",
       "      <td>e9d37224-cb6f-4942-98d7-46672963d097</td>\n",
       "    </tr>\n",
       "  </tbody>\n",
       "</table>\n",
       "</div>"
      ],
      "text/plain": [
       "    age        job  marital    education  default  housing  loan    contact  \\\n",
       "0  <NA>  housemaid  married     basic_4y      0.0      0.0   0.0  telephone   \n",
       "1    57   services  married  high_school      NaN      0.0   0.0  telephone   \n",
       "\n",
       "   duration  campaign  pdays  previous     poutcome  emp.var.rate  \\\n",
       "0       261         1    999         0  nonexistent           1.1   \n",
       "1       149         1    999         0  nonexistent           1.1   \n",
       "\n",
       "  cons.price.idx cons.conf.idx euribor3m nr.employed   y                date  \\\n",
       "0         93,994         -36,4     4,857        5191  no       2-agosto-2019   \n",
       "1         93,994         -36,4       NaN        5191  no  14-septiembre-2016   \n",
       "\n",
       "                                    id_  \n",
       "0  089b39d8-e4d0-461b-87d4-814d71e0e079  \n",
       "1  e9d37224-cb6f-4942-98d7-46672963d097  "
      ]
     },
     "execution_count": 234,
     "metadata": {},
     "output_type": "execute_result"
    }
   ],
   "source": [
    "df.head(2)"
   ]
  },
  {
   "cell_type": "markdown",
   "metadata": {},
   "source": [
    "#### Pasar datos a fecha (Utilizar la libreria DateTime)"
   ]
  },
  {
   "cell_type": "code",
   "execution_count": 235,
   "metadata": {},
   "outputs": [
    {
     "name": "stdout",
     "output_type": "stream",
     "text": [
      "<class 'pandas.core.frame.DataFrame'>\n",
      "Index: 43000 entries, 0 to 27570\n",
      "Data columns (total 21 columns):\n",
      " #   Column          Non-Null Count  Dtype  \n",
      "---  ------          --------------  -----  \n",
      " 0   age             37880 non-null  Int64  \n",
      " 1   job             42655 non-null  object \n",
      " 2   marital         42915 non-null  object \n",
      " 3   education       41193 non-null  object \n",
      " 4   default         34019 non-null  float64\n",
      " 5   housing         41974 non-null  float64\n",
      " 6   loan            41974 non-null  float64\n",
      " 7   contact         43000 non-null  object \n",
      " 8   duration        43000 non-null  int64  \n",
      " 9   campaign        43000 non-null  int64  \n",
      " 10  pdays           43000 non-null  int64  \n",
      " 11  previous        43000 non-null  int64  \n",
      " 12  poutcome        43000 non-null  object \n",
      " 13  emp.var.rate    43000 non-null  float64\n",
      " 14  cons.price.idx  42529 non-null  object \n",
      " 15  cons.conf.idx   43000 non-null  object \n",
      " 16  euribor3m       33744 non-null  object \n",
      " 17  nr.employed     43000 non-null  object \n",
      " 18  y               43000 non-null  object \n",
      " 19  date            42752 non-null  object \n",
      " 20  id_             43000 non-null  object \n",
      "dtypes: Int64(1), float64(4), int64(4), object(12)\n",
      "memory usage: 7.3+ MB\n"
     ]
    }
   ],
   "source": [
    "df.info() #si nos fijamos el tipo de la columna date es object y nosotros queremos pasarla a fecha."
   ]
  },
  {
   "cell_type": "code",
   "execution_count": 236,
   "metadata": {},
   "outputs": [
    {
     "data": {
      "text/html": [
       "<div>\n",
       "<style scoped>\n",
       "    .dataframe tbody tr th:only-of-type {\n",
       "        vertical-align: middle;\n",
       "    }\n",
       "\n",
       "    .dataframe tbody tr th {\n",
       "        vertical-align: top;\n",
       "    }\n",
       "\n",
       "    .dataframe thead th {\n",
       "        text-align: right;\n",
       "    }\n",
       "</style>\n",
       "<table border=\"1\" class=\"dataframe\">\n",
       "  <thead>\n",
       "    <tr style=\"text-align: right;\">\n",
       "      <th></th>\n",
       "      <th>age</th>\n",
       "      <th>job</th>\n",
       "      <th>marital</th>\n",
       "      <th>education</th>\n",
       "      <th>default</th>\n",
       "      <th>housing</th>\n",
       "      <th>loan</th>\n",
       "      <th>contact</th>\n",
       "      <th>duration</th>\n",
       "      <th>campaign</th>\n",
       "      <th>pdays</th>\n",
       "      <th>previous</th>\n",
       "      <th>poutcome</th>\n",
       "      <th>emp.var.rate</th>\n",
       "      <th>cons.price.idx</th>\n",
       "      <th>cons.conf.idx</th>\n",
       "      <th>euribor3m</th>\n",
       "      <th>nr.employed</th>\n",
       "      <th>y</th>\n",
       "      <th>date</th>\n",
       "      <th>id_</th>\n",
       "    </tr>\n",
       "  </thead>\n",
       "  <tbody>\n",
       "    <tr>\n",
       "      <th>25564</th>\n",
       "      <td>&lt;NA&gt;</td>\n",
       "      <td>blue-collar</td>\n",
       "      <td>married</td>\n",
       "      <td>basic_6y</td>\n",
       "      <td>0.0</td>\n",
       "      <td>1.0</td>\n",
       "      <td>0.0</td>\n",
       "      <td>cellular</td>\n",
       "      <td>169</td>\n",
       "      <td>1</td>\n",
       "      <td>999</td>\n",
       "      <td>0</td>\n",
       "      <td>nonexistent</td>\n",
       "      <td>-0.1</td>\n",
       "      <td>93,2</td>\n",
       "      <td>-42</td>\n",
       "      <td>4,12</td>\n",
       "      <td>5195,8</td>\n",
       "      <td>no</td>\n",
       "      <td>2-julio-2016</td>\n",
       "      <td>fa0e3f7c-b4a3-40c1-9f14-38ee0687584f</td>\n",
       "    </tr>\n",
       "  </tbody>\n",
       "</table>\n",
       "</div>"
      ],
      "text/plain": [
       "        age          job  marital education  default  housing  loan   contact  \\\n",
       "25564  <NA>  blue-collar  married  basic_6y      0.0      1.0   0.0  cellular   \n",
       "\n",
       "       duration  campaign  pdays  previous     poutcome  emp.var.rate  \\\n",
       "25564       169         1    999         0  nonexistent          -0.1   \n",
       "\n",
       "      cons.price.idx cons.conf.idx euribor3m nr.employed   y          date  \\\n",
       "25564           93,2           -42      4,12      5195,8  no  2-julio-2016   \n",
       "\n",
       "                                        id_  \n",
       "25564  fa0e3f7c-b4a3-40c1-9f14-38ee0687584f  "
      ]
     },
     "execution_count": 236,
     "metadata": {},
     "output_type": "execute_result"
    }
   ],
   "source": [
    "df.sample() #verificamos la columna date"
   ]
  },
  {
   "cell_type": "code",
   "execution_count": 237,
   "metadata": {},
   "outputs": [],
   "source": [
    "#debemos pues crear una libreria y cambiar dichos valores como enero a 01.\n",
    "\n",
    "meses = {\n",
    "    'enero':'01',\n",
    "    'febrero':'02',\n",
    "    'marzo' :'03',\n",
    "    'abril' :'04',\n",
    "    'mayo':'05',\n",
    "    'junio':'06',\n",
    "    'julio':'07',\n",
    "    'agosto':'08',\n",
    "    'septiembre':'09',\n",
    "    'octubre':'10',\n",
    "    'noviembre':'11',\n",
    "    'diciembre':'12'\n",
    "}"
   ]
  },
  {
   "cell_type": "code",
   "execution_count": 238,
   "metadata": {},
   "outputs": [
    {
     "data": {
      "text/html": [
       "<div>\n",
       "<style scoped>\n",
       "    .dataframe tbody tr th:only-of-type {\n",
       "        vertical-align: middle;\n",
       "    }\n",
       "\n",
       "    .dataframe tbody tr th {\n",
       "        vertical-align: top;\n",
       "    }\n",
       "\n",
       "    .dataframe thead th {\n",
       "        text-align: right;\n",
       "    }\n",
       "</style>\n",
       "<table border=\"1\" class=\"dataframe\">\n",
       "  <thead>\n",
       "    <tr style=\"text-align: right;\">\n",
       "      <th></th>\n",
       "      <th>age</th>\n",
       "      <th>job</th>\n",
       "      <th>marital</th>\n",
       "      <th>education</th>\n",
       "      <th>default</th>\n",
       "      <th>housing</th>\n",
       "      <th>loan</th>\n",
       "      <th>contact</th>\n",
       "      <th>duration</th>\n",
       "      <th>campaign</th>\n",
       "      <th>pdays</th>\n",
       "      <th>previous</th>\n",
       "      <th>poutcome</th>\n",
       "      <th>emp.var.rate</th>\n",
       "      <th>cons.price.idx</th>\n",
       "      <th>cons.conf.idx</th>\n",
       "      <th>euribor3m</th>\n",
       "      <th>nr.employed</th>\n",
       "      <th>y</th>\n",
       "      <th>date</th>\n",
       "      <th>id_</th>\n",
       "    </tr>\n",
       "  </thead>\n",
       "  <tbody>\n",
       "    <tr>\n",
       "      <th>0</th>\n",
       "      <td>&lt;NA&gt;</td>\n",
       "      <td>housemaid</td>\n",
       "      <td>married</td>\n",
       "      <td>basic_4y</td>\n",
       "      <td>0.0</td>\n",
       "      <td>0.0</td>\n",
       "      <td>0.0</td>\n",
       "      <td>telephone</td>\n",
       "      <td>261</td>\n",
       "      <td>1</td>\n",
       "      <td>999</td>\n",
       "      <td>0</td>\n",
       "      <td>nonexistent</td>\n",
       "      <td>1.1</td>\n",
       "      <td>93,994</td>\n",
       "      <td>-36,4</td>\n",
       "      <td>4,857</td>\n",
       "      <td>5191</td>\n",
       "      <td>no</td>\n",
       "      <td>2-08-2019</td>\n",
       "      <td>089b39d8-e4d0-461b-87d4-814d71e0e079</td>\n",
       "    </tr>\n",
       "    <tr>\n",
       "      <th>1</th>\n",
       "      <td>57</td>\n",
       "      <td>services</td>\n",
       "      <td>married</td>\n",
       "      <td>high_school</td>\n",
       "      <td>NaN</td>\n",
       "      <td>0.0</td>\n",
       "      <td>0.0</td>\n",
       "      <td>telephone</td>\n",
       "      <td>149</td>\n",
       "      <td>1</td>\n",
       "      <td>999</td>\n",
       "      <td>0</td>\n",
       "      <td>nonexistent</td>\n",
       "      <td>1.1</td>\n",
       "      <td>93,994</td>\n",
       "      <td>-36,4</td>\n",
       "      <td>NaN</td>\n",
       "      <td>5191</td>\n",
       "      <td>no</td>\n",
       "      <td>14-09-2016</td>\n",
       "      <td>e9d37224-cb6f-4942-98d7-46672963d097</td>\n",
       "    </tr>\n",
       "    <tr>\n",
       "      <th>2</th>\n",
       "      <td>37</td>\n",
       "      <td>services</td>\n",
       "      <td>married</td>\n",
       "      <td>high_school</td>\n",
       "      <td>0.0</td>\n",
       "      <td>1.0</td>\n",
       "      <td>0.0</td>\n",
       "      <td>telephone</td>\n",
       "      <td>226</td>\n",
       "      <td>1</td>\n",
       "      <td>999</td>\n",
       "      <td>0</td>\n",
       "      <td>nonexistent</td>\n",
       "      <td>1.1</td>\n",
       "      <td>93,994</td>\n",
       "      <td>-36,4</td>\n",
       "      <td>4,857</td>\n",
       "      <td>5191</td>\n",
       "      <td>no</td>\n",
       "      <td>15-02-2019</td>\n",
       "      <td>3f9f49b5-e410-4948-bf6e-f9244f04918b</td>\n",
       "    </tr>\n",
       "    <tr>\n",
       "      <th>3</th>\n",
       "      <td>40</td>\n",
       "      <td>admin.</td>\n",
       "      <td>married</td>\n",
       "      <td>basic_6y</td>\n",
       "      <td>0.0</td>\n",
       "      <td>0.0</td>\n",
       "      <td>0.0</td>\n",
       "      <td>telephone</td>\n",
       "      <td>151</td>\n",
       "      <td>1</td>\n",
       "      <td>999</td>\n",
       "      <td>0</td>\n",
       "      <td>nonexistent</td>\n",
       "      <td>1.1</td>\n",
       "      <td>93,994</td>\n",
       "      <td>-36,4</td>\n",
       "      <td>NaN</td>\n",
       "      <td>5191</td>\n",
       "      <td>no</td>\n",
       "      <td>29-11-2015</td>\n",
       "      <td>9991fafb-4447-451a-8be2-b0df6098d13e</td>\n",
       "    </tr>\n",
       "    <tr>\n",
       "      <th>4</th>\n",
       "      <td>56</td>\n",
       "      <td>services</td>\n",
       "      <td>married</td>\n",
       "      <td>high_school</td>\n",
       "      <td>0.0</td>\n",
       "      <td>0.0</td>\n",
       "      <td>1.0</td>\n",
       "      <td>telephone</td>\n",
       "      <td>307</td>\n",
       "      <td>1</td>\n",
       "      <td>999</td>\n",
       "      <td>0</td>\n",
       "      <td>nonexistent</td>\n",
       "      <td>1.1</td>\n",
       "      <td>93,994</td>\n",
       "      <td>-36,4</td>\n",
       "      <td>NaN</td>\n",
       "      <td>5191</td>\n",
       "      <td>no</td>\n",
       "      <td>29-01-2017</td>\n",
       "      <td>eca60b76-70b6-4077-80ba-bc52e8ebb0eb</td>\n",
       "    </tr>\n",
       "    <tr>\n",
       "      <th>...</th>\n",
       "      <td>...</td>\n",
       "      <td>...</td>\n",
       "      <td>...</td>\n",
       "      <td>...</td>\n",
       "      <td>...</td>\n",
       "      <td>...</td>\n",
       "      <td>...</td>\n",
       "      <td>...</td>\n",
       "      <td>...</td>\n",
       "      <td>...</td>\n",
       "      <td>...</td>\n",
       "      <td>...</td>\n",
       "      <td>...</td>\n",
       "      <td>...</td>\n",
       "      <td>...</td>\n",
       "      <td>...</td>\n",
       "      <td>...</td>\n",
       "      <td>...</td>\n",
       "      <td>...</td>\n",
       "      <td>...</td>\n",
       "      <td>...</td>\n",
       "    </tr>\n",
       "    <tr>\n",
       "      <th>19154</th>\n",
       "      <td>&lt;NA&gt;</td>\n",
       "      <td>admin.</td>\n",
       "      <td>married</td>\n",
       "      <td>university_degree</td>\n",
       "      <td>0.0</td>\n",
       "      <td>0.0</td>\n",
       "      <td>0.0</td>\n",
       "      <td>cellular</td>\n",
       "      <td>618</td>\n",
       "      <td>2</td>\n",
       "      <td>999</td>\n",
       "      <td>0</td>\n",
       "      <td>nonexistent</td>\n",
       "      <td>1.4</td>\n",
       "      <td>93,444</td>\n",
       "      <td>-36,1</td>\n",
       "      <td>NaN</td>\n",
       "      <td>5228,1</td>\n",
       "      <td>yes</td>\n",
       "      <td>13-10-2015</td>\n",
       "      <td>4eed05de-2a98-4227-b488-32122009b638</td>\n",
       "    </tr>\n",
       "    <tr>\n",
       "      <th>26206</th>\n",
       "      <td>34</td>\n",
       "      <td>technician</td>\n",
       "      <td>married</td>\n",
       "      <td>professional_course</td>\n",
       "      <td>0.0</td>\n",
       "      <td>1.0</td>\n",
       "      <td>1.0</td>\n",
       "      <td>cellular</td>\n",
       "      <td>42</td>\n",
       "      <td>7</td>\n",
       "      <td>999</td>\n",
       "      <td>0</td>\n",
       "      <td>nonexistent</td>\n",
       "      <td>-0.1</td>\n",
       "      <td>93,2</td>\n",
       "      <td>-42</td>\n",
       "      <td>NaN</td>\n",
       "      <td>5195,8</td>\n",
       "      <td>no</td>\n",
       "      <td>17-03-2018</td>\n",
       "      <td>0f0aca88-4088-4fe2-905f-44fb675d9493</td>\n",
       "    </tr>\n",
       "    <tr>\n",
       "      <th>15046</th>\n",
       "      <td>&lt;NA&gt;</td>\n",
       "      <td>blue-collar</td>\n",
       "      <td>single</td>\n",
       "      <td>basic_6y</td>\n",
       "      <td>0.0</td>\n",
       "      <td>1.0</td>\n",
       "      <td>0.0</td>\n",
       "      <td>cellular</td>\n",
       "      <td>391</td>\n",
       "      <td>2</td>\n",
       "      <td>999</td>\n",
       "      <td>0</td>\n",
       "      <td>nonexistent</td>\n",
       "      <td>1.4</td>\n",
       "      <td>93,918</td>\n",
       "      <td>-42,7</td>\n",
       "      <td>NaN</td>\n",
       "      <td>5228,1</td>\n",
       "      <td>no</td>\n",
       "      <td>15-09-2016</td>\n",
       "      <td>cadadd4b-7ee5-4019-b13a-ca01bb67ca5b</td>\n",
       "    </tr>\n",
       "    <tr>\n",
       "      <th>15280</th>\n",
       "      <td>&lt;NA&gt;</td>\n",
       "      <td>admin.</td>\n",
       "      <td>married</td>\n",
       "      <td>university_degree</td>\n",
       "      <td>NaN</td>\n",
       "      <td>0.0</td>\n",
       "      <td>0.0</td>\n",
       "      <td>cellular</td>\n",
       "      <td>674</td>\n",
       "      <td>3</td>\n",
       "      <td>999</td>\n",
       "      <td>0</td>\n",
       "      <td>nonexistent</td>\n",
       "      <td>1.4</td>\n",
       "      <td>93,918</td>\n",
       "      <td>-42,7</td>\n",
       "      <td>4,958</td>\n",
       "      <td>5228,1</td>\n",
       "      <td>no</td>\n",
       "      <td>23-09-2019</td>\n",
       "      <td>5f432048-d515-4bb5-9c94-62db451f88d4</td>\n",
       "    </tr>\n",
       "    <tr>\n",
       "      <th>27570</th>\n",
       "      <td>&lt;NA&gt;</td>\n",
       "      <td>unemployed</td>\n",
       "      <td>single</td>\n",
       "      <td>university_degree</td>\n",
       "      <td>0.0</td>\n",
       "      <td>0.0</td>\n",
       "      <td>1.0</td>\n",
       "      <td>cellular</td>\n",
       "      <td>104</td>\n",
       "      <td>2</td>\n",
       "      <td>999</td>\n",
       "      <td>0</td>\n",
       "      <td>nonexistent</td>\n",
       "      <td>-0.1</td>\n",
       "      <td>93,2</td>\n",
       "      <td>-42</td>\n",
       "      <td>4,021</td>\n",
       "      <td>5195,8</td>\n",
       "      <td>no</td>\n",
       "      <td>6-11-2019</td>\n",
       "      <td>993bbbd6-4dbc-4a40-a408-f91f8462bee6</td>\n",
       "    </tr>\n",
       "  </tbody>\n",
       "</table>\n",
       "<p>43000 rows × 21 columns</p>\n",
       "</div>"
      ],
      "text/plain": [
       "        age          job  marital            education  default  housing  \\\n",
       "0      <NA>    housemaid  married             basic_4y      0.0      0.0   \n",
       "1        57     services  married          high_school      NaN      0.0   \n",
       "2        37     services  married          high_school      0.0      1.0   \n",
       "3        40       admin.  married             basic_6y      0.0      0.0   \n",
       "4        56     services  married          high_school      0.0      0.0   \n",
       "...     ...          ...      ...                  ...      ...      ...   \n",
       "19154  <NA>       admin.  married    university_degree      0.0      0.0   \n",
       "26206    34   technician  married  professional_course      0.0      1.0   \n",
       "15046  <NA>  blue-collar   single             basic_6y      0.0      1.0   \n",
       "15280  <NA>       admin.  married    university_degree      NaN      0.0   \n",
       "27570  <NA>   unemployed   single    university_degree      0.0      0.0   \n",
       "\n",
       "       loan    contact  duration  campaign  pdays  previous     poutcome  \\\n",
       "0       0.0  telephone       261         1    999         0  nonexistent   \n",
       "1       0.0  telephone       149         1    999         0  nonexistent   \n",
       "2       0.0  telephone       226         1    999         0  nonexistent   \n",
       "3       0.0  telephone       151         1    999         0  nonexistent   \n",
       "4       1.0  telephone       307         1    999         0  nonexistent   \n",
       "...     ...        ...       ...       ...    ...       ...          ...   \n",
       "19154   0.0   cellular       618         2    999         0  nonexistent   \n",
       "26206   1.0   cellular        42         7    999         0  nonexistent   \n",
       "15046   0.0   cellular       391         2    999         0  nonexistent   \n",
       "15280   0.0   cellular       674         3    999         0  nonexistent   \n",
       "27570   1.0   cellular       104         2    999         0  nonexistent   \n",
       "\n",
       "       emp.var.rate cons.price.idx cons.conf.idx euribor3m nr.employed    y  \\\n",
       "0               1.1         93,994         -36,4     4,857        5191   no   \n",
       "1               1.1         93,994         -36,4       NaN        5191   no   \n",
       "2               1.1         93,994         -36,4     4,857        5191   no   \n",
       "3               1.1         93,994         -36,4       NaN        5191   no   \n",
       "4               1.1         93,994         -36,4       NaN        5191   no   \n",
       "...             ...            ...           ...       ...         ...  ...   \n",
       "19154           1.4         93,444         -36,1       NaN      5228,1  yes   \n",
       "26206          -0.1           93,2           -42       NaN      5195,8   no   \n",
       "15046           1.4         93,918         -42,7       NaN      5228,1   no   \n",
       "15280           1.4         93,918         -42,7     4,958      5228,1   no   \n",
       "27570          -0.1           93,2           -42     4,021      5195,8   no   \n",
       "\n",
       "             date                                   id_  \n",
       "0       2-08-2019  089b39d8-e4d0-461b-87d4-814d71e0e079  \n",
       "1      14-09-2016  e9d37224-cb6f-4942-98d7-46672963d097  \n",
       "2      15-02-2019  3f9f49b5-e410-4948-bf6e-f9244f04918b  \n",
       "3      29-11-2015  9991fafb-4447-451a-8be2-b0df6098d13e  \n",
       "4      29-01-2017  eca60b76-70b6-4077-80ba-bc52e8ebb0eb  \n",
       "...           ...                                   ...  \n",
       "19154  13-10-2015  4eed05de-2a98-4227-b488-32122009b638  \n",
       "26206  17-03-2018  0f0aca88-4088-4fe2-905f-44fb675d9493  \n",
       "15046  15-09-2016  cadadd4b-7ee5-4019-b13a-ca01bb67ca5b  \n",
       "15280  23-09-2019  5f432048-d515-4bb5-9c94-62db451f88d4  \n",
       "27570   6-11-2019  993bbbd6-4dbc-4a40-a408-f91f8462bee6  \n",
       "\n",
       "[43000 rows x 21 columns]"
      ]
     },
     "execution_count": 238,
     "metadata": {},
     "output_type": "execute_result"
    }
   ],
   "source": [
    "#con este código cambiamos la columna date pero solo lo visualizamos.\n",
    "df.replace({'date':meses},regex=True)"
   ]
  },
  {
   "cell_type": "code",
   "execution_count": 239,
   "metadata": {},
   "outputs": [],
   "source": [
    "#para guardar los cambios hariamos lo siguiente.\n",
    "df.replace({'date':meses},regex=True, inplace=True)"
   ]
  },
  {
   "cell_type": "code",
   "execution_count": 240,
   "metadata": {},
   "outputs": [
    {
     "data": {
      "text/plain": [
       "0       2019-08-02\n",
       "1       2016-09-14\n",
       "2       2019-02-15\n",
       "3       2015-11-29\n",
       "4       2017-01-29\n",
       "           ...    \n",
       "19154   2015-10-13\n",
       "26206   2018-03-17\n",
       "15046   2016-09-15\n",
       "15280   2019-09-23\n",
       "27570   2019-11-06\n",
       "Name: date, Length: 43000, dtype: datetime64[ns]"
      ]
     },
     "execution_count": 240,
     "metadata": {},
     "output_type": "execute_result"
    }
   ],
   "source": [
    "#volvemos a lanzar el código anterior de datetime para pasar ahora si el valor a fecha.\n",
    "pd.to_datetime(df['date'], format = '%d-%m-%Y')"
   ]
  },
  {
   "cell_type": "code",
   "execution_count": 241,
   "metadata": {},
   "outputs": [],
   "source": [
    "#el código funciona pero si nos devuelve algo es que no esta cambiado todavia.\n",
    "df['date'] = pd.to_datetime(df['date'], format = '%d-%m-%Y')"
   ]
  },
  {
   "cell_type": "code",
   "execution_count": 242,
   "metadata": {},
   "outputs": [
    {
     "name": "stdout",
     "output_type": "stream",
     "text": [
      "<class 'pandas.core.frame.DataFrame'>\n",
      "Index: 43000 entries, 0 to 27570\n",
      "Data columns (total 21 columns):\n",
      " #   Column          Non-Null Count  Dtype         \n",
      "---  ------          --------------  -----         \n",
      " 0   age             37880 non-null  Int64         \n",
      " 1   job             42655 non-null  object        \n",
      " 2   marital         42915 non-null  object        \n",
      " 3   education       41193 non-null  object        \n",
      " 4   default         34019 non-null  float64       \n",
      " 5   housing         41974 non-null  float64       \n",
      " 6   loan            41974 non-null  float64       \n",
      " 7   contact         43000 non-null  object        \n",
      " 8   duration        43000 non-null  int64         \n",
      " 9   campaign        43000 non-null  int64         \n",
      " 10  pdays           43000 non-null  int64         \n",
      " 11  previous        43000 non-null  int64         \n",
      " 12  poutcome        43000 non-null  object        \n",
      " 13  emp.var.rate    43000 non-null  float64       \n",
      " 14  cons.price.idx  42529 non-null  object        \n",
      " 15  cons.conf.idx   43000 non-null  object        \n",
      " 16  euribor3m       33744 non-null  object        \n",
      " 17  nr.employed     43000 non-null  object        \n",
      " 18  y               43000 non-null  object        \n",
      " 19  date            42752 non-null  datetime64[ns]\n",
      " 20  id_             43000 non-null  object        \n",
      "dtypes: Int64(1), datetime64[ns](1), float64(4), int64(4), object(11)\n",
      "memory usage: 7.3+ MB\n"
     ]
    }
   ],
   "source": [
    "#ahora si ejecutado el codigo y mirando en info podemos ver que hemos cambiado el dato a fecha.\n",
    "df.info()"
   ]
  },
  {
   "cell_type": "markdown",
   "metadata": {},
   "source": [
    "#### Cambiar las comas de los valores númericos por puntos. (En python los decimales van con puntos)"
   ]
  },
  {
   "cell_type": "code",
   "execution_count": 243,
   "metadata": {},
   "outputs": [],
   "source": [
    "#Revisamos todas las columnas OBJECT y cambiamos las comas por puntos\n",
    "for col in df.select_dtypes(include='O').columns:\n",
    "    df[col]=df[col].str.replace (',','.')\n",
    "    try:\n",
    "        df[col]=df[col].astype(float)\n",
    "    except:\n",
    "        pass"
   ]
  },
  {
   "cell_type": "code",
   "execution_count": 244,
   "metadata": {},
   "outputs": [
    {
     "name": "stdout",
     "output_type": "stream",
     "text": [
      "<class 'pandas.core.frame.DataFrame'>\n",
      "Index: 43000 entries, 0 to 27570\n",
      "Data columns (total 21 columns):\n",
      " #   Column          Non-Null Count  Dtype         \n",
      "---  ------          --------------  -----         \n",
      " 0   age             37880 non-null  Int64         \n",
      " 1   job             42655 non-null  object        \n",
      " 2   marital         42915 non-null  object        \n",
      " 3   education       41193 non-null  object        \n",
      " 4   default         34019 non-null  float64       \n",
      " 5   housing         41974 non-null  float64       \n",
      " 6   loan            41974 non-null  float64       \n",
      " 7   contact         43000 non-null  object        \n",
      " 8   duration        43000 non-null  int64         \n",
      " 9   campaign        43000 non-null  int64         \n",
      " 10  pdays           43000 non-null  int64         \n",
      " 11  previous        43000 non-null  int64         \n",
      " 12  poutcome        43000 non-null  object        \n",
      " 13  emp.var.rate    43000 non-null  float64       \n",
      " 14  cons.price.idx  42529 non-null  float64       \n",
      " 15  cons.conf.idx   43000 non-null  float64       \n",
      " 16  euribor3m       33744 non-null  float64       \n",
      " 17  nr.employed     43000 non-null  float64       \n",
      " 18  y               43000 non-null  object        \n",
      " 19  date            42752 non-null  datetime64[ns]\n",
      " 20  id_             43000 non-null  object        \n",
      "dtypes: Int64(1), datetime64[ns](1), float64(8), int64(4), object(7)\n",
      "memory usage: 7.3+ MB\n"
     ]
    }
   ],
   "source": [
    "df.info()"
   ]
  },
  {
   "cell_type": "code",
   "execution_count": 245,
   "metadata": {},
   "outputs": [
    {
     "data": {
      "text/html": [
       "<div>\n",
       "<style scoped>\n",
       "    .dataframe tbody tr th:only-of-type {\n",
       "        vertical-align: middle;\n",
       "    }\n",
       "\n",
       "    .dataframe tbody tr th {\n",
       "        vertical-align: top;\n",
       "    }\n",
       "\n",
       "    .dataframe thead th {\n",
       "        text-align: right;\n",
       "    }\n",
       "</style>\n",
       "<table border=\"1\" class=\"dataframe\">\n",
       "  <thead>\n",
       "    <tr style=\"text-align: right;\">\n",
       "      <th></th>\n",
       "      <th>age</th>\n",
       "      <th>job</th>\n",
       "      <th>marital</th>\n",
       "      <th>education</th>\n",
       "      <th>default</th>\n",
       "      <th>housing</th>\n",
       "      <th>loan</th>\n",
       "      <th>contact</th>\n",
       "      <th>duration</th>\n",
       "      <th>campaign</th>\n",
       "      <th>pdays</th>\n",
       "      <th>previous</th>\n",
       "      <th>poutcome</th>\n",
       "      <th>emp.var.rate</th>\n",
       "      <th>cons.price.idx</th>\n",
       "      <th>cons.conf.idx</th>\n",
       "      <th>euribor3m</th>\n",
       "      <th>nr.employed</th>\n",
       "      <th>y</th>\n",
       "      <th>date</th>\n",
       "      <th>id_</th>\n",
       "    </tr>\n",
       "  </thead>\n",
       "  <tbody>\n",
       "    <tr>\n",
       "      <th>26386</th>\n",
       "      <td>57</td>\n",
       "      <td>technician</td>\n",
       "      <td>married</td>\n",
       "      <td>professional_course</td>\n",
       "      <td>0.0</td>\n",
       "      <td>1.0</td>\n",
       "      <td>0.0</td>\n",
       "      <td>cellular</td>\n",
       "      <td>302</td>\n",
       "      <td>4</td>\n",
       "      <td>999</td>\n",
       "      <td>0</td>\n",
       "      <td>nonexistent</td>\n",
       "      <td>-0.1</td>\n",
       "      <td>93.2</td>\n",
       "      <td>-42.0</td>\n",
       "      <td>4.076</td>\n",
       "      <td>5195.8</td>\n",
       "      <td>no</td>\n",
       "      <td>2016-05-09</td>\n",
       "      <td>c7ae33d1-8bf1-4ecb-8c7c-274dec08d5d9</td>\n",
       "    </tr>\n",
       "  </tbody>\n",
       "</table>\n",
       "</div>"
      ],
      "text/plain": [
       "       age         job  marital            education  default  housing  loan  \\\n",
       "26386   57  technician  married  professional_course      0.0      1.0   0.0   \n",
       "\n",
       "        contact  duration  campaign  pdays  previous     poutcome  \\\n",
       "26386  cellular       302         4    999         0  nonexistent   \n",
       "\n",
       "       emp.var.rate  cons.price.idx  cons.conf.idx  euribor3m  nr.employed  \\\n",
       "26386          -0.1            93.2          -42.0      4.076       5195.8   \n",
       "\n",
       "        y       date                                   id_  \n",
       "26386  no 2016-05-09  c7ae33d1-8bf1-4ecb-8c7c-274dec08d5d9  "
      ]
     },
     "execution_count": 245,
     "metadata": {},
     "output_type": "execute_result"
    }
   ],
   "source": [
    "df.sample()"
   ]
  },
  {
   "cell_type": "markdown",
   "metadata": {},
   "source": [
    "#### Cambiar tipos de datos"
   ]
  },
  {
   "cell_type": "code",
   "execution_count": null,
   "metadata": {},
   "outputs": [
    {
     "data": {
      "text/html": [
       "<div>\n",
       "<style scoped>\n",
       "    .dataframe tbody tr th:only-of-type {\n",
       "        vertical-align: middle;\n",
       "    }\n",
       "\n",
       "    .dataframe tbody tr th {\n",
       "        vertical-align: top;\n",
       "    }\n",
       "\n",
       "    .dataframe thead th {\n",
       "        text-align: right;\n",
       "    }\n",
       "</style>\n",
       "<table border=\"1\" class=\"dataframe\">\n",
       "  <thead>\n",
       "    <tr style=\"text-align: right;\">\n",
       "      <th></th>\n",
       "      <th>age</th>\n",
       "      <th>job</th>\n",
       "      <th>marital</th>\n",
       "      <th>education</th>\n",
       "      <th>default</th>\n",
       "      <th>housing</th>\n",
       "      <th>loan</th>\n",
       "      <th>contact</th>\n",
       "      <th>duration</th>\n",
       "      <th>campaign</th>\n",
       "      <th>pdays</th>\n",
       "      <th>previous</th>\n",
       "      <th>poutcome</th>\n",
       "      <th>emp.var.rate</th>\n",
       "      <th>cons.price.idx</th>\n",
       "      <th>cons.conf.idx</th>\n",
       "      <th>euribor3m</th>\n",
       "      <th>nr.employed</th>\n",
       "      <th>y</th>\n",
       "      <th>date</th>\n",
       "      <th>id_</th>\n",
       "    </tr>\n",
       "  </thead>\n",
       "  <tbody>\n",
       "    <tr>\n",
       "      <th>3557</th>\n",
       "      <td>26</td>\n",
       "      <td>admin.</td>\n",
       "      <td>single</td>\n",
       "      <td>high_school</td>\n",
       "      <td>0.0</td>\n",
       "      <td>1.0</td>\n",
       "      <td>0.0</td>\n",
       "      <td>telephone</td>\n",
       "      <td>448</td>\n",
       "      <td>2</td>\n",
       "      <td>999</td>\n",
       "      <td>0</td>\n",
       "      <td>nonexistent</td>\n",
       "      <td>1.1</td>\n",
       "      <td>93.994</td>\n",
       "      <td>-36.4</td>\n",
       "      <td>4.859</td>\n",
       "      <td>5191</td>\n",
       "      <td>no</td>\n",
       "      <td>2016-07-01</td>\n",
       "      <td>cc8e9c92-c589-43a7-bcd1-c966e294ce8e</td>\n",
       "    </tr>\n",
       "  </tbody>\n",
       "</table>\n",
       "</div>"
      ],
      "text/plain": [
       "      age     job marital    education  default  housing  loan    contact  \\\n",
       "3557   26  admin.  single  high_school      0.0      1.0   0.0  telephone   \n",
       "\n",
       "      duration  campaign  pdays  previous     poutcome  emp.var.rate  \\\n",
       "3557       448         2    999         0  nonexistent           1.1   \n",
       "\n",
       "      cons.price.idx  cons.conf.idx  euribor3m  nr.employed   y       date  \\\n",
       "3557          93.994          -36.4      4.859         5191  no 2016-07-01   \n",
       "\n",
       "                                       id_  \n",
       "3557  cc8e9c92-c589-43a7-bcd1-c966e294ce8e  "
      ]
     },
     "execution_count": 251,
     "metadata": {},
     "output_type": "execute_result"
    }
   ],
   "source": [
    "df['nr.employed'] = df['nr.employed'].round().astype('int64')#Hacemos el cambio ahora pq previamente teniamos que pasar el campo de object a float y ahora a int.\n",
    "df.sample()"
   ]
  },
  {
   "cell_type": "code",
   "execution_count": 255,
   "metadata": {},
   "outputs": [
    {
     "data": {
      "text/plain": [
       "age                        Int64\n",
       "job                       object\n",
       "marital                   object\n",
       "education                 object\n",
       "default                  float64\n",
       "housing                  float64\n",
       "loan                     float64\n",
       "contact                   object\n",
       "duration                   int64\n",
       "campaign                   int64\n",
       "pdays                      int64\n",
       "previous                   int64\n",
       "poutcome                  object\n",
       "emp.var.rate             float64\n",
       "cons.price.idx           float64\n",
       "cons.conf.idx            float64\n",
       "euribor3m                float64\n",
       "nr.employed                int64\n",
       "y                         object\n",
       "date              datetime64[ns]\n",
       "id_                       object\n",
       "dtype: object"
      ]
     },
     "execution_count": 255,
     "metadata": {},
     "output_type": "execute_result"
    }
   ],
   "source": [
    "df.dtypes"
   ]
  },
  {
   "cell_type": "code",
   "execution_count": 256,
   "metadata": {},
   "outputs": [],
   "source": [
    "dicc_loan = {1:'yes',\n",
    "             0:'no'}"
   ]
  },
  {
   "cell_type": "code",
   "execution_count": 257,
   "metadata": {},
   "outputs": [],
   "source": [
    "df['loan']= df['loan'].map(dicc_loan)"
   ]
  },
  {
   "cell_type": "code",
   "execution_count": 258,
   "metadata": {},
   "outputs": [
    {
     "data": {
      "text/plain": [
       "array(['no', 'yes', nan], dtype=object)"
      ]
     },
     "execution_count": 258,
     "metadata": {},
     "output_type": "execute_result"
    }
   ],
   "source": [
    "df['loan'].unique()"
   ]
  },
  {
   "cell_type": "code",
   "execution_count": 259,
   "metadata": {},
   "outputs": [
    {
     "data": {
      "text/html": [
       "<div>\n",
       "<style scoped>\n",
       "    .dataframe tbody tr th:only-of-type {\n",
       "        vertical-align: middle;\n",
       "    }\n",
       "\n",
       "    .dataframe tbody tr th {\n",
       "        vertical-align: top;\n",
       "    }\n",
       "\n",
       "    .dataframe thead th {\n",
       "        text-align: right;\n",
       "    }\n",
       "</style>\n",
       "<table border=\"1\" class=\"dataframe\">\n",
       "  <thead>\n",
       "    <tr style=\"text-align: right;\">\n",
       "      <th></th>\n",
       "      <th>age</th>\n",
       "      <th>job</th>\n",
       "      <th>marital</th>\n",
       "      <th>education</th>\n",
       "      <th>default</th>\n",
       "      <th>housing</th>\n",
       "      <th>loan</th>\n",
       "      <th>contact</th>\n",
       "      <th>duration</th>\n",
       "      <th>campaign</th>\n",
       "      <th>pdays</th>\n",
       "      <th>previous</th>\n",
       "      <th>poutcome</th>\n",
       "      <th>emp.var.rate</th>\n",
       "      <th>cons.price.idx</th>\n",
       "      <th>cons.conf.idx</th>\n",
       "      <th>euribor3m</th>\n",
       "      <th>nr.employed</th>\n",
       "      <th>y</th>\n",
       "      <th>date</th>\n",
       "      <th>id_</th>\n",
       "    </tr>\n",
       "  </thead>\n",
       "  <tbody>\n",
       "    <tr>\n",
       "      <th>16064</th>\n",
       "      <td>30</td>\n",
       "      <td>admin.</td>\n",
       "      <td>single</td>\n",
       "      <td>high_school</td>\n",
       "      <td>0.0</td>\n",
       "      <td>1.0</td>\n",
       "      <td>yes</td>\n",
       "      <td>cellular</td>\n",
       "      <td>254</td>\n",
       "      <td>1</td>\n",
       "      <td>999</td>\n",
       "      <td>0</td>\n",
       "      <td>nonexistent</td>\n",
       "      <td>1.4</td>\n",
       "      <td>93.918</td>\n",
       "      <td>-42.7</td>\n",
       "      <td>4.961</td>\n",
       "      <td>5228</td>\n",
       "      <td>no</td>\n",
       "      <td>2017-03-20</td>\n",
       "      <td>027fd082-bcd7-464b-870b-fea2f12a3bba</td>\n",
       "    </tr>\n",
       "  </tbody>\n",
       "</table>\n",
       "</div>"
      ],
      "text/plain": [
       "       age     job marital    education  default  housing loan   contact  \\\n",
       "16064   30  admin.  single  high_school      0.0      1.0  yes  cellular   \n",
       "\n",
       "       duration  campaign  pdays  previous     poutcome  emp.var.rate  \\\n",
       "16064       254         1    999         0  nonexistent           1.4   \n",
       "\n",
       "       cons.price.idx  cons.conf.idx  euribor3m  nr.employed   y       date  \\\n",
       "16064          93.918          -42.7      4.961         5228  no 2017-03-20   \n",
       "\n",
       "                                        id_  \n",
       "16064  027fd082-bcd7-464b-870b-fea2f12a3bba  "
      ]
     },
     "execution_count": 259,
     "metadata": {},
     "output_type": "execute_result"
    }
   ],
   "source": [
    "df.sample()"
   ]
  },
  {
   "cell_type": "code",
   "execution_count": 260,
   "metadata": {},
   "outputs": [],
   "source": [
    "dicc_housing={1:'yes',\n",
    "              0:'no'}"
   ]
  },
  {
   "cell_type": "code",
   "execution_count": 261,
   "metadata": {},
   "outputs": [],
   "source": [
    "df['housing']= df['housing'].map(dicc_housing)"
   ]
  },
  {
   "cell_type": "code",
   "execution_count": 262,
   "metadata": {},
   "outputs": [
    {
     "data": {
      "text/plain": [
       "array(['no', 'yes', nan], dtype=object)"
      ]
     },
     "execution_count": 262,
     "metadata": {},
     "output_type": "execute_result"
    }
   ],
   "source": [
    "df['housing'].unique()"
   ]
  },
  {
   "cell_type": "code",
   "execution_count": 263,
   "metadata": {},
   "outputs": [],
   "source": [
    "dicc_default = {1:'yes',\n",
    "              0:'no'}"
   ]
  },
  {
   "cell_type": "code",
   "execution_count": 264,
   "metadata": {},
   "outputs": [],
   "source": [
    "df['default']= df['default'].map(dicc_default)"
   ]
  },
  {
   "cell_type": "code",
   "execution_count": 265,
   "metadata": {},
   "outputs": [
    {
     "data": {
      "text/plain": [
       "array(['no', nan, 'yes'], dtype=object)"
      ]
     },
     "execution_count": 265,
     "metadata": {},
     "output_type": "execute_result"
    }
   ],
   "source": [
    "df['default'].unique()"
   ]
  },
  {
   "cell_type": "code",
   "execution_count": null,
   "metadata": {},
   "outputs": [
    {
     "data": {
      "text/html": [
       "<div>\n",
       "<style scoped>\n",
       "    .dataframe tbody tr th:only-of-type {\n",
       "        vertical-align: middle;\n",
       "    }\n",
       "\n",
       "    .dataframe tbody tr th {\n",
       "        vertical-align: top;\n",
       "    }\n",
       "\n",
       "    .dataframe thead th {\n",
       "        text-align: right;\n",
       "    }\n",
       "</style>\n",
       "<table border=\"1\" class=\"dataframe\">\n",
       "  <thead>\n",
       "    <tr style=\"text-align: right;\">\n",
       "      <th></th>\n",
       "      <th>age</th>\n",
       "      <th>job</th>\n",
       "      <th>marital</th>\n",
       "      <th>education</th>\n",
       "      <th>default</th>\n",
       "      <th>housing</th>\n",
       "      <th>loan</th>\n",
       "      <th>contact</th>\n",
       "      <th>duration</th>\n",
       "      <th>campaign</th>\n",
       "      <th>pdays</th>\n",
       "      <th>previous</th>\n",
       "      <th>poutcome</th>\n",
       "      <th>emp.var.rate</th>\n",
       "      <th>cons.price.idx</th>\n",
       "      <th>cons.conf.idx</th>\n",
       "      <th>euribor3m</th>\n",
       "      <th>nr.employed</th>\n",
       "      <th>y</th>\n",
       "      <th>date</th>\n",
       "      <th>id_</th>\n",
       "    </tr>\n",
       "  </thead>\n",
       "  <tbody>\n",
       "    <tr>\n",
       "      <th>0</th>\n",
       "      <td>&lt;NA&gt;</td>\n",
       "      <td>housemaid</td>\n",
       "      <td>married</td>\n",
       "      <td>basic_4y</td>\n",
       "      <td>no</td>\n",
       "      <td>no</td>\n",
       "      <td>no</td>\n",
       "      <td>telephone</td>\n",
       "      <td>261</td>\n",
       "      <td>1</td>\n",
       "      <td>999</td>\n",
       "      <td>0</td>\n",
       "      <td>nonexistent</td>\n",
       "      <td>1.1</td>\n",
       "      <td>93.994</td>\n",
       "      <td>-36.4</td>\n",
       "      <td>4.857</td>\n",
       "      <td>5191</td>\n",
       "      <td>no</td>\n",
       "      <td>2019-08-02</td>\n",
       "      <td>089b39d8-e4d0-461b-87d4-814d71e0e079</td>\n",
       "    </tr>\n",
       "    <tr>\n",
       "      <th>1</th>\n",
       "      <td>57</td>\n",
       "      <td>services</td>\n",
       "      <td>married</td>\n",
       "      <td>high_school</td>\n",
       "      <td>NaN</td>\n",
       "      <td>no</td>\n",
       "      <td>no</td>\n",
       "      <td>telephone</td>\n",
       "      <td>149</td>\n",
       "      <td>1</td>\n",
       "      <td>999</td>\n",
       "      <td>0</td>\n",
       "      <td>nonexistent</td>\n",
       "      <td>1.1</td>\n",
       "      <td>93.994</td>\n",
       "      <td>-36.4</td>\n",
       "      <td>NaN</td>\n",
       "      <td>5191</td>\n",
       "      <td>no</td>\n",
       "      <td>2016-09-14</td>\n",
       "      <td>e9d37224-cb6f-4942-98d7-46672963d097</td>\n",
       "    </tr>\n",
       "  </tbody>\n",
       "</table>\n",
       "</div>"
      ],
      "text/plain": [
       "    age        job  marital    education default housing loan    contact  \\\n",
       "0  <NA>  housemaid  married     basic_4y      no      no   no  telephone   \n",
       "1    57   services  married  high_school     NaN      no   no  telephone   \n",
       "\n",
       "   duration  campaign  pdays  previous     poutcome  emp.var.rate  \\\n",
       "0       261         1    999         0  nonexistent           1.1   \n",
       "1       149         1    999         0  nonexistent           1.1   \n",
       "\n",
       "   cons.price.idx  cons.conf.idx  euribor3m  nr.employed   y       date  \\\n",
       "0          93.994          -36.4      4.857         5191  no 2019-08-02   \n",
       "1          93.994          -36.4        NaN         5191  no 2016-09-14   \n",
       "\n",
       "                                    id_  \n",
       "0  089b39d8-e4d0-461b-87d4-814d71e0e079  \n",
       "1  e9d37224-cb6f-4942-98d7-46672963d097  "
      ]
     },
     "execution_count": 267,
     "metadata": {},
     "output_type": "execute_result"
    }
   ],
   "source": [
    "#terminada la limpieza verificamos el resultado final.\n",
    "#podriamos hacer el id más legible pero no encuntro una manera que no me genere posibles problemas.\n",
    "df.head(2)"
   ]
  },
  {
   "cell_type": "code",
   "execution_count": 268,
   "metadata": {},
   "outputs": [
    {
     "name": "stdout",
     "output_type": "stream",
     "text": [
      "<class 'pandas.core.frame.DataFrame'>\n",
      "Index: 43000 entries, 0 to 27570\n",
      "Data columns (total 21 columns):\n",
      " #   Column          Non-Null Count  Dtype         \n",
      "---  ------          --------------  -----         \n",
      " 0   age             37880 non-null  Int64         \n",
      " 1   job             42655 non-null  object        \n",
      " 2   marital         42915 non-null  object        \n",
      " 3   education       41193 non-null  object        \n",
      " 4   default         34019 non-null  object        \n",
      " 5   housing         41974 non-null  object        \n",
      " 6   loan            41974 non-null  object        \n",
      " 7   contact         43000 non-null  object        \n",
      " 8   duration        43000 non-null  int64         \n",
      " 9   campaign        43000 non-null  int64         \n",
      " 10  pdays           43000 non-null  int64         \n",
      " 11  previous        43000 non-null  int64         \n",
      " 12  poutcome        43000 non-null  object        \n",
      " 13  emp.var.rate    43000 non-null  float64       \n",
      " 14  cons.price.idx  42529 non-null  float64       \n",
      " 15  cons.conf.idx   43000 non-null  float64       \n",
      " 16  euribor3m       33744 non-null  float64       \n",
      " 17  nr.employed     43000 non-null  int64         \n",
      " 18  y               43000 non-null  object        \n",
      " 19  date            42752 non-null  datetime64[ns]\n",
      " 20  id_             43000 non-null  object        \n",
      "dtypes: Int64(1), datetime64[ns](1), float64(4), int64(5), object(10)\n",
      "memory usage: 7.3+ MB\n"
     ]
    }
   ],
   "source": [
    "df.info()"
   ]
  },
  {
   "cell_type": "markdown",
   "metadata": {},
   "source": [
    "#### Gestión de Nulos"
   ]
  },
  {
   "cell_type": "markdown",
   "metadata": {},
   "source": [
    "##### Visualizar cuantos nulos tenemos en %"
   ]
  },
  {
   "cell_type": "code",
   "execution_count": 167,
   "metadata": {},
   "outputs": [
    {
     "data": {
      "text/plain": [
       "age               5120\n",
       "job                345\n",
       "marital             85\n",
       "education         1807\n",
       "default           8981\n",
       "housing           1026\n",
       "loan              1026\n",
       "contact              0\n",
       "duration             0\n",
       "campaign             0\n",
       "pdays                0\n",
       "previous             0\n",
       "poutcome             0\n",
       "emp.var.rate         0\n",
       "cons.price.idx     471\n",
       "cons.conf.idx        0\n",
       "euribor3m         9256\n",
       "nr.employed          0\n",
       "y                    0\n",
       "date               248\n",
       "id_                  0\n",
       "dtype: int64"
      ]
     },
     "execution_count": 167,
     "metadata": {},
     "output_type": "execute_result"
    }
   ],
   "source": [
    "#Visualizamos la cantidad de nulos que tenemos en las columnas.\n",
    "df.isnull().sum()"
   ]
  },
  {
   "cell_type": "code",
   "execution_count": 168,
   "metadata": {},
   "outputs": [
    {
     "data": {
      "text/plain": [
       "43000"
      ]
     },
     "execution_count": 168,
     "metadata": {},
     "output_type": "execute_result"
    }
   ],
   "source": [
    "len(df)"
   ]
  },
  {
   "cell_type": "code",
   "execution_count": 169,
   "metadata": {},
   "outputs": [
    {
     "data": {
      "text/plain": [
       "age               11.91\n",
       "job                0.80\n",
       "marital            0.20\n",
       "education          4.20\n",
       "default           20.89\n",
       "housing            2.39\n",
       "loan               2.39\n",
       "contact            0.00\n",
       "duration           0.00\n",
       "campaign           0.00\n",
       "pdays              0.00\n",
       "previous           0.00\n",
       "poutcome           0.00\n",
       "emp.var.rate       0.00\n",
       "cons.price.idx     1.10\n",
       "cons.conf.idx      0.00\n",
       "euribor3m         21.53\n",
       "nr.employed        0.00\n",
       "y                  0.00\n",
       "date               0.58\n",
       "id_                0.00\n",
       "dtype: float64"
      ]
     },
     "execution_count": 169,
     "metadata": {},
     "output_type": "execute_result"
    }
   ],
   "source": [
    "#Cálculo de valores en %\n",
    "(df.isnull().sum()/df.shape[0]*100).round(2)\n",
    "\n",
    "#también podriamos hacer el cálculo con len(df): 'df.isnull().sum()/len(df)'"
   ]
  },
  {
   "cell_type": "code",
   "execution_count": 170,
   "metadata": {},
   "outputs": [],
   "source": [
    "# Nuevo dataframe para ver únicamente los nulos\n",
    "nulos = df.isnull().sum()/df.shape[0]*100"
   ]
  },
  {
   "cell_type": "code",
   "execution_count": 171,
   "metadata": {},
   "outputs": [
    {
     "data": {
      "text/plain": [
       "age                True\n",
       "job                True\n",
       "marital            True\n",
       "education          True\n",
       "default            True\n",
       "housing            True\n",
       "loan               True\n",
       "contact           False\n",
       "duration          False\n",
       "campaign          False\n",
       "pdays             False\n",
       "previous          False\n",
       "poutcome          False\n",
       "emp.var.rate      False\n",
       "cons.price.idx     True\n",
       "cons.conf.idx     False\n",
       "euribor3m          True\n",
       "nr.employed       False\n",
       "y                 False\n",
       "date               True\n",
       "id_               False\n",
       "dtype: bool"
      ]
     },
     "execution_count": 171,
     "metadata": {},
     "output_type": "execute_result"
    }
   ],
   "source": [
    "nulos>0"
   ]
  },
  {
   "cell_type": "code",
   "execution_count": 172,
   "metadata": {},
   "outputs": [
    {
     "data": {
      "text/html": [
       "<div>\n",
       "<style scoped>\n",
       "    .dataframe tbody tr th:only-of-type {\n",
       "        vertical-align: middle;\n",
       "    }\n",
       "\n",
       "    .dataframe tbody tr th {\n",
       "        vertical-align: top;\n",
       "    }\n",
       "\n",
       "    .dataframe thead th {\n",
       "        text-align: right;\n",
       "    }\n",
       "</style>\n",
       "<table border=\"1\" class=\"dataframe\">\n",
       "  <thead>\n",
       "    <tr style=\"text-align: right;\">\n",
       "      <th></th>\n",
       "      <th>porcentaje_nulos</th>\n",
       "    </tr>\n",
       "  </thead>\n",
       "  <tbody>\n",
       "    <tr>\n",
       "      <th>age</th>\n",
       "      <td>11.906977</td>\n",
       "    </tr>\n",
       "    <tr>\n",
       "      <th>job</th>\n",
       "      <td>0.802326</td>\n",
       "    </tr>\n",
       "    <tr>\n",
       "      <th>marital</th>\n",
       "      <td>0.197674</td>\n",
       "    </tr>\n",
       "    <tr>\n",
       "      <th>education</th>\n",
       "      <td>4.202326</td>\n",
       "    </tr>\n",
       "    <tr>\n",
       "      <th>default</th>\n",
       "      <td>20.886047</td>\n",
       "    </tr>\n",
       "    <tr>\n",
       "      <th>housing</th>\n",
       "      <td>2.386047</td>\n",
       "    </tr>\n",
       "    <tr>\n",
       "      <th>loan</th>\n",
       "      <td>2.386047</td>\n",
       "    </tr>\n",
       "    <tr>\n",
       "      <th>contact</th>\n",
       "      <td>0.000000</td>\n",
       "    </tr>\n",
       "    <tr>\n",
       "      <th>duration</th>\n",
       "      <td>0.000000</td>\n",
       "    </tr>\n",
       "    <tr>\n",
       "      <th>campaign</th>\n",
       "      <td>0.000000</td>\n",
       "    </tr>\n",
       "    <tr>\n",
       "      <th>pdays</th>\n",
       "      <td>0.000000</td>\n",
       "    </tr>\n",
       "    <tr>\n",
       "      <th>previous</th>\n",
       "      <td>0.000000</td>\n",
       "    </tr>\n",
       "    <tr>\n",
       "      <th>poutcome</th>\n",
       "      <td>0.000000</td>\n",
       "    </tr>\n",
       "    <tr>\n",
       "      <th>emp.var.rate</th>\n",
       "      <td>0.000000</td>\n",
       "    </tr>\n",
       "    <tr>\n",
       "      <th>cons.price.idx</th>\n",
       "      <td>1.095349</td>\n",
       "    </tr>\n",
       "    <tr>\n",
       "      <th>cons.conf.idx</th>\n",
       "      <td>0.000000</td>\n",
       "    </tr>\n",
       "    <tr>\n",
       "      <th>euribor3m</th>\n",
       "      <td>21.525581</td>\n",
       "    </tr>\n",
       "    <tr>\n",
       "      <th>nr.employed</th>\n",
       "      <td>0.000000</td>\n",
       "    </tr>\n",
       "    <tr>\n",
       "      <th>y</th>\n",
       "      <td>0.000000</td>\n",
       "    </tr>\n",
       "    <tr>\n",
       "      <th>date</th>\n",
       "      <td>0.576744</td>\n",
       "    </tr>\n",
       "    <tr>\n",
       "      <th>id_</th>\n",
       "      <td>0.000000</td>\n",
       "    </tr>\n",
       "  </tbody>\n",
       "</table>\n",
       "</div>"
      ],
      "text/plain": [
       "                porcentaje_nulos\n",
       "age                    11.906977\n",
       "job                     0.802326\n",
       "marital                 0.197674\n",
       "education               4.202326\n",
       "default                20.886047\n",
       "housing                 2.386047\n",
       "loan                    2.386047\n",
       "contact                 0.000000\n",
       "duration                0.000000\n",
       "campaign                0.000000\n",
       "pdays                   0.000000\n",
       "previous                0.000000\n",
       "poutcome                0.000000\n",
       "emp.var.rate            0.000000\n",
       "cons.price.idx          1.095349\n",
       "cons.conf.idx           0.000000\n",
       "euribor3m              21.525581\n",
       "nr.employed             0.000000\n",
       "y                       0.000000\n",
       "date                    0.576744\n",
       "id_                     0.000000"
      ]
     },
     "execution_count": 172,
     "metadata": {},
     "output_type": "execute_result"
    }
   ],
   "source": [
    "#Convertimos la serie en un DataFrame\n",
    "pd.DataFrame(nulos,columns=['porcentaje_nulos'])"
   ]
  },
  {
   "cell_type": "code",
   "execution_count": 173,
   "metadata": {},
   "outputs": [
    {
     "data": {
      "text/html": [
       "<div>\n",
       "<style scoped>\n",
       "    .dataframe tbody tr th:only-of-type {\n",
       "        vertical-align: middle;\n",
       "    }\n",
       "\n",
       "    .dataframe tbody tr th {\n",
       "        vertical-align: top;\n",
       "    }\n",
       "\n",
       "    .dataframe thead th {\n",
       "        text-align: right;\n",
       "    }\n",
       "</style>\n",
       "<table border=\"1\" class=\"dataframe\">\n",
       "  <thead>\n",
       "    <tr style=\"text-align: right;\">\n",
       "      <th></th>\n",
       "      <th>porcentaje_nulos</th>\n",
       "    </tr>\n",
       "  </thead>\n",
       "  <tbody>\n",
       "    <tr>\n",
       "      <th>euribor3m</th>\n",
       "      <td>21.53</td>\n",
       "    </tr>\n",
       "    <tr>\n",
       "      <th>default</th>\n",
       "      <td>20.89</td>\n",
       "    </tr>\n",
       "    <tr>\n",
       "      <th>age</th>\n",
       "      <td>11.91</td>\n",
       "    </tr>\n",
       "    <tr>\n",
       "      <th>education</th>\n",
       "      <td>4.20</td>\n",
       "    </tr>\n",
       "    <tr>\n",
       "      <th>loan</th>\n",
       "      <td>2.39</td>\n",
       "    </tr>\n",
       "    <tr>\n",
       "      <th>housing</th>\n",
       "      <td>2.39</td>\n",
       "    </tr>\n",
       "    <tr>\n",
       "      <th>cons.price.idx</th>\n",
       "      <td>1.10</td>\n",
       "    </tr>\n",
       "    <tr>\n",
       "      <th>job</th>\n",
       "      <td>0.80</td>\n",
       "    </tr>\n",
       "    <tr>\n",
       "      <th>date</th>\n",
       "      <td>0.58</td>\n",
       "    </tr>\n",
       "    <tr>\n",
       "      <th>marital</th>\n",
       "      <td>0.20</td>\n",
       "    </tr>\n",
       "  </tbody>\n",
       "</table>\n",
       "</div>"
      ],
      "text/plain": [
       "                porcentaje_nulos\n",
       "euribor3m                  21.53\n",
       "default                    20.89\n",
       "age                        11.91\n",
       "education                   4.20\n",
       "loan                        2.39\n",
       "housing                     2.39\n",
       "cons.price.idx              1.10\n",
       "job                         0.80\n",
       "date                        0.58\n",
       "marital                     0.20"
      ]
     },
     "execution_count": 173,
     "metadata": {},
     "output_type": "execute_result"
    }
   ],
   "source": [
    "#Para hacerlo visualmente más legible vamos a quitar las columnas que no tengan nulos.T\n",
    "df_nulos = pd.DataFrame(nulos,columns=['porcentaje_nulos'])\n",
    "filtro = df_nulos['porcentaje_nulos']>0\n",
    "df_nulos[filtro].round(2).sort_values(by='porcentaje_nulos',ascending=False)"
   ]
  },
  {
   "cell_type": "markdown",
   "metadata": {},
   "source": [
    "---"
   ]
  },
  {
   "cell_type": "markdown",
   "metadata": {},
   "source": [
    "##### Distinguir entre columnas categóricas y númericas."
   ]
  },
  {
   "cell_type": "code",
   "execution_count": 174,
   "metadata": {},
   "outputs": [
    {
     "data": {
      "text/plain": [
       "Index(['age', 'job', 'marital', 'education', 'default', 'housing', 'loan',\n",
       "       'cons.price.idx', 'euribor3m', 'date'],\n",
       "      dtype='object')"
      ]
     },
     "execution_count": 174,
     "metadata": {},
     "output_type": "execute_result"
    }
   ],
   "source": [
    "#método que nos dice si hay nulos. Otra forma diferente a la anterior.\n",
    "df.columns[df.isnull().any()]"
   ]
  },
  {
   "cell_type": "code",
   "execution_count": 175,
   "metadata": {},
   "outputs": [
    {
     "data": {
      "text/plain": [
       "Index(['job', 'marital', 'education', 'default', 'housing', 'loan'], dtype='object')"
      ]
     },
     "execution_count": 175,
     "metadata": {},
     "output_type": "execute_result"
    }
   ],
   "source": [
    "#Con esto vemos todas la columnas\n",
    "#df.columns pero nosotros solo queremos las categóricas.\n",
    "\n",
    "#COLUMNAS CATEGÓRICAS CON NULOS\n",
    "df[df.columns[df.isnull().any()]].select_dtypes(include='O').columns"
   ]
  },
  {
   "cell_type": "code",
   "execution_count": 176,
   "metadata": {},
   "outputs": [
    {
     "data": {
      "text/plain": [
       "(43000, 21)"
      ]
     },
     "execution_count": 176,
     "metadata": {},
     "output_type": "execute_result"
    }
   ],
   "source": [
    "df.shape"
   ]
  },
  {
   "cell_type": "code",
   "execution_count": 177,
   "metadata": {},
   "outputs": [
    {
     "data": {
      "text/html": [
       "<div>\n",
       "<style scoped>\n",
       "    .dataframe tbody tr th:only-of-type {\n",
       "        vertical-align: middle;\n",
       "    }\n",
       "\n",
       "    .dataframe tbody tr th {\n",
       "        vertical-align: top;\n",
       "    }\n",
       "\n",
       "    .dataframe thead th {\n",
       "        text-align: right;\n",
       "    }\n",
       "</style>\n",
       "<table border=\"1\" class=\"dataframe\">\n",
       "  <thead>\n",
       "    <tr style=\"text-align: right;\">\n",
       "      <th></th>\n",
       "      <th>count</th>\n",
       "      <th>unique</th>\n",
       "      <th>top</th>\n",
       "      <th>freq</th>\n",
       "    </tr>\n",
       "  </thead>\n",
       "  <tbody>\n",
       "    <tr>\n",
       "      <th>job</th>\n",
       "      <td>42655</td>\n",
       "      <td>11</td>\n",
       "      <td>admin.</td>\n",
       "      <td>10873</td>\n",
       "    </tr>\n",
       "    <tr>\n",
       "      <th>marital</th>\n",
       "      <td>42915</td>\n",
       "      <td>3</td>\n",
       "      <td>married</td>\n",
       "      <td>25999</td>\n",
       "    </tr>\n",
       "    <tr>\n",
       "      <th>education</th>\n",
       "      <td>41193</td>\n",
       "      <td>7</td>\n",
       "      <td>university_degree</td>\n",
       "      <td>12722</td>\n",
       "    </tr>\n",
       "    <tr>\n",
       "      <th>default</th>\n",
       "      <td>34019</td>\n",
       "      <td>2</td>\n",
       "      <td>no</td>\n",
       "      <td>34016</td>\n",
       "    </tr>\n",
       "    <tr>\n",
       "      <th>housing</th>\n",
       "      <td>41974</td>\n",
       "      <td>2</td>\n",
       "      <td>yes</td>\n",
       "      <td>22498</td>\n",
       "    </tr>\n",
       "    <tr>\n",
       "      <th>loan</th>\n",
       "      <td>41974</td>\n",
       "      <td>2</td>\n",
       "      <td>no</td>\n",
       "      <td>35442</td>\n",
       "    </tr>\n",
       "    <tr>\n",
       "      <th>contact</th>\n",
       "      <td>43000</td>\n",
       "      <td>2</td>\n",
       "      <td>cellular</td>\n",
       "      <td>27396</td>\n",
       "    </tr>\n",
       "    <tr>\n",
       "      <th>poutcome</th>\n",
       "      <td>43000</td>\n",
       "      <td>3</td>\n",
       "      <td>nonexistent</td>\n",
       "      <td>37103</td>\n",
       "    </tr>\n",
       "    <tr>\n",
       "      <th>y</th>\n",
       "      <td>43000</td>\n",
       "      <td>2</td>\n",
       "      <td>no</td>\n",
       "      <td>38156</td>\n",
       "    </tr>\n",
       "    <tr>\n",
       "      <th>id_</th>\n",
       "      <td>43000</td>\n",
       "      <td>43000</td>\n",
       "      <td>993bbbd6-4dbc-4a40-a408-f91f8462bee6</td>\n",
       "      <td>1</td>\n",
       "    </tr>\n",
       "  </tbody>\n",
       "</table>\n",
       "</div>"
      ],
      "text/plain": [
       "           count unique                                   top   freq\n",
       "job        42655     11                                admin.  10873\n",
       "marital    42915      3                               married  25999\n",
       "education  41193      7                     university_degree  12722\n",
       "default    34019      2                                    no  34016\n",
       "housing    41974      2                                   yes  22498\n",
       "loan       41974      2                                    no  35442\n",
       "contact    43000      2                              cellular  27396\n",
       "poutcome   43000      3                           nonexistent  37103\n",
       "y          43000      2                                    no  38156\n",
       "id_        43000  43000  993bbbd6-4dbc-4a40-a408-f91f8462bee6      1"
      ]
     },
     "execution_count": 177,
     "metadata": {},
     "output_type": "execute_result"
    }
   ],
   "source": [
    "#Seleccionando las tipo Object como son variables categoricas no nos podria dar la media y lo que haria seria darnos otro tipo de cálculos \n",
    "#como el elemento más repetido en la columan (top)\n",
    "df.describe(include='O').T"
   ]
  },
  {
   "cell_type": "code",
   "execution_count": 178,
   "metadata": {},
   "outputs": [
    {
     "data": {
      "text/plain": [
       "Index(['job', 'marital', 'education', 'default', 'housing', 'loan'], dtype='object')"
      ]
     },
     "execution_count": 178,
     "metadata": {},
     "output_type": "execute_result"
    }
   ],
   "source": [
    "#Veamos solo las columnas categoricas que tengan nulos.T\n",
    "\n",
    "col_cat_nulos =df[df.columns[df.isnull().any()]].select_dtypes(include='O').columns #lo guardamos en una variable\n",
    "col_cat_nulos\n"
   ]
  },
  {
   "cell_type": "code",
   "execution_count": 179,
   "metadata": {},
   "outputs": [
    {
     "data": {
      "text/html": [
       "<div>\n",
       "<style scoped>\n",
       "    .dataframe tbody tr th:only-of-type {\n",
       "        vertical-align: middle;\n",
       "    }\n",
       "\n",
       "    .dataframe tbody tr th {\n",
       "        vertical-align: top;\n",
       "    }\n",
       "\n",
       "    .dataframe thead th {\n",
       "        text-align: right;\n",
       "    }\n",
       "</style>\n",
       "<table border=\"1\" class=\"dataframe\">\n",
       "  <thead>\n",
       "    <tr style=\"text-align: right;\">\n",
       "      <th></th>\n",
       "      <th>porcentaje_nulos</th>\n",
       "    </tr>\n",
       "  </thead>\n",
       "  <tbody>\n",
       "    <tr>\n",
       "      <th>euribor3m</th>\n",
       "      <td>21.53</td>\n",
       "    </tr>\n",
       "    <tr>\n",
       "      <th>default</th>\n",
       "      <td>20.89</td>\n",
       "    </tr>\n",
       "    <tr>\n",
       "      <th>age</th>\n",
       "      <td>11.91</td>\n",
       "    </tr>\n",
       "    <tr>\n",
       "      <th>education</th>\n",
       "      <td>4.20</td>\n",
       "    </tr>\n",
       "    <tr>\n",
       "      <th>loan</th>\n",
       "      <td>2.39</td>\n",
       "    </tr>\n",
       "    <tr>\n",
       "      <th>housing</th>\n",
       "      <td>2.39</td>\n",
       "    </tr>\n",
       "    <tr>\n",
       "      <th>cons.price.idx</th>\n",
       "      <td>1.10</td>\n",
       "    </tr>\n",
       "    <tr>\n",
       "      <th>job</th>\n",
       "      <td>0.80</td>\n",
       "    </tr>\n",
       "    <tr>\n",
       "      <th>date</th>\n",
       "      <td>0.58</td>\n",
       "    </tr>\n",
       "    <tr>\n",
       "      <th>marital</th>\n",
       "      <td>0.20</td>\n",
       "    </tr>\n",
       "  </tbody>\n",
       "</table>\n",
       "</div>"
      ],
      "text/plain": [
       "                porcentaje_nulos\n",
       "euribor3m                  21.53\n",
       "default                    20.89\n",
       "age                        11.91\n",
       "education                   4.20\n",
       "loan                        2.39\n",
       "housing                     2.39\n",
       "cons.price.idx              1.10\n",
       "job                         0.80\n",
       "date                        0.58\n",
       "marital                     0.20"
      ]
     },
     "execution_count": 179,
     "metadata": {},
     "output_type": "execute_result"
    }
   ],
   "source": [
    "df_nulos = pd.DataFrame(nulos,columns=['porcentaje_nulos'])\n",
    "filtro = df_nulos['porcentaje_nulos']>0\n",
    "df_nulos[filtro].round(2).sort_values(by='porcentaje_nulos',ascending=False)"
   ]
  },
  {
   "cell_type": "code",
   "execution_count": 180,
   "metadata": {},
   "outputs": [],
   "source": [
    "df['education']=df['education'].fillna('unknown')\n",
    "df['job']=df['job'].fillna('unknown')\n",
    "df['marital']=df['marital'].fillna('unknown')"
   ]
  },
  {
   "cell_type": "code",
   "execution_count": 181,
   "metadata": {},
   "outputs": [
    {
     "data": {
      "text/plain": [
       "marital\n",
       "married     25999\n",
       "single      12105\n",
       "divorced     4811\n",
       "unknown        85\n",
       "Name: count, dtype: int64"
      ]
     },
     "execution_count": 181,
     "metadata": {},
     "output_type": "execute_result"
    }
   ],
   "source": [
    "df['marital'].value_counts()"
   ]
  },
  {
   "cell_type": "code",
   "execution_count": 182,
   "metadata": {},
   "outputs": [
    {
     "data": {
      "text/plain": [
       "education\n",
       "university_degree      12722\n",
       "high_school             9925\n",
       "basic_9y                6309\n",
       "professional_course     5477\n",
       "basic_4y                4356\n",
       "basic_6y                2386\n",
       "unknown                 1807\n",
       "illiterate                18\n",
       "Name: count, dtype: int64"
      ]
     },
     "execution_count": 182,
     "metadata": {},
     "output_type": "execute_result"
    }
   ],
   "source": [
    "df['education'].value_counts()"
   ]
  },
  {
   "cell_type": "code",
   "execution_count": 183,
   "metadata": {},
   "outputs": [
    {
     "data": {
      "text/plain": [
       "job\n",
       "admin.           10873\n",
       "blue-collar       9654\n",
       "technician        7026\n",
       "services          4162\n",
       "management        3050\n",
       "retired           1790\n",
       "entrepreneur      1522\n",
       "self-employed     1489\n",
       "housemaid         1123\n",
       "unemployed        1063\n",
       "student            903\n",
       "unknown            345\n",
       "Name: count, dtype: int64"
      ]
     },
     "execution_count": 183,
     "metadata": {},
     "output_type": "execute_result"
    }
   ],
   "source": [
    "df['job'].value_counts()"
   ]
  },
  {
   "cell_type": "code",
   "execution_count": 184,
   "metadata": {},
   "outputs": [
    {
     "data": {
      "text/plain": [
       "Index(['age', 'cons.price.idx', 'euribor3m'], dtype='object')"
      ]
     },
     "execution_count": 184,
     "metadata": {},
     "output_type": "execute_result"
    }
   ],
   "source": [
    "#Veamos solo las columnas numéricas que tengan nulos.T\n",
    "\n",
    "col_num_nulos =df[df.columns[df.isnull().any()]].select_dtypes(include='number').columns #lo guardamos en una variable\n",
    "col_num_nulos"
   ]
  },
  {
   "cell_type": "code",
   "execution_count": 185,
   "metadata": {},
   "outputs": [
    {
     "name": "stdout",
     "output_type": "stream",
     "text": [
      "Defaulting to user installation because normal site-packages is not writeable\n",
      "Requirement already satisfied: seaborn in c:\\users\\usuario\\appdata\\local\\packages\\pythonsoftwarefoundation.python.3.13_qbz5n2kfra8p0\\localcache\\local-packages\\python313\\site-packages (0.13.2)\n",
      "Requirement already satisfied: numpy!=1.24.0,>=1.20 in c:\\users\\usuario\\appdata\\local\\packages\\pythonsoftwarefoundation.python.3.13_qbz5n2kfra8p0\\localcache\\local-packages\\python313\\site-packages (from seaborn) (2.2.4)\n",
      "Requirement already satisfied: pandas>=1.2 in c:\\users\\usuario\\appdata\\local\\packages\\pythonsoftwarefoundation.python.3.13_qbz5n2kfra8p0\\localcache\\local-packages\\python313\\site-packages (from seaborn) (2.2.3)\n",
      "Requirement already satisfied: matplotlib!=3.6.1,>=3.4 in c:\\users\\usuario\\appdata\\local\\packages\\pythonsoftwarefoundation.python.3.13_qbz5n2kfra8p0\\localcache\\local-packages\\python313\\site-packages (from seaborn) (3.10.1)\n",
      "Requirement already satisfied: contourpy>=1.0.1 in c:\\users\\usuario\\appdata\\local\\packages\\pythonsoftwarefoundation.python.3.13_qbz5n2kfra8p0\\localcache\\local-packages\\python313\\site-packages (from matplotlib!=3.6.1,>=3.4->seaborn) (1.3.1)\n",
      "Requirement already satisfied: cycler>=0.10 in c:\\users\\usuario\\appdata\\local\\packages\\pythonsoftwarefoundation.python.3.13_qbz5n2kfra8p0\\localcache\\local-packages\\python313\\site-packages (from matplotlib!=3.6.1,>=3.4->seaborn) (0.12.1)\n",
      "Requirement already satisfied: fonttools>=4.22.0 in c:\\users\\usuario\\appdata\\local\\packages\\pythonsoftwarefoundation.python.3.13_qbz5n2kfra8p0\\localcache\\local-packages\\python313\\site-packages (from matplotlib!=3.6.1,>=3.4->seaborn) (4.57.0)\n",
      "Requirement already satisfied: kiwisolver>=1.3.1 in c:\\users\\usuario\\appdata\\local\\packages\\pythonsoftwarefoundation.python.3.13_qbz5n2kfra8p0\\localcache\\local-packages\\python313\\site-packages (from matplotlib!=3.6.1,>=3.4->seaborn) (1.4.8)\n",
      "Requirement already satisfied: packaging>=20.0 in c:\\users\\usuario\\appdata\\local\\packages\\pythonsoftwarefoundation.python.3.13_qbz5n2kfra8p0\\localcache\\local-packages\\python313\\site-packages (from matplotlib!=3.6.1,>=3.4->seaborn) (24.2)\n",
      "Requirement already satisfied: pillow>=8 in c:\\users\\usuario\\appdata\\local\\packages\\pythonsoftwarefoundation.python.3.13_qbz5n2kfra8p0\\localcache\\local-packages\\python313\\site-packages (from matplotlib!=3.6.1,>=3.4->seaborn) (11.1.0)\n",
      "Requirement already satisfied: pyparsing>=2.3.1 in c:\\users\\usuario\\appdata\\local\\packages\\pythonsoftwarefoundation.python.3.13_qbz5n2kfra8p0\\localcache\\local-packages\\python313\\site-packages (from matplotlib!=3.6.1,>=3.4->seaborn) (3.2.3)\n",
      "Requirement already satisfied: python-dateutil>=2.7 in c:\\users\\usuario\\appdata\\local\\packages\\pythonsoftwarefoundation.python.3.13_qbz5n2kfra8p0\\localcache\\local-packages\\python313\\site-packages (from matplotlib!=3.6.1,>=3.4->seaborn) (2.9.0.post0)\n",
      "Requirement already satisfied: pytz>=2020.1 in c:\\users\\usuario\\appdata\\local\\packages\\pythonsoftwarefoundation.python.3.13_qbz5n2kfra8p0\\localcache\\local-packages\\python313\\site-packages (from pandas>=1.2->seaborn) (2025.2)\n",
      "Requirement already satisfied: tzdata>=2022.7 in c:\\users\\usuario\\appdata\\local\\packages\\pythonsoftwarefoundation.python.3.13_qbz5n2kfra8p0\\localcache\\local-packages\\python313\\site-packages (from pandas>=1.2->seaborn) (2025.2)\n",
      "Requirement already satisfied: six>=1.5 in c:\\users\\usuario\\appdata\\local\\packages\\pythonsoftwarefoundation.python.3.13_qbz5n2kfra8p0\\localcache\\local-packages\\python313\\site-packages (from python-dateutil>=2.7->matplotlib!=3.6.1,>=3.4->seaborn) (1.17.0)\n",
      "Note: you may need to restart the kernel to use updated packages.\n"
     ]
    }
   ],
   "source": [
    "pip install seaborn"
   ]
  },
  {
   "cell_type": "code",
   "execution_count": 186,
   "metadata": {},
   "outputs": [
    {
     "name": "stdout",
     "output_type": "stream",
     "text": [
      "Defaulting to user installation because normal site-packages is not writeable\n",
      "Requirement already satisfied: matplotlib in c:\\users\\usuario\\appdata\\local\\packages\\pythonsoftwarefoundation.python.3.13_qbz5n2kfra8p0\\localcache\\local-packages\\python313\\site-packages (3.10.1)\n",
      "Requirement already satisfied: contourpy>=1.0.1 in c:\\users\\usuario\\appdata\\local\\packages\\pythonsoftwarefoundation.python.3.13_qbz5n2kfra8p0\\localcache\\local-packages\\python313\\site-packages (from matplotlib) (1.3.1)\n",
      "Requirement already satisfied: cycler>=0.10 in c:\\users\\usuario\\appdata\\local\\packages\\pythonsoftwarefoundation.python.3.13_qbz5n2kfra8p0\\localcache\\local-packages\\python313\\site-packages (from matplotlib) (0.12.1)\n",
      "Requirement already satisfied: fonttools>=4.22.0 in c:\\users\\usuario\\appdata\\local\\packages\\pythonsoftwarefoundation.python.3.13_qbz5n2kfra8p0\\localcache\\local-packages\\python313\\site-packages (from matplotlib) (4.57.0)\n",
      "Requirement already satisfied: kiwisolver>=1.3.1 in c:\\users\\usuario\\appdata\\local\\packages\\pythonsoftwarefoundation.python.3.13_qbz5n2kfra8p0\\localcache\\local-packages\\python313\\site-packages (from matplotlib) (1.4.8)\n",
      "Requirement already satisfied: numpy>=1.23 in c:\\users\\usuario\\appdata\\local\\packages\\pythonsoftwarefoundation.python.3.13_qbz5n2kfra8p0\\localcache\\local-packages\\python313\\site-packages (from matplotlib) (2.2.4)\n",
      "Requirement already satisfied: packaging>=20.0 in c:\\users\\usuario\\appdata\\local\\packages\\pythonsoftwarefoundation.python.3.13_qbz5n2kfra8p0\\localcache\\local-packages\\python313\\site-packages (from matplotlib) (24.2)\n",
      "Requirement already satisfied: pillow>=8 in c:\\users\\usuario\\appdata\\local\\packages\\pythonsoftwarefoundation.python.3.13_qbz5n2kfra8p0\\localcache\\local-packages\\python313\\site-packages (from matplotlib) (11.1.0)\n",
      "Requirement already satisfied: pyparsing>=2.3.1 in c:\\users\\usuario\\appdata\\local\\packages\\pythonsoftwarefoundation.python.3.13_qbz5n2kfra8p0\\localcache\\local-packages\\python313\\site-packages (from matplotlib) (3.2.3)\n",
      "Requirement already satisfied: python-dateutil>=2.7 in c:\\users\\usuario\\appdata\\local\\packages\\pythonsoftwarefoundation.python.3.13_qbz5n2kfra8p0\\localcache\\local-packages\\python313\\site-packages (from matplotlib) (2.9.0.post0)\n",
      "Requirement already satisfied: six>=1.5 in c:\\users\\usuario\\appdata\\local\\packages\\pythonsoftwarefoundation.python.3.13_qbz5n2kfra8p0\\localcache\\local-packages\\python313\\site-packages (from python-dateutil>=2.7->matplotlib) (1.17.0)\n",
      "Note: you may need to restart the kernel to use updated packages.\n"
     ]
    }
   ],
   "source": [
    "pip install matplotlib"
   ]
  },
  {
   "cell_type": "code",
   "execution_count": 187,
   "metadata": {},
   "outputs": [],
   "source": [
    "import seaborn as sns\n",
    "import matplotlib.pyplot as plt"
   ]
  },
  {
   "cell_type": "code",
   "execution_count": 188,
   "metadata": {},
   "outputs": [
    {
     "data": {
      "image/png": "[encoded data removed]",
      "text/plain": [
       "<Figure size 200x500 with 1 Axes>"
      ]
     },
     "metadata": {},
     "output_type": "display_data"
    }
   ],
   "source": [
    "plt.figure(figsize=(2,5))\n",
    "sns.boxplot(df['age'])\n",
    "plt.show()\n",
    "\n",
    "#vemos que tiene muchos outliers. Por tanto deberiamos utilizar la moda para tener un mejor análisis"
   ]
  },
  {
   "cell_type": "code",
   "execution_count": 189,
   "metadata": {},
   "outputs": [],
   "source": [
    "mediana_age = df ['age'].median()\n",
    "df['age'].fillna(mediana_age)\n",
    "df['age'] = df['age'].fillna(mediana_age)"
   ]
  },
  {
   "cell_type": "code",
   "execution_count": 190,
   "metadata": {},
   "outputs": [
    {
     "data": {
      "image/png": "[encoded data removed]",
      "text/plain": [
       "<Figure size 200x800 with 1 Axes>"
      ]
     },
     "metadata": {},
     "output_type": "display_data"
    }
   ],
   "source": [
    "plt.figure(figsize=(2,8))\n",
    "sns.boxplot(df['cons.price.idx'])\n",
    "plt.show()"
   ]
  },
  {
   "cell_type": "code",
   "execution_count": 191,
   "metadata": {},
   "outputs": [],
   "source": [
    "media_cons_price_idx = df ['cons.price.idx'].mean()\n",
    "df['cons.price.idx'].fillna(media_cons_price_idx)\n",
    "df['cons.price.idx'] = df['cons.price.idx'].fillna(media_cons_price_idx)"
   ]
  },
  {
   "cell_type": "code",
   "execution_count": 192,
   "metadata": {},
   "outputs": [
    {
     "data": {
      "image/png": "[encoded data removed]",
      "text/plain": [
       "<Figure size 200x200 with 1 Axes>"
      ]
     },
     "metadata": {},
     "output_type": "display_data"
    }
   ],
   "source": [
    "plt.figure(figsize=(2,2))\n",
    "sns.boxplot(df['euribor3m'])\n",
    "plt.show()"
   ]
  },
  {
   "cell_type": "code",
   "execution_count": 193,
   "metadata": {},
   "outputs": [],
   "source": [
    "media_euribor3m = df ['euribor3m'].mean()\n",
    "df['euribor3m'].fillna(media_euribor3m)\n",
    "df['euribor3m'] = df['euribor3m'].fillna(media_euribor3m)"
   ]
  },
  {
   "cell_type": "code",
   "execution_count": 194,
   "metadata": {},
   "outputs": [],
   "source": [
    "df['default']=df['default'].fillna('unknown')"
   ]
  },
  {
   "cell_type": "code",
   "execution_count": 195,
   "metadata": {},
   "outputs": [
    {
     "data": {
      "text/plain": [
       "array(['no', 'unknown', 'yes'], dtype=object)"
      ]
     },
     "execution_count": 195,
     "metadata": {},
     "output_type": "execute_result"
    }
   ],
   "source": [
    "df['default'].unique()"
   ]
  },
  {
   "cell_type": "code",
   "execution_count": 196,
   "metadata": {},
   "outputs": [],
   "source": [
    "df['loan']= df['loan'].fillna('unknown')"
   ]
  },
  {
   "cell_type": "code",
   "execution_count": 197,
   "metadata": {},
   "outputs": [],
   "source": [
    "df['housing']=df['housing'].fillna ('unknown')"
   ]
  },
  {
   "cell_type": "code",
   "execution_count": 198,
   "metadata": {},
   "outputs": [],
   "source": [
    "df['date']=df['date'].fillna('unknown')"
   ]
  },
  {
   "cell_type": "markdown",
   "metadata": {},
   "source": [
    "### Confirmación de 0 nulos"
   ]
  },
  {
   "cell_type": "code",
   "execution_count": 199,
   "metadata": {},
   "outputs": [
    {
     "data": {
      "text/plain": [
       "age               0\n",
       "job               0\n",
       "marital           0\n",
       "education         0\n",
       "default           0\n",
       "housing           0\n",
       "loan              0\n",
       "contact           0\n",
       "duration          0\n",
       "campaign          0\n",
       "pdays             0\n",
       "previous          0\n",
       "poutcome          0\n",
       "emp.var.rate      0\n",
       "cons.price.idx    0\n",
       "cons.conf.idx     0\n",
       "euribor3m         0\n",
       "nr.employed       0\n",
       "y                 0\n",
       "date              0\n",
       "id_               0\n",
       "dtype: int64"
      ]
     },
     "execution_count": 199,
     "metadata": {},
     "output_type": "execute_result"
    }
   ],
   "source": [
    "#Confirmación de eliminación de todos los nulos.\n",
    "df.isnull().sum()"
   ]
  },
  {
   "cell_type": "markdown",
   "metadata": {},
   "source": [
    "### Guardar archivo"
   ]
  },
  {
   "cell_type": "code",
   "execution_count": 200,
   "metadata": {},
   "outputs": [
    {
     "ename": "KeyboardInterrupt",
     "evalue": "",
     "output_type": "error",
     "traceback": [
      "\u001b[31m---------------------------------------------------------------------------\u001b[39m",
      "\u001b[31mKeyboardInterrupt\u001b[39m                         Traceback (most recent call last)",
      "\u001b[36mCell\u001b[39m\u001b[36m \u001b[39m\u001b[32mIn[200]\u001b[39m\u001b[32m, line 2\u001b[39m\n\u001b[32m      1\u001b[39m \u001b[38;5;66;03m#Guardamos un nuevo archivo ya tratado para trabajar con él.\u001b[39;00m\n\u001b[32m----> \u001b[39m\u001b[32m2\u001b[39m \u001b[43mdf\u001b[49m\u001b[43m.\u001b[49m\u001b[43mto_csv\u001b[49m\u001b[43m(\u001b[49m\u001b[33;43m'\u001b[39;49m\u001b[33;43marchivos/bank_additional_sin_nulos.csv\u001b[39;49m\u001b[33;43m'\u001b[39;49m\u001b[43m,\u001b[49m\u001b[43mindex\u001b[49m\u001b[43m=\u001b[49m\u001b[38;5;28;43;01mFalse\u001b[39;49;00m\u001b[43m)\u001b[49m\n",
      "\u001b[36mFile \u001b[39m\u001b[32m~\\AppData\\Local\\Packages\\PythonSoftwareFoundation.Python.3.13_qbz5n2kfra8p0\\LocalCache\\local-packages\\Python313\\site-packages\\pandas\\util\\_decorators.py:333\u001b[39m, in \u001b[36mdeprecate_nonkeyword_arguments.<locals>.decorate.<locals>.wrapper\u001b[39m\u001b[34m(*args, **kwargs)\u001b[39m\n\u001b[32m    327\u001b[39m \u001b[38;5;28;01mif\u001b[39;00m \u001b[38;5;28mlen\u001b[39m(args) > num_allow_args:\n\u001b[32m    328\u001b[39m     warnings.warn(\n\u001b[32m    329\u001b[39m         msg.format(arguments=_format_argument_list(allow_args)),\n\u001b[32m    330\u001b[39m         \u001b[38;5;167;01mFutureWarning\u001b[39;00m,\n\u001b[32m    331\u001b[39m         stacklevel=find_stack_level(),\n\u001b[32m    332\u001b[39m     )\n\u001b[32m--> \u001b[39m\u001b[32m333\u001b[39m \u001b[38;5;28;01mreturn\u001b[39;00m \u001b[43mfunc\u001b[49m\u001b[43m(\u001b[49m\u001b[43m*\u001b[49m\u001b[43margs\u001b[49m\u001b[43m,\u001b[49m\u001b[43m \u001b[49m\u001b[43m*\u001b[49m\u001b[43m*\u001b[49m\u001b[43mkwargs\u001b[49m\u001b[43m)\u001b[49m\n",
      "\u001b[36mFile \u001b[39m\u001b[32m~\\AppData\\Local\\Packages\\PythonSoftwareFoundation.Python.3.13_qbz5n2kfra8p0\\LocalCache\\local-packages\\Python313\\site-packages\\pandas\\core\\generic.py:3967\u001b[39m, in \u001b[36mNDFrame.to_csv\u001b[39m\u001b[34m(self, path_or_buf, sep, na_rep, float_format, columns, header, index, index_label, mode, encoding, compression, quoting, quotechar, lineterminator, chunksize, date_format, doublequote, escapechar, decimal, errors, storage_options)\u001b[39m\n\u001b[32m   3956\u001b[39m df = \u001b[38;5;28mself\u001b[39m \u001b[38;5;28;01mif\u001b[39;00m \u001b[38;5;28misinstance\u001b[39m(\u001b[38;5;28mself\u001b[39m, ABCDataFrame) \u001b[38;5;28;01melse\u001b[39;00m \u001b[38;5;28mself\u001b[39m.to_frame()\n\u001b[32m   3958\u001b[39m formatter = DataFrameFormatter(\n\u001b[32m   3959\u001b[39m     frame=df,\n\u001b[32m   3960\u001b[39m     header=header,\n\u001b[32m   (...)\u001b[39m\u001b[32m   3964\u001b[39m     decimal=decimal,\n\u001b[32m   3965\u001b[39m )\n\u001b[32m-> \u001b[39m\u001b[32m3967\u001b[39m \u001b[38;5;28;01mreturn\u001b[39;00m \u001b[43mDataFrameRenderer\u001b[49m\u001b[43m(\u001b[49m\u001b[43mformatter\u001b[49m\u001b[43m)\u001b[49m\u001b[43m.\u001b[49m\u001b[43mto_csv\u001b[49m\u001b[43m(\u001b[49m\n\u001b[32m   3968\u001b[39m \u001b[43m    \u001b[49m\u001b[43mpath_or_buf\u001b[49m\u001b[43m,\u001b[49m\n\u001b[32m   3969\u001b[39m \u001b[43m    \u001b[49m\u001b[43mlineterminator\u001b[49m\u001b[43m=\u001b[49m\u001b[43mlineterminator\u001b[49m\u001b[43m,\u001b[49m\n\u001b[32m   3970\u001b[39m \u001b[43m    \u001b[49m\u001b[43msep\u001b[49m\u001b[43m=\u001b[49m\u001b[43msep\u001b[49m\u001b[43m,\u001b[49m\n\u001b[32m   3971\u001b[39m \u001b[43m    \u001b[49m\u001b[43mencoding\u001b[49m\u001b[43m=\u001b[49m\u001b[43mencoding\u001b[49m\u001b[43m,\u001b[49m\n\u001b[32m   3972\u001b[39m \u001b[43m    \u001b[49m\u001b[43merrors\u001b[49m\u001b[43m=\u001b[49m\u001b[43merrors\u001b[49m\u001b[43m,\u001b[49m\n\u001b[32m   3973\u001b[39m \u001b[43m    \u001b[49m\u001b[43mcompression\u001b[49m\u001b[43m=\u001b[49m\u001b[43mcompression\u001b[49m\u001b[43m,\u001b[49m\n\u001b[32m   3974\u001b[39m \u001b[43m    \u001b[49m\u001b[43mquoting\u001b[49m\u001b[43m=\u001b[49m\u001b[43mquoting\u001b[49m\u001b[43m,\u001b[49m\n\u001b[32m   3975\u001b[39m \u001b[43m    \u001b[49m\u001b[43mcolumns\u001b[49m\u001b[43m=\u001b[49m\u001b[43mcolumns\u001b[49m\u001b[43m,\u001b[49m\n\u001b[32m   3976\u001b[39m \u001b[43m    \u001b[49m\u001b[43mindex_label\u001b[49m\u001b[43m=\u001b[49m\u001b[43mindex_label\u001b[49m\u001b[43m,\u001b[49m\n\u001b[32m   3977\u001b[39m \u001b[43m    \u001b[49m\u001b[43mmode\u001b[49m\u001b[43m=\u001b[49m\u001b[43mmode\u001b[49m\u001b[43m,\u001b[49m\n\u001b[32m   3978\u001b[39m \u001b[43m    \u001b[49m\u001b[43mchunksize\u001b[49m\u001b[43m=\u001b[49m\u001b[43mchunksize\u001b[49m\u001b[43m,\u001b[49m\n\u001b[32m   3979\u001b[39m \u001b[43m    \u001b[49m\u001b[43mquotechar\u001b[49m\u001b[43m=\u001b[49m\u001b[43mquotechar\u001b[49m\u001b[43m,\u001b[49m\n\u001b[32m   3980\u001b[39m \u001b[43m    \u001b[49m\u001b[43mdate_format\u001b[49m\u001b[43m=\u001b[49m\u001b[43mdate_format\u001b[49m\u001b[43m,\u001b[49m\n\u001b[32m   3981\u001b[39m \u001b[43m    \u001b[49m\u001b[43mdoublequote\u001b[49m\u001b[43m=\u001b[49m\u001b[43mdoublequote\u001b[49m\u001b[43m,\u001b[49m\n\u001b[32m   3982\u001b[39m \u001b[43m    \u001b[49m\u001b[43mescapechar\u001b[49m\u001b[43m=\u001b[49m\u001b[43mescapechar\u001b[49m\u001b[43m,\u001b[49m\n\u001b[32m   3983\u001b[39m \u001b[43m    \u001b[49m\u001b[43mstorage_options\u001b[49m\u001b[43m=\u001b[49m\u001b[43mstorage_options\u001b[49m\u001b[43m,\u001b[49m\n\u001b[32m   3984\u001b[39m \u001b[43m\u001b[49m\u001b[43m)\u001b[49m\n",
      "\u001b[36mFile \u001b[39m\u001b[32m~\\AppData\\Local\\Packages\\PythonSoftwareFoundation.Python.3.13_qbz5n2kfra8p0\\LocalCache\\local-packages\\Python313\\site-packages\\pandas\\io\\formats\\format.py:1014\u001b[39m, in \u001b[36mDataFrameRenderer.to_csv\u001b[39m\u001b[34m(self, path_or_buf, encoding, sep, columns, index_label, mode, compression, quoting, quotechar, lineterminator, chunksize, date_format, doublequote, escapechar, errors, storage_options)\u001b[39m\n\u001b[32m    993\u001b[39m     created_buffer = \u001b[38;5;28;01mFalse\u001b[39;00m\n\u001b[32m    995\u001b[39m csv_formatter = CSVFormatter(\n\u001b[32m    996\u001b[39m     path_or_buf=path_or_buf,\n\u001b[32m    997\u001b[39m     lineterminator=lineterminator,\n\u001b[32m   (...)\u001b[39m\u001b[32m   1012\u001b[39m     formatter=\u001b[38;5;28mself\u001b[39m.fmt,\n\u001b[32m   1013\u001b[39m )\n\u001b[32m-> \u001b[39m\u001b[32m1014\u001b[39m \u001b[43mcsv_formatter\u001b[49m\u001b[43m.\u001b[49m\u001b[43msave\u001b[49m\u001b[43m(\u001b[49m\u001b[43m)\u001b[49m\n\u001b[32m   1016\u001b[39m \u001b[38;5;28;01mif\u001b[39;00m created_buffer:\n\u001b[32m   1017\u001b[39m     \u001b[38;5;28;01massert\u001b[39;00m \u001b[38;5;28misinstance\u001b[39m(path_or_buf, StringIO)\n",
      "\u001b[36mFile \u001b[39m\u001b[32m~\\AppData\\Local\\Packages\\PythonSoftwareFoundation.Python.3.13_qbz5n2kfra8p0\\LocalCache\\local-packages\\Python313\\site-packages\\pandas\\io\\formats\\csvs.py:270\u001b[39m, in \u001b[36mCSVFormatter.save\u001b[39m\u001b[34m(self)\u001b[39m\n\u001b[32m    251\u001b[39m \u001b[38;5;28;01mwith\u001b[39;00m get_handle(\n\u001b[32m    252\u001b[39m     \u001b[38;5;28mself\u001b[39m.filepath_or_buffer,\n\u001b[32m    253\u001b[39m     \u001b[38;5;28mself\u001b[39m.mode,\n\u001b[32m   (...)\u001b[39m\u001b[32m    258\u001b[39m ) \u001b[38;5;28;01mas\u001b[39;00m handles:\n\u001b[32m    259\u001b[39m     \u001b[38;5;66;03m# Note: self.encoding is irrelevant here\u001b[39;00m\n\u001b[32m    260\u001b[39m     \u001b[38;5;28mself\u001b[39m.writer = csvlib.writer(\n\u001b[32m    261\u001b[39m         handles.handle,\n\u001b[32m    262\u001b[39m         lineterminator=\u001b[38;5;28mself\u001b[39m.lineterminator,\n\u001b[32m   (...)\u001b[39m\u001b[32m    267\u001b[39m         quotechar=\u001b[38;5;28mself\u001b[39m.quotechar,\n\u001b[32m    268\u001b[39m     )\n\u001b[32m--> \u001b[39m\u001b[32m270\u001b[39m     \u001b[38;5;28;43mself\u001b[39;49m\u001b[43m.\u001b[49m\u001b[43m_save\u001b[49m\u001b[43m(\u001b[49m\u001b[43m)\u001b[49m\n",
      "\u001b[36mFile \u001b[39m\u001b[32m~\\AppData\\Local\\Packages\\PythonSoftwareFoundation.Python.3.13_qbz5n2kfra8p0\\LocalCache\\local-packages\\Python313\\site-packages\\pandas\\io\\formats\\csvs.py:275\u001b[39m, in \u001b[36mCSVFormatter._save\u001b[39m\u001b[34m(self)\u001b[39m\n\u001b[32m    273\u001b[39m \u001b[38;5;28;01mif\u001b[39;00m \u001b[38;5;28mself\u001b[39m._need_to_save_header:\n\u001b[32m    274\u001b[39m     \u001b[38;5;28mself\u001b[39m._save_header()\n\u001b[32m--> \u001b[39m\u001b[32m275\u001b[39m \u001b[38;5;28;43mself\u001b[39;49m\u001b[43m.\u001b[49m\u001b[43m_save_body\u001b[49m\u001b[43m(\u001b[49m\u001b[43m)\u001b[49m\n",
      "\u001b[36mFile \u001b[39m\u001b[32m~\\AppData\\Local\\Packages\\PythonSoftwareFoundation.Python.3.13_qbz5n2kfra8p0\\LocalCache\\local-packages\\Python313\\site-packages\\pandas\\io\\formats\\csvs.py:313\u001b[39m, in \u001b[36mCSVFormatter._save_body\u001b[39m\u001b[34m(self)\u001b[39m\n\u001b[32m    311\u001b[39m \u001b[38;5;28;01mif\u001b[39;00m start_i >= end_i:\n\u001b[32m    312\u001b[39m     \u001b[38;5;28;01mbreak\u001b[39;00m\n\u001b[32m--> \u001b[39m\u001b[32m313\u001b[39m \u001b[38;5;28;43mself\u001b[39;49m\u001b[43m.\u001b[49m\u001b[43m_save_chunk\u001b[49m\u001b[43m(\u001b[49m\u001b[43mstart_i\u001b[49m\u001b[43m,\u001b[49m\u001b[43m \u001b[49m\u001b[43mend_i\u001b[49m\u001b[43m)\u001b[49m\n",
      "\u001b[36mFile \u001b[39m\u001b[32m~\\AppData\\Local\\Packages\\PythonSoftwareFoundation.Python.3.13_qbz5n2kfra8p0\\LocalCache\\local-packages\\Python313\\site-packages\\pandas\\io\\formats\\csvs.py:324\u001b[39m, in \u001b[36mCSVFormatter._save_chunk\u001b[39m\u001b[34m(self, start_i, end_i)\u001b[39m\n\u001b[32m    321\u001b[39m data = \u001b[38;5;28mlist\u001b[39m(res._iter_column_arrays())\n\u001b[32m    323\u001b[39m ix = \u001b[38;5;28mself\u001b[39m.data_index[slicer]._get_values_for_csv(**\u001b[38;5;28mself\u001b[39m._number_format)\n\u001b[32m--> \u001b[39m\u001b[32m324\u001b[39m \u001b[43mlibwriters\u001b[49m\u001b[43m.\u001b[49m\u001b[43mwrite_csv_rows\u001b[49m\u001b[43m(\u001b[49m\n\u001b[32m    325\u001b[39m \u001b[43m    \u001b[49m\u001b[43mdata\u001b[49m\u001b[43m,\u001b[49m\n\u001b[32m    326\u001b[39m \u001b[43m    \u001b[49m\u001b[43mix\u001b[49m\u001b[43m,\u001b[49m\n\u001b[32m    327\u001b[39m \u001b[43m    \u001b[49m\u001b[38;5;28;43mself\u001b[39;49m\u001b[43m.\u001b[49m\u001b[43mnlevels\u001b[49m\u001b[43m,\u001b[49m\n\u001b[32m    328\u001b[39m \u001b[43m    \u001b[49m\u001b[38;5;28;43mself\u001b[39;49m\u001b[43m.\u001b[49m\u001b[43mcols\u001b[49m\u001b[43m,\u001b[49m\n\u001b[32m    329\u001b[39m \u001b[43m    \u001b[49m\u001b[38;5;28;43mself\u001b[39;49m\u001b[43m.\u001b[49m\u001b[43mwriter\u001b[49m\u001b[43m,\u001b[49m\n\u001b[32m    330\u001b[39m \u001b[43m\u001b[49m\u001b[43m)\u001b[49m\n",
      "\u001b[36mFile \u001b[39m\u001b[32mwriters.pyx:73\u001b[39m, in \u001b[36mpandas._libs.writers.write_csv_rows\u001b[39m\u001b[34m()\u001b[39m\n",
      "\u001b[31mKeyboardInterrupt\u001b[39m: "
     ]
    }
   ],
   "source": [
    "#Guardamos un nuevo archivo ya tratado para trabajar con él.\n",
    "df.to_csv('archivos/bank_additional_sin_nulos.csv',index=False)"
   ]
  }
 ],
 "metadata": {
  "kernelspec": {
   "display_name": "Python 3",
   "language": "python",
   "name": "python3"
  },
  "language_info": {
   "codemirror_mode": {
    "name": "ipython",
    "version": 3
   },
   "file_extension": ".py",
   "mimetype": "text/x-python",
   "name": "python",
   "nbconvert_exporter": "python",
   "pygments_lexer": "ipython3",
   "version": "3.13.5"
  }
 },
 "nbformat": 4,
 "nbformat_minor": 2
}
