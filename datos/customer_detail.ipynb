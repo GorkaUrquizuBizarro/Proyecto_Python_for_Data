{
 "cells": [
  {
   "cell_type": "code",
   "execution_count": 1,
   "id": "f25b098e",
   "metadata": {},
   "outputs": [],
   "source": [
    "import pandas as pd\n",
    "import numpy as np"
   ]
  },
  {
   "cell_type": "markdown",
   "id": "71cf135a",
   "metadata": {},
   "source": [
    "# Union de los datos de las hojas del Excel."
   ]
  },
  {
   "cell_type": "code",
   "execution_count": 5,
   "id": "2e4ce0b0",
   "metadata": {},
   "outputs": [],
   "source": [
    "# Cargar todas las hojas del archivo Excel\n",
    "\n",
    "df_completo = pd.read_excel(\"archivos/customer-details.xlsx\", sheet_name=None,index_col=0)  # carga todas las hojas"
   ]
  },
  {
   "cell_type": "code",
   "execution_count": 6,
   "id": "a90ed85e",
   "metadata": {},
   "outputs": [],
   "source": [
    "# Unir todas las hojas en un solo DataFrame\n",
    "df_unido = pd.concat(df_completo.values(), ignore_index=True)"
   ]
  },
  {
   "cell_type": "code",
   "execution_count": 7,
   "id": "eccfe01b",
   "metadata": {},
   "outputs": [
    {
     "data": {
      "text/plain": [
       "(43170, 6)"
      ]
     },
     "execution_count": 7,
     "metadata": {},
     "output_type": "execute_result"
    }
   ],
   "source": [
    "df_unido.shape"
   ]
  },
  {
   "cell_type": "code",
   "execution_count": 8,
   "id": "da11aa7d",
   "metadata": {},
   "outputs": [
    {
     "data": {
      "text/html": [
       "<div>\n",
       "<style scoped>\n",
       "    .dataframe tbody tr th:only-of-type {\n",
       "        vertical-align: middle;\n",
       "    }\n",
       "\n",
       "    .dataframe tbody tr th {\n",
       "        vertical-align: top;\n",
       "    }\n",
       "\n",
       "    .dataframe thead th {\n",
       "        text-align: right;\n",
       "    }\n",
       "</style>\n",
       "<table border=\"1\" class=\"dataframe\">\n",
       "  <thead>\n",
       "    <tr style=\"text-align: right;\">\n",
       "      <th></th>\n",
       "      <th>Income</th>\n",
       "      <th>Kidhome</th>\n",
       "      <th>Teenhome</th>\n",
       "      <th>Dt_Customer</th>\n",
       "      <th>NumWebVisitsMonth</th>\n",
       "      <th>ID</th>\n",
       "    </tr>\n",
       "  </thead>\n",
       "  <tbody>\n",
       "    <tr>\n",
       "      <th>0</th>\n",
       "      <td>161770</td>\n",
       "      <td>1</td>\n",
       "      <td>0</td>\n",
       "      <td>2012-04-04</td>\n",
       "      <td>29</td>\n",
       "      <td>089b39d8-e4d0-461b-87d4-814d71e0e079</td>\n",
       "    </tr>\n",
       "    <tr>\n",
       "      <th>1</th>\n",
       "      <td>85477</td>\n",
       "      <td>1</td>\n",
       "      <td>1</td>\n",
       "      <td>2012-12-30</td>\n",
       "      <td>7</td>\n",
       "      <td>e9d37224-cb6f-4942-98d7-46672963d097</td>\n",
       "    </tr>\n",
       "    <tr>\n",
       "      <th>2</th>\n",
       "      <td>147233</td>\n",
       "      <td>1</td>\n",
       "      <td>1</td>\n",
       "      <td>2012-02-02</td>\n",
       "      <td>5</td>\n",
       "      <td>3f9f49b5-e410-4948-bf6e-f9244f04918b</td>\n",
       "    </tr>\n",
       "    <tr>\n",
       "      <th>3</th>\n",
       "      <td>121393</td>\n",
       "      <td>1</td>\n",
       "      <td>2</td>\n",
       "      <td>2012-12-21</td>\n",
       "      <td>29</td>\n",
       "      <td>9991fafb-4447-451a-8be2-b0df6098d13e</td>\n",
       "    </tr>\n",
       "  </tbody>\n",
       "</table>\n",
       "</div>"
      ],
      "text/plain": [
       "   Income  Kidhome  Teenhome Dt_Customer  NumWebVisitsMonth  \\\n",
       "0  161770        1         0  2012-04-04                 29   \n",
       "1   85477        1         1  2012-12-30                  7   \n",
       "2  147233        1         1  2012-02-02                  5   \n",
       "3  121393        1         2  2012-12-21                 29   \n",
       "\n",
       "                                     ID  \n",
       "0  089b39d8-e4d0-461b-87d4-814d71e0e079  \n",
       "1  e9d37224-cb6f-4942-98d7-46672963d097  \n",
       "2  3f9f49b5-e410-4948-bf6e-f9244f04918b  \n",
       "3  9991fafb-4447-451a-8be2-b0df6098d13e  "
      ]
     },
     "execution_count": 8,
     "metadata": {},
     "output_type": "execute_result"
    }
   ],
   "source": [
    "df_unido.head(4)"
   ]
  },
  {
   "cell_type": "markdown",
   "id": "f19f7035",
   "metadata": {},
   "source": [
    "# EDA preliminar antes de limpieza y transformación de datos"
   ]
  },
  {
   "cell_type": "markdown",
   "id": "6f4b3635",
   "metadata": {},
   "source": [
    "- **Income**: Representa el ingreso anual del cliente en términos monetarios.\n",
    "- **Kidhome**: Indica el número de niños en el hogar del cliente.\n",
    "- **Teenhome**: Indica el número de adolescentes en el hogar del cliente.\n",
    "- **Dt_Customer**: Representa la fecha en que el cliente se convirtió en cliente de la empresa.\n",
    "- **NumWebVisitsMonth**: Indica la cantidad de visitas mensuales del cliente al sitio web de la empresa.\n",
    "- **ID**: Identificador único del cliente.\n"
   ]
  },
  {
   "cell_type": "code",
   "execution_count": 10,
   "id": "76d812a6",
   "metadata": {},
   "outputs": [
    {
     "name": "stdout",
     "output_type": "stream",
     "text": [
      "<class 'pandas.core.frame.DataFrame'>\n",
      "RangeIndex: 43170 entries, 0 to 43169\n",
      "Data columns (total 6 columns):\n",
      " #   Column             Non-Null Count  Dtype         \n",
      "---  ------             --------------  -----         \n",
      " 0   Income             43170 non-null  int64         \n",
      " 1   Kidhome            43170 non-null  int64         \n",
      " 2   Teenhome           43170 non-null  int64         \n",
      " 3   Dt_Customer        43170 non-null  datetime64[ns]\n",
      " 4   NumWebVisitsMonth  43170 non-null  int64         \n",
      " 5   ID                 43170 non-null  object        \n",
      "dtypes: datetime64[ns](1), int64(4), object(1)\n",
      "memory usage: 2.0+ MB\n"
     ]
    }
   ],
   "source": [
    "df_unido.info()"
   ]
  },
  {
   "cell_type": "code",
   "execution_count": 11,
   "id": "3007d1c4",
   "metadata": {},
   "outputs": [
    {
     "data": {
      "text/plain": [
       "Income                        int64\n",
       "Kidhome                       int64\n",
       "Teenhome                      int64\n",
       "Dt_Customer          datetime64[ns]\n",
       "NumWebVisitsMonth             int64\n",
       "ID                           object\n",
       "dtype: object"
      ]
     },
     "execution_count": 11,
     "metadata": {},
     "output_type": "execute_result"
    }
   ],
   "source": [
    "df_unido.dtypes"
   ]
  },
  {
   "cell_type": "code",
   "execution_count": 14,
   "id": "cb7a838f",
   "metadata": {},
   "outputs": [
    {
     "data": {
      "text/plain": [
       "Income               0\n",
       "Kidhome              0\n",
       "Teenhome             0\n",
       "Dt_Customer          0\n",
       "NumWebVisitsMonth    0\n",
       "ID                   0\n",
       "dtype: int64"
      ]
     },
     "execution_count": 14,
     "metadata": {},
     "output_type": "execute_result"
    }
   ],
   "source": [
    "df_unido.isnull().sum() \n",
    "#no hay nulos"
   ]
  },
  {
   "cell_type": "code",
   "execution_count": 13,
   "id": "a0ba30d8",
   "metadata": {},
   "outputs": [
    {
     "data": {
      "text/plain": [
       "0        False\n",
       "1        False\n",
       "2        False\n",
       "3        False\n",
       "4        False\n",
       "         ...  \n",
       "43165    False\n",
       "43166    False\n",
       "43167    False\n",
       "43168    False\n",
       "43169    False\n",
       "Length: 43170, dtype: bool"
      ]
     },
     "execution_count": 13,
     "metadata": {},
     "output_type": "execute_result"
    }
   ],
   "source": [
    "df_unido.duplicated()"
   ]
  },
  {
   "cell_type": "markdown",
   "id": "8b527f01",
   "metadata": {},
   "source": [
    "# Transformación y limpieza de datos tras el EDA Preliminar"
   ]
  },
  {
   "cell_type": "markdown",
   "id": "90dd896c",
   "metadata": {},
   "source": [
    "## En este caso no se han apreciado transformaciones ni limpiezas necesarias a realizar."
   ]
  },
  {
   "cell_type": "code",
   "execution_count": null,
   "id": "d446d563",
   "metadata": {},
   "outputs": [],
   "source": [
    "#lo siguiente es antiguo. Antes de saber como juntar todas las hojas."
   ]
  },
  {
   "cell_type": "code",
   "execution_count": 2,
   "id": "38b6fe8c",
   "metadata": {},
   "outputs": [],
   "source": [
    "df_o = pd.read_excel(\"archivos/customer-details.xlsx\", index_col=0)"
   ]
  },
  {
   "cell_type": "code",
   "execution_count": 3,
   "id": "2d36d604",
   "metadata": {},
   "outputs": [],
   "source": [
    "df = df_o.copy()"
   ]
  },
  {
   "cell_type": "code",
   "execution_count": 4,
   "id": "19111525",
   "metadata": {},
   "outputs": [
    {
     "data": {
      "text/html": [
       "<div>\n",
       "<style scoped>\n",
       "    .dataframe tbody tr th:only-of-type {\n",
       "        vertical-align: middle;\n",
       "    }\n",
       "\n",
       "    .dataframe tbody tr th {\n",
       "        vertical-align: top;\n",
       "    }\n",
       "\n",
       "    .dataframe thead th {\n",
       "        text-align: right;\n",
       "    }\n",
       "</style>\n",
       "<table border=\"1\" class=\"dataframe\">\n",
       "  <thead>\n",
       "    <tr style=\"text-align: right;\">\n",
       "      <th></th>\n",
       "      <th>Income</th>\n",
       "      <th>Kidhome</th>\n",
       "      <th>Teenhome</th>\n",
       "      <th>Dt_Customer</th>\n",
       "      <th>NumWebVisitsMonth</th>\n",
       "      <th>ID</th>\n",
       "    </tr>\n",
       "  </thead>\n",
       "  <tbody>\n",
       "    <tr>\n",
       "      <th>0</th>\n",
       "      <td>161770</td>\n",
       "      <td>1</td>\n",
       "      <td>0</td>\n",
       "      <td>2012-04-04</td>\n",
       "      <td>29</td>\n",
       "      <td>089b39d8-e4d0-461b-87d4-814d71e0e079</td>\n",
       "    </tr>\n",
       "    <tr>\n",
       "      <th>1</th>\n",
       "      <td>85477</td>\n",
       "      <td>1</td>\n",
       "      <td>1</td>\n",
       "      <td>2012-12-30</td>\n",
       "      <td>7</td>\n",
       "      <td>e9d37224-cb6f-4942-98d7-46672963d097</td>\n",
       "    </tr>\n",
       "    <tr>\n",
       "      <th>2</th>\n",
       "      <td>147233</td>\n",
       "      <td>1</td>\n",
       "      <td>1</td>\n",
       "      <td>2012-02-02</td>\n",
       "      <td>5</td>\n",
       "      <td>3f9f49b5-e410-4948-bf6e-f9244f04918b</td>\n",
       "    </tr>\n",
       "    <tr>\n",
       "      <th>3</th>\n",
       "      <td>121393</td>\n",
       "      <td>1</td>\n",
       "      <td>2</td>\n",
       "      <td>2012-12-21</td>\n",
       "      <td>29</td>\n",
       "      <td>9991fafb-4447-451a-8be2-b0df6098d13e</td>\n",
       "    </tr>\n",
       "    <tr>\n",
       "      <th>4</th>\n",
       "      <td>63164</td>\n",
       "      <td>1</td>\n",
       "      <td>2</td>\n",
       "      <td>2012-06-20</td>\n",
       "      <td>20</td>\n",
       "      <td>eca60b76-70b6-4077-80ba-bc52e8ebb0eb</td>\n",
       "    </tr>\n",
       "  </tbody>\n",
       "</table>\n",
       "</div>"
      ],
      "text/plain": [
       "   Income  Kidhome  Teenhome Dt_Customer  NumWebVisitsMonth  \\\n",
       "0  161770        1         0  2012-04-04                 29   \n",
       "1   85477        1         1  2012-12-30                  7   \n",
       "2  147233        1         1  2012-02-02                  5   \n",
       "3  121393        1         2  2012-12-21                 29   \n",
       "4   63164        1         2  2012-06-20                 20   \n",
       "\n",
       "                                     ID  \n",
       "0  089b39d8-e4d0-461b-87d4-814d71e0e079  \n",
       "1  e9d37224-cb6f-4942-98d7-46672963d097  \n",
       "2  3f9f49b5-e410-4948-bf6e-f9244f04918b  \n",
       "3  9991fafb-4447-451a-8be2-b0df6098d13e  \n",
       "4  eca60b76-70b6-4077-80ba-bc52e8ebb0eb  "
      ]
     },
     "execution_count": 4,
     "metadata": {},
     "output_type": "execute_result"
    }
   ],
   "source": [
    "df.head()"
   ]
  },
  {
   "cell_type": "code",
   "execution_count": 6,
   "id": "8aab4034",
   "metadata": {},
   "outputs": [
    {
     "data": {
      "text/plain": [
       "(20115, 6)"
      ]
     },
     "execution_count": 6,
     "metadata": {},
     "output_type": "execute_result"
    }
   ],
   "source": [
    "df.shape"
   ]
  },
  {
   "cell_type": "code",
   "execution_count": 13,
   "id": "3a1eeb90",
   "metadata": {},
   "outputs": [],
   "source": [
    "df_2012 = pd.read_excel (\"archivos/customer-details.xlsx\", index_col=0,sheet_name='2012')"
   ]
  },
  {
   "cell_type": "code",
   "execution_count": 16,
   "id": "8ec369ba",
   "metadata": {},
   "outputs": [],
   "source": [
    "df_2013 = pd.read_excel (\"archivos/customer-details.xlsx\", index_col=0,sheet_name='2013')"
   ]
  },
  {
   "cell_type": "code",
   "execution_count": 17,
   "id": "33d9ea19",
   "metadata": {},
   "outputs": [],
   "source": [
    "df_2014 = pd.read_excel (\"archivos/customer-details.xlsx\", index_col=0,sheet_name='2014')"
   ]
  },
  {
   "cell_type": "code",
   "execution_count": 28,
   "id": "54008be8",
   "metadata": {},
   "outputs": [
    {
     "data": {
      "text/html": [
       "<div>\n",
       "<style scoped>\n",
       "    .dataframe tbody tr th:only-of-type {\n",
       "        vertical-align: middle;\n",
       "    }\n",
       "\n",
       "    .dataframe tbody tr th {\n",
       "        vertical-align: top;\n",
       "    }\n",
       "\n",
       "    .dataframe thead th {\n",
       "        text-align: right;\n",
       "    }\n",
       "</style>\n",
       "<table border=\"1\" class=\"dataframe\">\n",
       "  <thead>\n",
       "    <tr style=\"text-align: right;\">\n",
       "      <th></th>\n",
       "      <th>Income_x</th>\n",
       "      <th>Kidhome_x</th>\n",
       "      <th>Teenhome_x</th>\n",
       "      <th>Dt_Customer_x</th>\n",
       "      <th>NumWebVisitsMonth_x</th>\n",
       "      <th>ID</th>\n",
       "      <th>Income_y</th>\n",
       "      <th>Kidhome_y</th>\n",
       "      <th>Teenhome_y</th>\n",
       "      <th>Dt_Customer_y</th>\n",
       "      <th>NumWebVisitsMonth_y</th>\n",
       "    </tr>\n",
       "  </thead>\n",
       "  <tbody>\n",
       "    <tr>\n",
       "      <th>0</th>\n",
       "      <td>62489.0</td>\n",
       "      <td>2.0</td>\n",
       "      <td>0.0</td>\n",
       "      <td>2012-01-25</td>\n",
       "      <td>7.0</td>\n",
       "      <td>00024507-c59b-4eee-86d5-cc341b96eb6d</td>\n",
       "      <td>NaN</td>\n",
       "      <td>NaN</td>\n",
       "      <td>NaN</td>\n",
       "      <td>NaT</td>\n",
       "      <td>NaN</td>\n",
       "    </tr>\n",
       "    <tr>\n",
       "      <th>1</th>\n",
       "      <td>27570.0</td>\n",
       "      <td>1.0</td>\n",
       "      <td>2.0</td>\n",
       "      <td>2012-04-14</td>\n",
       "      <td>26.0</td>\n",
       "      <td>000625bd-cc08-4653-b8b7-1853c458527d</td>\n",
       "      <td>NaN</td>\n",
       "      <td>NaN</td>\n",
       "      <td>NaN</td>\n",
       "      <td>NaT</td>\n",
       "      <td>NaN</td>\n",
       "    </tr>\n",
       "    <tr>\n",
       "      <th>2</th>\n",
       "      <td>NaN</td>\n",
       "      <td>NaN</td>\n",
       "      <td>NaN</td>\n",
       "      <td>NaT</td>\n",
       "      <td>NaN</td>\n",
       "      <td>0006c8fd-9dea-439d-a3b9-571b3901ff58</td>\n",
       "      <td>166403.0</td>\n",
       "      <td>1.0</td>\n",
       "      <td>1.0</td>\n",
       "      <td>2013-06-15</td>\n",
       "      <td>29.0</td>\n",
       "    </tr>\n",
       "    <tr>\n",
       "      <th>3</th>\n",
       "      <td>137400.0</td>\n",
       "      <td>1.0</td>\n",
       "      <td>2.0</td>\n",
       "      <td>2012-06-09</td>\n",
       "      <td>10.0</td>\n",
       "      <td>0008228c-57b0-464b-b337-dee02c4e433d</td>\n",
       "      <td>NaN</td>\n",
       "      <td>NaN</td>\n",
       "      <td>NaN</td>\n",
       "      <td>NaT</td>\n",
       "      <td>NaN</td>\n",
       "    </tr>\n",
       "    <tr>\n",
       "      <th>4</th>\n",
       "      <td>NaN</td>\n",
       "      <td>NaN</td>\n",
       "      <td>NaN</td>\n",
       "      <td>NaT</td>\n",
       "      <td>NaN</td>\n",
       "      <td>00094f46-568d-4309-9bf9-d591a45e03da</td>\n",
       "      <td>66837.0</td>\n",
       "      <td>0.0</td>\n",
       "      <td>1.0</td>\n",
       "      <td>2013-05-04</td>\n",
       "      <td>19.0</td>\n",
       "    </tr>\n",
       "    <tr>\n",
       "      <th>...</th>\n",
       "      <td>...</td>\n",
       "      <td>...</td>\n",
       "      <td>...</td>\n",
       "      <td>...</td>\n",
       "      <td>...</td>\n",
       "      <td>...</td>\n",
       "      <td>...</td>\n",
       "      <td>...</td>\n",
       "      <td>...</td>\n",
       "      <td>...</td>\n",
       "      <td>...</td>\n",
       "    </tr>\n",
       "    <tr>\n",
       "      <th>29075</th>\n",
       "      <td>56188.0</td>\n",
       "      <td>2.0</td>\n",
       "      <td>1.0</td>\n",
       "      <td>2012-06-30</td>\n",
       "      <td>24.0</td>\n",
       "      <td>fff1b2e4-477f-4075-9973-1b84d92a5084</td>\n",
       "      <td>NaN</td>\n",
       "      <td>NaN</td>\n",
       "      <td>NaN</td>\n",
       "      <td>NaT</td>\n",
       "      <td>NaN</td>\n",
       "    </tr>\n",
       "    <tr>\n",
       "      <th>29076</th>\n",
       "      <td>112653.0</td>\n",
       "      <td>2.0</td>\n",
       "      <td>1.0</td>\n",
       "      <td>2012-01-20</td>\n",
       "      <td>25.0</td>\n",
       "      <td>fff67187-c301-41e8-a58a-b2daf7ff17e0</td>\n",
       "      <td>NaN</td>\n",
       "      <td>NaN</td>\n",
       "      <td>NaN</td>\n",
       "      <td>NaT</td>\n",
       "      <td>NaN</td>\n",
       "    </tr>\n",
       "    <tr>\n",
       "      <th>29077</th>\n",
       "      <td>NaN</td>\n",
       "      <td>NaN</td>\n",
       "      <td>NaN</td>\n",
       "      <td>NaT</td>\n",
       "      <td>NaN</td>\n",
       "      <td>fffd1227-80ee-4feb-98e0-3e4c7f8c30fd</td>\n",
       "      <td>47325.0</td>\n",
       "      <td>0.0</td>\n",
       "      <td>2.0</td>\n",
       "      <td>2013-10-02</td>\n",
       "      <td>1.0</td>\n",
       "    </tr>\n",
       "    <tr>\n",
       "      <th>29078</th>\n",
       "      <td>NaN</td>\n",
       "      <td>NaN</td>\n",
       "      <td>NaN</td>\n",
       "      <td>NaT</td>\n",
       "      <td>NaN</td>\n",
       "      <td>fffe3fc3-ee08-41f1-82e0-872d9d90f51a</td>\n",
       "      <td>20846.0</td>\n",
       "      <td>1.0</td>\n",
       "      <td>2.0</td>\n",
       "      <td>2013-09-04</td>\n",
       "      <td>21.0</td>\n",
       "    </tr>\n",
       "    <tr>\n",
       "      <th>29079</th>\n",
       "      <td>29881.0</td>\n",
       "      <td>2.0</td>\n",
       "      <td>1.0</td>\n",
       "      <td>2012-08-05</td>\n",
       "      <td>4.0</td>\n",
       "      <td>fffe84df-4e63-4465-82de-0d9821d919bf</td>\n",
       "      <td>NaN</td>\n",
       "      <td>NaN</td>\n",
       "      <td>NaN</td>\n",
       "      <td>NaT</td>\n",
       "      <td>NaN</td>\n",
       "    </tr>\n",
       "  </tbody>\n",
       "</table>\n",
       "<p>29080 rows × 11 columns</p>\n",
       "</div>"
      ],
      "text/plain": [
       "       Income_x  Kidhome_x  Teenhome_x Dt_Customer_x  NumWebVisitsMonth_x  \\\n",
       "0       62489.0        2.0         0.0    2012-01-25                  7.0   \n",
       "1       27570.0        1.0         2.0    2012-04-14                 26.0   \n",
       "2           NaN        NaN         NaN           NaT                  NaN   \n",
       "3      137400.0        1.0         2.0    2012-06-09                 10.0   \n",
       "4           NaN        NaN         NaN           NaT                  NaN   \n",
       "...         ...        ...         ...           ...                  ...   \n",
       "29075   56188.0        2.0         1.0    2012-06-30                 24.0   \n",
       "29076  112653.0        2.0         1.0    2012-01-20                 25.0   \n",
       "29077       NaN        NaN         NaN           NaT                  NaN   \n",
       "29078       NaN        NaN         NaN           NaT                  NaN   \n",
       "29079   29881.0        2.0         1.0    2012-08-05                  4.0   \n",
       "\n",
       "                                         ID  Income_y  Kidhome_y  Teenhome_y  \\\n",
       "0      00024507-c59b-4eee-86d5-cc341b96eb6d       NaN        NaN         NaN   \n",
       "1      000625bd-cc08-4653-b8b7-1853c458527d       NaN        NaN         NaN   \n",
       "2      0006c8fd-9dea-439d-a3b9-571b3901ff58  166403.0        1.0         1.0   \n",
       "3      0008228c-57b0-464b-b337-dee02c4e433d       NaN        NaN         NaN   \n",
       "4      00094f46-568d-4309-9bf9-d591a45e03da   66837.0        0.0         1.0   \n",
       "...                                     ...       ...        ...         ...   \n",
       "29075  fff1b2e4-477f-4075-9973-1b84d92a5084       NaN        NaN         NaN   \n",
       "29076  fff67187-c301-41e8-a58a-b2daf7ff17e0       NaN        NaN         NaN   \n",
       "29077  fffd1227-80ee-4feb-98e0-3e4c7f8c30fd   47325.0        0.0         2.0   \n",
       "29078  fffe3fc3-ee08-41f1-82e0-872d9d90f51a   20846.0        1.0         2.0   \n",
       "29079  fffe84df-4e63-4465-82de-0d9821d919bf       NaN        NaN         NaN   \n",
       "\n",
       "      Dt_Customer_y  NumWebVisitsMonth_y  \n",
       "0               NaT                  NaN  \n",
       "1               NaT                  NaN  \n",
       "2        2013-06-15                 29.0  \n",
       "3               NaT                  NaN  \n",
       "4        2013-05-04                 19.0  \n",
       "...             ...                  ...  \n",
       "29075           NaT                  NaN  \n",
       "29076           NaT                  NaN  \n",
       "29077    2013-10-02                  1.0  \n",
       "29078    2013-09-04                 21.0  \n",
       "29079           NaT                  NaN  \n",
       "\n",
       "[29080 rows x 11 columns]"
      ]
     },
     "execution_count": 28,
     "metadata": {},
     "output_type": "execute_result"
    }
   ],
   "source": [
    "pd.merge(df_2012,df_2013, how = 'outer', on = 'ID')"
   ]
  },
  {
   "cell_type": "markdown",
   "id": "e56032f1",
   "metadata": {},
   "source": [
    "EDA preliminar de los datos:\n",
    "\n",
    "Columnas:\n",
    "●\tIncome: Representa el ingreso anual del cliente en términos monetarios.\n",
    "●\tKidhome: Indica el número de niños en el hogar del cliente.\n",
    "●\tTeenhome: Indica el número de adolescentes en el hogar del cliente.\n",
    "●\tDt_Customer: Representa la fecha en que el cliente se convirtió en cliente de la empresa.\n",
    "●\tNumWebVisitsMonth: Indica la cantidad de visitas mensuales del cliente al sitio web de la empresa.\n",
    "●\tID: Identificador único del cliente.\n"
   ]
  },
  {
   "cell_type": "code",
   "execution_count": 7,
   "id": "a355a628",
   "metadata": {},
   "outputs": [
    {
     "name": "stdout",
     "output_type": "stream",
     "text": [
      "<class 'pandas.core.frame.DataFrame'>\n",
      "Index: 20115 entries, 0 to 20114\n",
      "Data columns (total 6 columns):\n",
      " #   Column             Non-Null Count  Dtype         \n",
      "---  ------             --------------  -----         \n",
      " 0   Income             20115 non-null  int64         \n",
      " 1   Kidhome            20115 non-null  int64         \n",
      " 2   Teenhome           20115 non-null  int64         \n",
      " 3   Dt_Customer        20115 non-null  datetime64[ns]\n",
      " 4   NumWebVisitsMonth  20115 non-null  int64         \n",
      " 5   ID                 20115 non-null  object        \n",
      "dtypes: datetime64[ns](1), int64(4), object(1)\n",
      "memory usage: 1.1+ MB\n"
     ]
    }
   ],
   "source": [
    "df.info()"
   ]
  },
  {
   "cell_type": "code",
   "execution_count": 9,
   "id": "80e3ced6",
   "metadata": {},
   "outputs": [
    {
     "data": {
      "text/plain": [
       "Income               0\n",
       "Kidhome              0\n",
       "Teenhome             0\n",
       "Dt_Customer          0\n",
       "NumWebVisitsMonth    0\n",
       "ID                   0\n",
       "dtype: int64"
      ]
     },
     "execution_count": 9,
     "metadata": {},
     "output_type": "execute_result"
    }
   ],
   "source": [
    "df.isnull().sum()"
   ]
  },
  {
   "cell_type": "code",
   "execution_count": 11,
   "id": "359f4900",
   "metadata": {},
   "outputs": [
    {
     "data": {
      "text/html": [
       "<div>\n",
       "<style scoped>\n",
       "    .dataframe tbody tr th:only-of-type {\n",
       "        vertical-align: middle;\n",
       "    }\n",
       "\n",
       "    .dataframe tbody tr th {\n",
       "        vertical-align: top;\n",
       "    }\n",
       "\n",
       "    .dataframe thead th {\n",
       "        text-align: right;\n",
       "    }\n",
       "</style>\n",
       "<table border=\"1\" class=\"dataframe\">\n",
       "  <thead>\n",
       "    <tr style=\"text-align: right;\">\n",
       "      <th></th>\n",
       "      <th>count</th>\n",
       "      <th>mean</th>\n",
       "      <th>min</th>\n",
       "      <th>25%</th>\n",
       "      <th>50%</th>\n",
       "      <th>75%</th>\n",
       "      <th>max</th>\n",
       "      <th>std</th>\n",
       "    </tr>\n",
       "  </thead>\n",
       "  <tbody>\n",
       "    <tr>\n",
       "      <th>Income</th>\n",
       "      <td>20115.0</td>\n",
       "      <td>93087.213224</td>\n",
       "      <td>5852.0</td>\n",
       "      <td>49110.0</td>\n",
       "      <td>92962.0</td>\n",
       "      <td>136705.0</td>\n",
       "      <td>180791.0</td>\n",
       "      <td>50614.798255</td>\n",
       "    </tr>\n",
       "    <tr>\n",
       "      <th>Kidhome</th>\n",
       "      <td>20115.0</td>\n",
       "      <td>1.004176</td>\n",
       "      <td>0.0</td>\n",
       "      <td>0.0</td>\n",
       "      <td>1.0</td>\n",
       "      <td>2.0</td>\n",
       "      <td>2.0</td>\n",
       "      <td>0.816811</td>\n",
       "    </tr>\n",
       "    <tr>\n",
       "      <th>Teenhome</th>\n",
       "      <td>20115.0</td>\n",
       "      <td>0.999503</td>\n",
       "      <td>0.0</td>\n",
       "      <td>0.0</td>\n",
       "      <td>1.0</td>\n",
       "      <td>2.0</td>\n",
       "      <td>2.0</td>\n",
       "      <td>0.815298</td>\n",
       "    </tr>\n",
       "    <tr>\n",
       "      <th>Dt_Customer</th>\n",
       "      <td>20115</td>\n",
       "      <td>2012-07-01 17:15:14.362416128</td>\n",
       "      <td>2012-01-01 00:00:00</td>\n",
       "      <td>2012-04-01 00:00:00</td>\n",
       "      <td>2012-07-02 00:00:00</td>\n",
       "      <td>2012-09-30 00:00:00</td>\n",
       "      <td>2012-12-31 00:00:00</td>\n",
       "      <td>NaN</td>\n",
       "    </tr>\n",
       "    <tr>\n",
       "      <th>NumWebVisitsMonth</th>\n",
       "      <td>20115.0</td>\n",
       "      <td>16.54079</td>\n",
       "      <td>1.0</td>\n",
       "      <td>9.0</td>\n",
       "      <td>16.0</td>\n",
       "      <td>25.0</td>\n",
       "      <td>32.0</td>\n",
       "      <td>9.235324</td>\n",
       "    </tr>\n",
       "  </tbody>\n",
       "</table>\n",
       "</div>"
      ],
      "text/plain": [
       "                     count                           mean  \\\n",
       "Income             20115.0                   93087.213224   \n",
       "Kidhome            20115.0                       1.004176   \n",
       "Teenhome           20115.0                       0.999503   \n",
       "Dt_Customer          20115  2012-07-01 17:15:14.362416128   \n",
       "NumWebVisitsMonth  20115.0                       16.54079   \n",
       "\n",
       "                                   min                  25%  \\\n",
       "Income                          5852.0              49110.0   \n",
       "Kidhome                            0.0                  0.0   \n",
       "Teenhome                           0.0                  0.0   \n",
       "Dt_Customer        2012-01-01 00:00:00  2012-04-01 00:00:00   \n",
       "NumWebVisitsMonth                  1.0                  9.0   \n",
       "\n",
       "                                   50%                  75%  \\\n",
       "Income                         92962.0             136705.0   \n",
       "Kidhome                            1.0                  2.0   \n",
       "Teenhome                           1.0                  2.0   \n",
       "Dt_Customer        2012-07-02 00:00:00  2012-09-30 00:00:00   \n",
       "NumWebVisitsMonth                 16.0                 25.0   \n",
       "\n",
       "                                   max           std  \n",
       "Income                        180791.0  50614.798255  \n",
       "Kidhome                            2.0      0.816811  \n",
       "Teenhome                           2.0      0.815298  \n",
       "Dt_Customer        2012-12-31 00:00:00           NaN  \n",
       "NumWebVisitsMonth                 32.0      9.235324  "
      ]
     },
     "execution_count": 11,
     "metadata": {},
     "output_type": "execute_result"
    }
   ],
   "source": [
    "df.describe().T"
   ]
  }
 ],
 "metadata": {
  "kernelspec": {
   "display_name": "Python 3",
   "language": "python",
   "name": "python3"
  },
  "language_info": {
   "codemirror_mode": {
    "name": "ipython",
    "version": 3
   },
   "file_extension": ".py",
   "mimetype": "text/x-python",
   "name": "python",
   "nbconvert_exporter": "python",
   "pygments_lexer": "ipython3",
   "version": "3.13.5"
  }
 },
 "nbformat": 4,
 "nbformat_minor": 5
}
