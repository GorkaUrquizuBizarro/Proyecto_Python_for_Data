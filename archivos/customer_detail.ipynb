{
 "cells": [
  {
   "cell_type": "markdown",
   "id": "2bda980f",
   "metadata": {},
   "source": [
    "# Carga de datos Excell"
   ]
  },
  {
   "cell_type": "code",
   "execution_count": 1,
   "id": "f25b098e",
   "metadata": {},
   "outputs": [],
   "source": [
    "import pandas as pd\n",
    "import numpy as np"
   ]
  },
  {
   "cell_type": "code",
   "execution_count": 26,
   "id": "910364c8",
   "metadata": {},
   "outputs": [],
   "source": [
    "# Cargar todas las hojas del archivo Excel pero no las une todavia.\n",
    "\n",
    "df_completo = pd.read_excel(r'C:\\Users\\usuario\\Documents\\Profesional\\Mercanza\\Data Analitics\\M6_Python_for_data\\Proyecto_Python_for_Data\\datos\\customer-details.xlsx', sheet_name=None,index_col=0)  # carga todas las hojas"
   ]
  },
  {
   "cell_type": "code",
   "execution_count": 27,
   "id": "1b0db1fc",
   "metadata": {},
   "outputs": [],
   "source": [
    "# Unir todas las hojas en un solo DataFrame\n",
    "df_unido = pd.concat(df_completo.values(), ignore_index=True)"
   ]
  },
  {
   "cell_type": "code",
   "execution_count": 28,
   "id": "a4436722",
   "metadata": {},
   "outputs": [
    {
     "data": {
      "text/plain": [
       "(43170, 6)"
      ]
     },
     "execution_count": 28,
     "metadata": {},
     "output_type": "execute_result"
    }
   ],
   "source": [
    "df_unido.shape\n",
    "#aqui podemos verificar que el df tiene muchas filas que una sola de las hojas del Excel."
   ]
  },
  {
   "cell_type": "code",
   "execution_count": 29,
   "id": "8511b64d",
   "metadata": {},
   "outputs": [
    {
     "data": {
      "text/html": [
       "<div>\n",
       "<style scoped>\n",
       "    .dataframe tbody tr th:only-of-type {\n",
       "        vertical-align: middle;\n",
       "    }\n",
       "\n",
       "    .dataframe tbody tr th {\n",
       "        vertical-align: top;\n",
       "    }\n",
       "\n",
       "    .dataframe thead th {\n",
       "        text-align: right;\n",
       "    }\n",
       "</style>\n",
       "<table border=\"1\" class=\"dataframe\">\n",
       "  <thead>\n",
       "    <tr style=\"text-align: right;\">\n",
       "      <th></th>\n",
       "      <th>Income</th>\n",
       "      <th>Kidhome</th>\n",
       "      <th>Teenhome</th>\n",
       "      <th>Dt_Customer</th>\n",
       "      <th>NumWebVisitsMonth</th>\n",
       "      <th>ID</th>\n",
       "    </tr>\n",
       "  </thead>\n",
       "  <tbody>\n",
       "    <tr>\n",
       "      <th>0</th>\n",
       "      <td>161770</td>\n",
       "      <td>1</td>\n",
       "      <td>0</td>\n",
       "      <td>2012-04-04</td>\n",
       "      <td>29</td>\n",
       "      <td>089b39d8-e4d0-461b-87d4-814d71e0e079</td>\n",
       "    </tr>\n",
       "    <tr>\n",
       "      <th>1</th>\n",
       "      <td>85477</td>\n",
       "      <td>1</td>\n",
       "      <td>1</td>\n",
       "      <td>2012-12-30</td>\n",
       "      <td>7</td>\n",
       "      <td>e9d37224-cb6f-4942-98d7-46672963d097</td>\n",
       "    </tr>\n",
       "    <tr>\n",
       "      <th>2</th>\n",
       "      <td>147233</td>\n",
       "      <td>1</td>\n",
       "      <td>1</td>\n",
       "      <td>2012-02-02</td>\n",
       "      <td>5</td>\n",
       "      <td>3f9f49b5-e410-4948-bf6e-f9244f04918b</td>\n",
       "    </tr>\n",
       "    <tr>\n",
       "      <th>3</th>\n",
       "      <td>121393</td>\n",
       "      <td>1</td>\n",
       "      <td>2</td>\n",
       "      <td>2012-12-21</td>\n",
       "      <td>29</td>\n",
       "      <td>9991fafb-4447-451a-8be2-b0df6098d13e</td>\n",
       "    </tr>\n",
       "  </tbody>\n",
       "</table>\n",
       "</div>"
      ],
      "text/plain": [
       "   Income  Kidhome  Teenhome Dt_Customer  NumWebVisitsMonth  \\\n",
       "0  161770        1         0  2012-04-04                 29   \n",
       "1   85477        1         1  2012-12-30                  7   \n",
       "2  147233        1         1  2012-02-02                  5   \n",
       "3  121393        1         2  2012-12-21                 29   \n",
       "\n",
       "                                     ID  \n",
       "0  089b39d8-e4d0-461b-87d4-814d71e0e079  \n",
       "1  e9d37224-cb6f-4942-98d7-46672963d097  \n",
       "2  3f9f49b5-e410-4948-bf6e-f9244f04918b  \n",
       "3  9991fafb-4447-451a-8be2-b0df6098d13e  "
      ]
     },
     "execution_count": 29,
     "metadata": {},
     "output_type": "execute_result"
    }
   ],
   "source": [
    "df_unido.head(4)"
   ]
  },
  {
   "cell_type": "markdown",
   "id": "71cf135a",
   "metadata": {},
   "source": [
    "# Union de los datos de las hojas del Excel."
   ]
  },
  {
   "cell_type": "code",
   "execution_count": null,
   "id": "ceee4fc4",
   "metadata": {},
   "outputs": [],
   "source": [
    "#vamos a ver si podemos unir los dos archivos de datos en un mismo DATAFRAME y así trabajar un único conjunto de datos."
   ]
  },
  {
   "cell_type": "code",
   "execution_count": null,
   "id": "787c5a49",
   "metadata": {},
   "outputs": [],
   "source": [
    "#Para ello vamos a volver a cargar los datos del csv y ver si podemos unirlos por una columna en común.\n",
    "df_bank_additional_o = pd.read_csv(r'C:\\Users\\usuario\\Documents\\Profesional\\Mercanza\\Data Analitics\\M6_Python_for_data\\Proyecto_Python_for_Data\\datos\\bank_additional.csv',index_col=0)"
   ]
  },
  {
   "cell_type": "code",
   "execution_count": null,
   "id": "11225f97",
   "metadata": {},
   "outputs": [],
   "source": [
    "df = df_bank_additional_o.copy()"
   ]
  },
  {
   "cell_type": "code",
   "execution_count": null,
   "id": "5339516d",
   "metadata": {},
   "outputs": [],
   "source": [
    "#verificamos que es el archivo a comparar.\n",
    "df.head(4)"
   ]
  },
  {
   "cell_type": "code",
   "execution_count": null,
   "id": "06cb2fd8",
   "metadata": {},
   "outputs": [],
   "source": [
    "todos_existen = df_unido['ID'].isin(df['id_']).all()\n",
    "print(\"¿Todos los IDs de df1 están en df2?:\", todos_existen)\n",
    "#con esto comprobamos que los ids de ambos archivos de datos son diferentes por lo que no podriamos juntarlos."
   ]
  },
  {
   "cell_type": "code",
   "execution_count": null,
   "id": "abe738eb",
   "metadata": {},
   "outputs": [],
   "source": [
    "df_concatenado = pd.concat([df, df_unido], axis=0)\n",
    "df_concatenado.sample(2)\n",
    "#volvemos a realizar una comprobación y vemos que ahora tendriamos dos columnas ids por lo que se entiende que no se puede\n",
    "#hacer la union de ambas."
   ]
  },
  {
   "cell_type": "code",
   "execution_count": null,
   "id": "5d2b79bf",
   "metadata": {},
   "outputs": [],
   "source": [
    "#de hecho podemos comprobar que al hacer la concatenación generamos miles de nulos.\n",
    "df_concatenado.isnull().sum()"
   ]
  },
  {
   "cell_type": "markdown",
   "id": "f19f7035",
   "metadata": {},
   "source": [
    "# EDA preliminar antes de limpieza y transformación de datos"
   ]
  },
  {
   "cell_type": "markdown",
   "id": "6f4b3635",
   "metadata": {},
   "source": [
    "- **Income**: Representa el ingreso anual del cliente en términos monetarios.\n",
    "- **Kidhome**: Indica el número de niños en el hogar del cliente.\n",
    "- **Teenhome**: Indica el número de adolescentes en el hogar del cliente.\n",
    "- **Dt_Customer**: Representa la fecha en que el cliente se convirtió en cliente de la empresa.\n",
    "- **NumWebVisitsMonth**: Indica la cantidad de visitas mensuales del cliente al sitio web de la empresa.\n",
    "- **ID**: Identificador único del cliente.\n"
   ]
  },
  {
   "cell_type": "code",
   "execution_count": 8,
   "id": "1198a656",
   "metadata": {},
   "outputs": [],
   "source": [
    "df_o = pd.read_excel(r'C:\\Users\\usuario\\Documents\\Profesional\\Mercanza\\Data Analitics\\M6_Python_for_data\\Proyecto_Python_for_Data\\datos\\customer-details.xlsx', index_col=0)"
   ]
  },
  {
   "cell_type": "code",
   "execution_count": null,
   "id": "90090994",
   "metadata": {},
   "outputs": [],
   "source": [
    "df=df_o.copy()\n",
    "df"
   ]
  },
  {
   "cell_type": "code",
   "execution_count": null,
   "id": "396cd1b4",
   "metadata": {},
   "outputs": [],
   "source": [
    "df.describe().T"
   ]
  },
  {
   "cell_type": "code",
   "execution_count": null,
   "id": "af9e4251",
   "metadata": {},
   "outputs": [],
   "source": [
    "df.dtypes\n",
    "#los tipos son correctos. No hay nada que cambiar"
   ]
  },
  {
   "cell_type": "code",
   "execution_count": null,
   "id": "ebed2488",
   "metadata": {},
   "outputs": [],
   "source": [
    "df.isnull().sum()\n",
    "#no tiene nulos."
   ]
  },
  {
   "cell_type": "code",
   "execution_count": null,
   "id": "65f9a2f2",
   "metadata": {},
   "outputs": [],
   "source": [
    "df.duplicated().sum()\n",
    "#no tiene duplicados."
   ]
  },
  {
   "cell_type": "code",
   "execution_count": null,
   "id": "90419616",
   "metadata": {},
   "outputs": [],
   "source": [
    "#Tras el EDA PRELIMINAR podemos verificar que no existe trabajo de \"Transformación o limpieza que realizar en estos datos\"\n",
    "#Podemos considerar que el conjunto de datos esta OK."
   ]
  },
  {
   "cell_type": "markdown",
   "id": "8b527f01",
   "metadata": {},
   "source": [
    "# Transformación y limpieza de datos tras el EDA Preliminar"
   ]
  },
  {
   "cell_type": "markdown",
   "id": "90dd896c",
   "metadata": {},
   "source": [
    "En este caso no se han apreciado transformaciones ni limpiezas necesarias a realizar."
   ]
  },
  {
   "cell_type": "markdown",
   "id": "600ce47c",
   "metadata": {},
   "source": [
    "# Gestion de Nulos"
   ]
  },
  {
   "cell_type": "markdown",
   "id": "34966e16",
   "metadata": {},
   "source": [
    "No existen nulos en este conjunto de datos."
   ]
  }
 ],
 "metadata": {
  "kernelspec": {
   "display_name": "Python 3",
   "language": "python",
   "name": "python3"
  },
  "language_info": {
   "codemirror_mode": {
    "name": "ipython",
    "version": 3
   },
   "file_extension": ".py",
   "mimetype": "text/x-python",
   "name": "python",
   "nbconvert_exporter": "python",
   "pygments_lexer": "ipython3",
   "version": "3.13.5"
  }
 },
 "nbformat": 4,
 "nbformat_minor": 5
}
